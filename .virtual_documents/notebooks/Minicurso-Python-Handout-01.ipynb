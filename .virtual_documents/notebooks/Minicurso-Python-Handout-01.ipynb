from math import sqrt

a = 2
b = 1
c = -1
delta = b**2 - 4*a*c
x1 = (-b + sqrt(delta))/(2*a)
x2 = (-b - sqrt(delta))/(2*a)
print('A primeira raiz é:', x1)
print('A segunda raiz é:', x2)


print("Hello world!")
