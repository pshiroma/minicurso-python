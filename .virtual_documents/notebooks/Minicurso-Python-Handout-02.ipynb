x = 4


x = 23
x = 3.14
x = True
x = None


print( type( 42 ) )
print( type( 3.14 ) )
print( type( 'Um texto' ) )
print( type( True ) )

x = 123
print ('Tipo da variável x:', type( x ))

x = True
print ('Novo tipo da variável x:', type( x ))


x = int(3.1)
print(x)
x = float(3)
print(x)
x = int('4')
print(x)
x = str(4)
print(x)
x = bool(0)
print(x)


x = input('Entre com um dado: ')


# O comando input retorna uma string
type(x)


x = int(x)
type(x)


# Programa Hello World!
print("Ola mundo!")


# Imprimindo o valor de uma variável
print(x)


# Imprimindo texto + variável
print('O valor que você entrou foi:', x)


y = 3
print('O valor de x é', x, 'e o de y é', y)


# Mudando o separador:
print(x, y, sep='zzz')


# Mudando o caracter final
print(x)
print(y)


print(x, end='/')
print(y)


print(f'O valor de y é {y}')


print(f'O valor de y com 2 casas decimais é {y:.2f}. Agora com 4 casas: {y:.4f}')


print(f'O valor de 10y é {10*y}')


print(f'Imprimindo y com 6 caracteres no total, sendo 2 casas decimais: {y:6.2f}')
print(f'Imprimindo y com 6 caracteres no total, preenchendo de zeros à esquerda e 2 casas decimais: {y:06.2f}')
print(f'Convertendo para porcentagem com 2 casas decimais: {y:.2%}')


# Operações básicas
10 + 20/2*10


# Mudando a precedência
10 + 20/(2 * 10)


# Divisão inteira
20//3


# Resto da divisão
20%3


# Valor absoluto e potência
abs(10 - 5**2)


a = 2
b = 1
c = -1
y = a*x**2 + b*x + c
print(y)


V = True
F = False


# Igual
V == F


# Diferente
V != F


not V


# Operador AND
V and F


# Operador OR
True or False


5 < 10 or 7 == 10


print(5 < 3 or 9 <= 9)


print(3 != 2 + 1 and 2 < 1 or not 5 < 2**2)


# Exemplo de if
if 5 < 7:
    print('5 é menor que 7')


# Exemplo com vários comandos
temperatura = float(input('Entre com a temperatura: '))
if temperatura > 37.8:
    print('Atenção! Você está com febre')
    print('Procure um médico')
print('Obrigado!')    


# Exemplo
nota = 47
if nota >= 60:
    print('Você passou')
    print('Parabens!')
else:
    print('Você está de recuperação')


# Exemplo de elseif
x = 10
y = 3
if x > y:
    print('x é maior que y')
elif x == y:
    print('x é igual a y')
else:
    print('x é menor a y')    


# Podemos colocar um IF dentro de outro IF:
x = 12
if x > 10:
    print('x é maior que 10')
    if x > 20:
        print('x também é maior que 20')


numero = int(input(''))
resto = numero%2
if resto == 0:
    print(numero, 'é par')
else:
    print(numero, 'é ímpar')
    


litros = float(input('Entre com a quantidade de litros abastecida: '))

preco = 7.6
if litros <= 20:
    valor = preco*litros
else:
    adicionais = litros - 20
    valor = preco*20 + preco*0.8*adicionais
print('O valor a ser pago é de: ', valor)


# Exemplo de laço for usando lista
frutas = ["maça", "banana", "uva"]

for f in frutas:
    print(f)


# Podemos interromper o laço for usando o comando break
frutas = ["maça", "banana", "uva", "melancia"]
for f in frutas:
    print(f)
    if f == "banana":
        break


# Podemos pular uma iteração do laço usando o comando continue
frutas = ["maça", "banana", "uva", "melancia"]
for f in frutas:
    if f == "banana" or f == "uva": continue
    print(f)



# A função range cria uma sequencia de numeros variando de 0 até n-1
# https://www.w3schools.com/python/ref_func_range.asp
for i in range(6):
    print(i)


# o intervalo da funcao range pode conter um inicio e um fim:
for i in range(3,8):
    print(i)


# a funcao range aceita um incremento diferente de 1:
for i in range(3,10,2):
    print(i)


# a funcao range aceita incremento negativo:
for i in range(20,2,-2):
    print(i)


# a funcao range NAO funciona com valores float:
for i in range(0, 1, 0.1):
    print(i)


# Laço for aninhado
for i in range(1,4):
    print('Tabuado do ', i)
    for j in range(1,11):
        print(f'{i} x {j} = {i*j}')


# Exemplo:
# Vamos utilizar a função cosseno da biblioteca math
import math

x = math.cos(0)
print(x)


# Exemplo:
# Vamos importar a biblioteca "math" com o nome "m"
import math as m

x = m.tan(m.pi/4)

print(x)


# vamos importar apenas a funcao sin da biblioteca math
from math import sin

sin(0)


import random


x = random.randint(1,10)
print('O valor sorteado foi:', x)


from math import pi


raio = float(input("Entre com o raio: ")) 
area = pi * raio ** 2
print("A área é de", area)


import numpy as np

v = np.array([10, 2, 5, 3, 6, 9])
print(v)
# Existem 2 formas de utilizar as funções presentes na biblioteca Numpy:
print(v.mean(), np.mean(v))
print(v.max(), np.max(v))
print(v.min(), np.min(v))
print(v.std(), np.std(v))
print(v.sum(), np.sum(v))

# Para alterar o valor de um elemento do vetor, utilizamos o índice:
v[2] = -1
print(v)

# Somando um escalar:
print(v + 10)

# Multiplicando todos os valores:
print(v*5)

# Elevando todos os valores ao quadrado:
print(v**2)

# Somando 2 vetores:
w = np.array([1, 2, 3, 4, 5, 6])
print(v + w)

# Realizando o produto interno de 2 vetores:
print(v @ w)
print(np.dot(v,w))


M = np.array([ [1,2,3], [4,5,6] ])
print(M)
print(M[0][2])


i = 1
# criando uma matriz com 4 linhas e 3 colunas
M = np.zeros((4,3))
for LIN in range(4):
    for COL in range(3):
        M[LIN][COL] = i
        i += 1
print(M)


import numpy as np
A = np.array([[2, 4], [3, 1]])
b = np.array([1, 4])
np.linalg.solve(A,b)
#np.linalg.inv(A) @ b


import numpy as np
MA = 1000
A = np.array([[0.9, 0.08], [0.1, 0.92] ])
b = np.array([0.5*MA,0.5*MA])
np.linalg.solve(A,b)


import matplotlib.pyplot as plt
import numpy as np

# Generate some random data
x = np.arange(0, 10, 0.1)
y = np.sin(x)

# Create the plot
plt.plot(x, y)
plt.xlabel('x')
plt.ylabel('y')
plt.title('Seno')
plt.show()


# Exemplo de criacao de uma funcao:
def exemplo_de_funcao():
    print('Hello world!')


# Chamando a função definida acima:
exemplo_de_funcao()


# Exemplo de criacao de uma funcao com o texto de help:
def exemplo_de_funcao2():
    """
    Esta função imprime o texto Hello world na tela
    """
    print('Hello world!')


help(exemplo_de_funcao2)


help(exemplo_de_funcao2)


# Exemplo de funcao com 1 parâmetro de entrada:
def quadrado(numero):
    quad = numero**2
    print('O quadrado de', numero, 'é', quad)


x = 2
quadrado(10)


# Exemplo de funcao com 2 parâmetros de entrada:
def imc(peso, altura):
    '''
    Calcula e imprime o IMC (índice de massa corporal)
    '''
    imc = peso/(altura*altura)
    print(f'Seu imc é de {imc:.2f}')


imc(42, 1.7)


# Exemplo de funcao com retorno
def quadrado(n):
    '''
    Calcula o quadrado de um número
    '''
    r = n**2
    return r


x = quadrado(6)
print(x)


from random import randint


def sorteia_ponto():
    """
    Sorteia um ponto de coordenadas (x,y).
    As coordenadas são geradas de forma aleatórias, e encontram-se no intervalo de 0 a 100
    """
    x = randint(0,100)
    y = randint(0,100)
    return x,y


help(sorteia_ponto)


# É possível salvar os valores de retorno em variáveis separadas
x,y = sorteia_ponto()
print(x,y)


import math as m

# Modelo da massa oscilando no tempo:
def mx(t):
    return 5*m.cos(2*t+0.2)


# calcula a distancia da funcao 
def g(x, t, xg):
    return x(t) - xg


# rodando a funcao g:
# Determinando a distancia de x(5) em relação ao ponto 4
g(mx, 5, 4)


# Exemplo de passagem de função como parâmetro

import math as m

# calcula xcos(x)
def f1(x):
    return x**2 - 5*x

# calcula ln(x) + x
def f2(x):
    return m.log(x) + x

# A função g recebe uma função como entrada e um parâmetro n
def g(f, x):
    print('O valor calculado foi de', f(x))


g(f1, 8) # f1(10)
g(f2, 8) # f2(10)


def par(n):
    if type(n) == int or type(n) == float:
        if n%2 == 0:
            return True
        else:
            return False
    else:
        print('Por favor, entre com um numero inteiro')


par(5.0)


def entre0e10(n):
    if type(n) == int or type(n) == float:
        if n >= 0 and n <= 10:
            return True
        else:
            return False
    else:
        print('Esta funcao esperava um numero como entrada')


entre0e10(2)


from math import pi
def volume(R):
    V = (4/3)*pi*R**3
    return V


volume(2)








def funcao(x):
    return -12 -21*x + 18*x**2 - 2.75*x**3

def raiz(x, f):
    y = f(x)
    return abs(y) < 1e-6


#raiz(-0.41468941, funcao1)
raiz(10, funcao2)


from scipy.optimize import minimize_scalar

# Definindo a função objetivo a ser minimizada
def f(x):
    return (x - 2) ** 2 + 3

# encontrando o mínimo da função
res = minimize_scalar(f)

# Imprimindo o valor de f(min) e min
print('f(x) mínimo:', res.fun)
print('x mínimo:', res.x)





import scipy.optimize as opt

def f(X):
    # 2 + x1 - x2 +2x1^2 + 2x1x2 + x2^2
    x1 = X[0]
    x2 = X[1]
    return 2 + x1 - x2 + 2*x1**2 + 2*x1*x2 + x2**2
    
def jacobiano(X):
    # [1 + 4x1 +2x2 ; -1 + 2x1 + 2x2]
    x1 = X[0]
    x2 = X[1]
    j11 = 1 + 4*x1 + 2*x2
    j12 = -1 +2*x1 +2*x2
    return [j11, j12]

opt.minimize(f, x0=[0,0], jac=jacobiano)


import scipy.optimize as opt

def A(X):
    x = X[0]
    y = X[1]
    f0 = x**2 +x*y - 10
    f1 = y + 3*x*y**2 - 57
    return [f0, f1]

opt.root(A, [0,0])


import numpy as np
import matplotlib.pyplot as plt
from scipy.integrate import solve_ivp

def crescimento_exponencial(t, N, k):
    dNdt = k*N
    return dNdt

t = np.linspace(0,10,21)
k = 0.5
N0 = 1

sol = solve_ivp( crescimento_exponencial, t_span=[0, 10],y0=[N0],t_eval=t,args=[k])
#print(sol)
plt.plot(sol.t, sol.y[0])

resposta = N0*np.exp(k*sol.t)
plt.plot(sol.t, resposta, 'or')
plt.figure()
plt.plot(resposta - sol.y[0])


# definindo a função de Lotka-Volterra (predador-presa)
# dx/dt = x(a - by)
# dy/dt = y(dx - c)
def predadorpresa(t, Y):
    a = 1.0
    b = 0.1
    c = 1.5
    d = 0.075
    x = Y[0]
    y = Y[1]
    dy_dt = [ x*(a - b*y) , y*(d*x - c) ]
    return dy_dt


import numpy as np
import matplotlib.pyplot as plt
from scipy.integrate import solve_ivp

# definindo os instantes que serão utilizados no cálculo 
tinicial = 0
tfinal = 20
t = np.linspace(tinicial , tfinal, 200)

# definindo a condição inicial (PVI)
y0 = [10 , 5]

# chamando o método numérico que calcula a solução da EDO
sol = solve_ivp( predadorpresa, y0 = y0, t_span = [tinicial, tfinal],  t_eval = t)
presa = sol.y[0]
predador = sol.y[1]

# exibindo o gráfico da resposta
plt.plot(t, presa, t, predador)
plt.legend(['Coelhos', 'Raposas'])

plt.figure()
plt.plot(predador, presa, lw=1)



