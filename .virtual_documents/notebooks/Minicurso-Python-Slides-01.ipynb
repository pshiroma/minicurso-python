from math import sqrt

a = 2
b = 1
c = -1
delta = b**2 - 4*a*c
x1 = (-b + sqrt(delta))/(2*a)
x2 = (-b - sqrt(delta))/(2*a)
print('A primeira raiz é:', x1)
print('A segunda raiz é:', x2)


x = 10


x = 42
print( type( x ) )
x = 3.14
print( type( x ) )
x = 'Um texto'
print( type( x ) )
x = True
print( type( x ) )


x = int(3.1)
print(x)
x = float(3)
print(x)
x = int('4')
print(x)
x = str(4)
print(x)


x = input('Entre com um dado: ')


y = input('Entre com um dado: ')


print(type(x))
x = int(input('Entre com uma dado: '))
print(type(x))


# Programa Hello World!
print("Ola mundo!")


# Imprimindo texto + variável
print('Os valores que você entrou foram ', x, y)


print(f'O valor de y é {y:.2f}')
print(f'{y:.4f} {x:.3f}')


print(f'O valor de 10y é {10*y}')


print(f'6 caracteres no total\n{y:6.2f} {x:6.2f}')
print(f'Porcentagem com 2 casas decimais:\n{y:.2%}')


# Divisao inteira
print(20//3)

# Resto da divisao
print(20%3)

# Potencia
a = 2
b = 1
c = -1
x = 1
y = a*x**2 + b*x + c
print(y)

print(10 + 20/2*10)
# Mudando a precedência
print(10 + 20/(2 * 10))


print(5 < 10)
print(7 == 10)


# Comparacoes
print(5 < 10 or 7 == 10)


print(5 < 3 or 9 <= 9)
print(3 != 2 + 1 and 2 < 1 or not 5 < 2**2)


# criando uma lista: coloque os valores separados por vírgula, dentro dos [ ]
lista_de_frutas = ['banana', 'banana', 'amora', 'pera']
lista_numeros = [1, 2, 3, 4, 5, 6, 7, 8, 9, 10]
lista_vazia = []
lista_mista = [19.32, True, 'uma string', 5 < 7, 5*4, [0, 1]]

print(lista_de_frutas)
print(lista_numeros)
print(lista_vazia)
print(lista_mista)


# tamanho de uma lista
print(len(lista_de_frutas))
print(len(lista_numeros))
print(len(lista_vazia))
print(len(lista_mista))


# A lista é um tipo indexado, ou seja, você pode acessar os elementos pela sua posição.
# A primeira posição possui índice 0:
print(lista_mista[0])
print(lista_mista[1])


# A  última posição possui índice n-1
# Também é possível indexar pelo valor -1:
print(lista_mista[-1])
print(lista_mista[-2])


# Podemos recuperar um pedaço da lista usando o operador :
lista = [1, 2, 3, 4, 5, 6 ,7 ,8 ,9 ,10]
# extraindo um intervalo
print( lista[0:3] )

# podemos omitir o início
print( lista[:3] )

# extraindo até o final
print( lista[5:] )

# extraindo do terceiro ao quarto elemento:
print( lista[2:4] )

# podemos indexar contando a partir do final:
print( lista[-6:-3] )


# Também é possível verificar se um elemento se encontra em uma lista usando o operador in:
lista = [1, 2, 3, 4, 5, 6 ,7 ,8 ,9 ,10]
3 in lista


# Para modificar o valor de um elemento em uma lista, basta usar o operador [ ]:
lista = [1, 2, 3, 4, 5, 6 ,7 ,8 ,9 ,10]
lista[0] = -20
lista[-1] = -30
print(lista)


# Podemos inserir um elemento no final da lista usando o comando append:
lista = [1, 2, 4, 5, 6 ,7 ,8 ,9 ,10]
lista.append(11)
# Podemos inserir um elemento em uma posição no meio da lista usando o comando insert
lista.insert(2,3)
print(lista)


# Também podemos utilizar o operador +
lista1 = ['a', 'b', 'c']
lista2 = ['d', 'e']
novaLista = lista1 + lista2
print(novaLista)


# Para remover um elemento usamos o comando remove:
lista = ['a', 'b', 'c']
lista.remove('b')
print(lista)


# Para remover um elemento usando o índice usamos o comando pop:
lista = ['a', 'b', 'c']
lista.pop(1)
print(lista)


# Para apagar toda a lista, usamos o comando clear:
lista = ['a', 'b', 'c']
lista.clear()
print(lista)


# Podemos ordenar uma lista usando o comando sort:
lista = ["laranja", "morango", "kiwi", "ameixa", "banana"]
lista.sort()
print(lista)


# Caso você queira copiar uma lista, você não deve usar o operador =
lista = ['a', 'b', 'c']
outraLista = lista
print(outraLista)
lista.clear()
print(outraLista)


# Você deve usar o comando copy:
lista = ['a', 'b', 'c']
outraLista = lista.copy()
print(outraLista)
lista.clear()
print(outraLista)


# A string é uma lista de caracteres, e aceita as mesmas operações:
cidade = 'Ouro Branco'
print(cidade[0])
print(cidade[-1])
print(cidade[0:4])


# Exemplo de uso do if:
x = int(input())
if x < 10:
    print('O valor que você entrou é menor que 10')


peso = float(input('Entre com o peso: '))
altura = float(input('Entre com a altura: '))
imc = peso/altura**2

if imc < 18.5:
    print('Magreza')
elif imc < 25:
    print('Normal')
elif imc < 30:
    print('Sobrepeso')
elif imc < 40:
    print('Obesidade')
else:
    print('Obesidade grave')
    


# Exemplo de laço for usando uma lista
# O comando continue pula para a próxima iteração
# O comando break termina o laço
frutas = ["maça", "banana", 'tomate', 'melão', "pera", 'açaí',"uva",  'kiwi']

for f in frutas:
    if f == 'tomate':
        continue
    elif f == 'açaí':
        break
    print(f)


# A função range cria uma sequencia de numeros variando de 0 até n-1
# https://www.w3schools.com/python/ref_func_range.asp
for i in range(6):
    print(i)


# a funcao range aceita incremento negativo:
for i in range(20,2,-2):
    print(i)


# a funcao range NAO funciona com valores float:
for i in range(0, 1, 0.1):
    print(i)


# Laço for aninhado
for i in range(1,4):
    print('Tabuado do ', i)
    for j in range(1,11):
        print(f'{i} x {j} = {i*j}')


# Exemplo de laço while
# O comando continue pula imediatamente para a próxima iteração
# O comando break interrompe o laço
i = 0
while i < 10:
    i += 1 # auto-incremento
    if i == 5 or i == 6:
        continue
    if i == 8:
        break
    print(i)


# Abordagem 1:
lista = []
for _ in range(5):
    numero = int(input('Entre com um numero:'))
    lista.append(numero)
print(lista)


# Abordagem 2:
# Criando uma lista de 5 elementos nulos
lista = 5*[None]
for i in range(5):
    numero = int(input('Entre com um numero:'))
    lista[i] = numero
print(lista)


menor = lista[0]
for n in lista:
    if n < menor:
        menor = n
print(lista)
print('O menor elemento é:', menor)


# Exemplo:
# Vamos utilizar a função cosseno da biblioteca math
import math

x = math.cos(0)
print(x)


# Exemplo:
# Vamos importar a biblioteca "math" com o nome "m"
import math as m

x = m.tan(m.pi/4)

print(x)


# vamos importar apenas a funcao sin da biblioteca math
from math import sin

sin(0)


import random


x = random.randint(1,10)
print('O valor sorteado foi:', x)


from math import pi


raio = float(input("Entre com o raio: ")) 
area = pi * raio ** 2
print("A área é de", area)


import numpy as np

v = np.array([10, 2, 5, 3, 6, 9])
print(v)
# Existem 2 formas de utilizar as funções presentes na biblioteca Numpy:
print(v.mean(), np.mean(v))
print(v.max(), np.max(v))
print(v.min(), np.min(v))
print(v.std(), np.std(v))
print(v.sum(), np.sum(v))

# Para alterar o valor de um elemento do vetor, utilizamos o índice:
v[2] = -1
print(v)

# Somando um escalar:
print(v + 10)

# Multiplicando todos os valores:
print(v*5)

# Elevando todos os valores ao quadrado:
print(v**2)

# Somando 2 vetores:
w = np.array([1, 2, 3, 4, 5, 6])
print(v + w)

# Realizando o produto interno de 2 vetores:
print(v @ w)
print(np.dot(v,w))


M = np.array([ [5,-1], [3, 0], [0, 10] ])
print(M)
print(M[0][1])


N = np.array([[1, 2], [3, 4]])
print(M)
print(N)
# A multiplicação matricial é feita usando o operador '@'
print(M @ N)


i = 1
# criando uma matriz com 4 linhas e 3 colunas
M = np.zeros((4,3))
for LIN in range(4):
    for COL in range(3):
        M[LIN][COL] = i
        i += 1
print(M)


import numpy as np
MA = 1000
A = np.array([[0.9, 0.08], [0.1, 0.92] ])
b = np.array([0.5*MA,0.5*MA])
np.linalg.solve(A,b)


import matplotlib.pyplot as plt
import numpy as np

# Generate some random data
x = np.arange(0, 10, 0.1)
y = np.sin(x)

# Create the plot
plt.plot(x, y)
plt.xlabel('x')
plt.ylabel('y')
plt.title('Seno')
plt.show()


# Exemplo de criacao de uma funcao:
def exemplo_de_funcao():
    print('Hello world!')


# Chamando a função definida acima:
exemplo_de_funcao()


# Exemplo de funcao com 1 parâmetro de entrada:
def quadrado(numero):
    quad = numero**2
    print('O quadrado de', numero, 'é', quad)


x = 2
quadrado(10)


# Exemplo de funcao com 2 parâmetros de entrada:
def imc(peso, altura):
    '''
    Calcula e imprime o IMC (índice de massa corporal)
    '''
    imc = peso/(altura*altura)
    print(f'Seu imc é de {imc:.2f}')


imc(42, 1.7)


# Exemplo de funcao com retorno
def quadrado2(n):
    '''
    Calcula o quadrado de um número
    '''
    r = n**2
    return r


x = quadrado2(6)
print(x)


from random import randint


def sorteia_ponto():
    """
    Sorteia um ponto de coordenadas (x,y).
    As coordenadas são geradas de forma aleatórias, e encontram-se no intervalo de 0 a 100
    """
    x = randint(0,100)
    y = randint(0,100)
    return x,y


x,y = sorteia_ponto()
print(x)
print(y)


# Exemplo de passagem de função como parâmetro

# calcula n^2
def f1(n):
    return n**2

# calcula n^3
def f2(n):
    return n**3

# A função g recebe uma função como entrada e um parâmetro n
def g(f, n):
    print('O valor calculado foi de', f(n))


g(f1, 10) # f1(10)
g(f2, 10) # f2(10)


def par(n):
    if type(n) == int or type(n) == float:
        if n%2 == 0:
            return True
        else:
            return False
    else:
        print('Por favor, entre com um numero inteiro')


par(3)


from math import pi

def volume(R):
    return


volume(2)


def fahrenheit2celsius(TF):
    return


fahrenheit2celsius(273)


def funcao(x):
    return -12 -21*x + 18*x**2 - 2.75*x**3

def raiz(x, f):
    return


#raiz(-0.41468941, funcao)
raiz(10, funcao)





from scipy.optimize import minimize_scalar

# Definindo a função objetivo a ser minimizada
def f(x):
    return (x - 2) ** 2 + 3

# encontrando o mínimo da função
res = minimize_scalar(f)

# Imprimindo o valor de f(min) e min
print('f(x) mínimo:', res.fun)
print('x mínimo:', res.x)








import scipy.optimize as opt

def f(X):
    # 2 + x1 - x2 +2x1^2 + 2x1x2 + x2^2
    x1 = X[0]
    x2 = X[1]
    return 2 + x1 - x2 + 2*x1**2 + 2*x1*x2 + x2**2
    
def gradiente(X):
    # [1 + 4x1 +2x2 ; -1 + 2x1 + 2x2]
    x1 = X[0]
    x2 = X[1]
    j11 = 1 + 4*x1 + 2*x2
    j12 = -1 +2*x1 +2*x2
    return [j11, j12]

opt.minimize(f, x0=[0,0], jac=gradiente)


import scipy.optimize as opt

def A(X):
    x = X[0]
    y = X[1]
    f0 = x**2 +x*y - 10
    f1 = y + 3*x*y**2 - 57
    return [f0, f1]

opt.root(A, [0,0])





import numpy as np
import matplotlib.pyplot as plt
from scipy.integrate import solve_ivp

def crescimento_exponencial(t, N, k):
    dNdt = k*N
    return dNdt

t = np.linspace(0,10,21)
k = 0.5
N0 = 1

sol = solve_ivp( crescimento_exponencial, t_span=[0, 10],y0=[N0],t_eval=t,args=[k])
#print(sol)
plt.plot(sol.t, sol.y[0])

resposta = N0*np.exp(k*sol.t)
plt.plot(sol.t, resposta, 'or')
plt.figure()
plt.plot(resposta - sol.y[0])


# definindo a função de Lotka-Volterra (predador-presa)
# dx/dt = x(a - by)
# dy/dt = y(dx - c)
def predadorpresa(t, Y):
    a = 1.0
    b = 0.1
    c = 1.5
    d = 0.075
    x = Y[0]
    y = Y[1]
    dy_dt = [ x*(a - b*y) , y*(d*x - c) ]
    return dy_dt


import numpy as np
import matplotlib.pyplot as plt
from scipy.integrate import solve_ivp

# definindo os instantes que serão utilizados no cálculo 
tinicial = 0
tfinal = 20
t = np.linspace(tinicial , tfinal, 200)

# definindo a condição inicial (PVI)
y0 = [10 , 5]

# chamando o método numérico que calcula a solução da EDO
sol = solve_ivp( predadorpresa, y0 = y0, t_span = [tinicial, tfinal],  t_eval = t)
presa = sol.y[0]
predador = sol.y[1]

# exibindo o gráfico da resposta
plt.plot(t, presa, t, predador)
plt.legend(['Coelhos', 'Raposas'])

plt.figure()
plt.plot(predador, presa, lw=1)
