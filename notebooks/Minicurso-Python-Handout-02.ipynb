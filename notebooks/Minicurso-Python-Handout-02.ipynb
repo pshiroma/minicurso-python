{
 "cells": [
  {
   "cell_type": "markdown",
   "id": "ae2929c0-0033-4be0-98d9-f55154df0bbf",
   "metadata": {},
   "source": [
    "Usando o google colab:\n",
    "\n",
    "* Acesse o site: https://colab.research.google.com/\n",
    "* Escolha a opção GitHub e entre com o repositório:\n",
    "  * https://github.com/pshiroma/minicurso-python\n",
    "  * Escolha o arquivo Minicurso-Python-Handout-01.ipynb\n",
    "  \n",
    "Usando o site Jupyter:\n",
    "\n",
    "* Baixe o notebook disponível em:\n",
    "  * https://github.com/pshiroma/minicurso-python\n",
    "  * Escolha o arquivo Minicurso-Python-Handout-02.ipynb\n",
    "* Acesse o site: https://jupyter.org/try-jupyter/lab/\n",
    "* Faça o upload do arquivo"
   ]
  },
  {
   "cell_type": "markdown",
   "id": "4dd14f2f-88ad-46c9-9c07-2c3ffc3df06f",
   "metadata": {
    "jp-MarkdownHeadingCollapsed": true,
    "tags": [],
    "toc-hr-collapsed": true
   },
   "source": [
    "# A linguagem Python"
   ]
  },
  {
   "cell_type": "markdown",
   "id": "f11d3e21-d8e9-4c42-8ab7-25d78c068ad0",
   "metadata": {
    "jp-MarkdownHeadingCollapsed": true,
    "tags": []
   },
   "source": [
    "# Variáveis"
   ]
  },
  {
   "cell_type": "markdown",
   "id": "eae7e498-aecd-42a1-8ba6-ed4022e7f9e4",
   "metadata": {},
   "source": [
    "Uma variável é o recurso utilizado dentro do programa para identificar um valor que deseja-se guardar.\n",
    "O valor armazenado em uma variável pode ser alterado durante a execução do programa.\n",
    "\n",
    "Ela pode ser utilizada para armazenar números, textos, listas ou outros tipos de dados.\n",
    "\n",
    "No Python, uma variável é criada quando um valor é atribuído a ela pela primeira vez.\n",
    "\n",
    "O operador utilizado é o `=`"
   ]
  },
  {
   "cell_type": "code",
   "execution_count": 5,
   "id": "d7b2ffcb-f8d3-4e81-8e6a-b71fd86a9591",
   "metadata": {},
   "outputs": [],
   "source": [
    "x = 4"
   ]
  },
  {
   "cell_type": "markdown",
   "id": "6a25a50b-072d-4b1f-a14c-4273a9bdcc4b",
   "metadata": {},
   "source": [
    "O nome de uma variável deve obedecer às seguintes regras:\n",
    "\n",
    "* Conter apenas caracteres alfanuméricos (a-z, A-Z, 0-9) ou underscore ( _ )\n",
    "* Não começar com um dígito\n",
    "* Não podem ser uma palavra reservada (if, else, while, True, False)\n",
    "* Não pode conter acentos, ou outros símbolos ($, #, *, ?, etc)\n",
    "\n",
    "Além disso, Python é *case-sensitive* (diferencia letras maiúsculas de minúsculas."
   ]
  },
  {
   "cell_type": "markdown",
   "id": "f1050bd1-bf1e-4471-a621-983e99ebb470",
   "metadata": {},
   "source": [
    "É recomendado utilizar nomes de variáveis que descrevam bem a informação armazenada nela.\n",
    "\n",
    "Por exemplo:\n",
    "\n",
    "* idade\n",
    "* nome\n",
    "* salario\n",
    "* concentracao\n",
    "\n",
    "Caso a sigla seja bem conhecida, também pode-se utilizá-la, levando sempre em consideração a legibilidade e clareza:\n",
    "\n",
    "* H2O\n",
    "* g\n",
    "* x\n",
    "* Vmax"
   ]
  },
  {
   "cell_type": "markdown",
   "id": "1ed1b953-1475-4369-b5db-a4ce498745a3",
   "metadata": {
    "jp-MarkdownHeadingCollapsed": true,
    "slideshow": {
     "slide_type": "slide"
    },
    "tags": [],
    "toc-hr-collapsed": true
   },
   "source": [
    "# Tipos de dados simples"
   ]
  },
  {
   "cell_type": "markdown",
   "id": "55377807-f659-424f-9da3-737403218611",
   "metadata": {
    "slideshow": {
     "slide_type": "subslide"
    }
   },
   "source": [
    "Quando uma variável é criada, associamos um tipo de dados para ela.\n",
    "O tipo de dados define quais operações podem ser feitas com esta variável.\n",
    "Por exemplo, o operador `+` realiza a soma, caso o tipo de dados seja numérico, ou a concatenação, se for uma string ou lista. \n",
    "O Python possui os tipos de dados simples:\n",
    "\n",
    "* Numéricos:\n",
    "    * Inteiro (int)\n",
    "    * Real (float)\n",
    "* Lógico (bool)\n",
    "* Nulo (None)\n",
    "\n",
    "e compostos:\n",
    "\n",
    "* Sequências:\n",
    "    * Strings, listas e tuplas\n",
    "* Conjuntos\n",
    "* Dicionários\n",
    "\n",
    "O tipo de dados de uma variável **pode mudar** durante a execução do programa."
   ]
  },
  {
   "cell_type": "code",
   "execution_count": 3,
   "id": "6380f3a7-488d-4b62-b2ac-523eef824c5e",
   "metadata": {
    "slideshow": {
     "slide_type": "fragment"
    }
   },
   "outputs": [],
   "source": [
    "x = 23\n",
    "x = 3.14\n",
    "x = True\n",
    "x = None"
   ]
  },
  {
   "cell_type": "markdown",
   "id": "c27d24a9-a817-43fb-993b-10f713dbbce1",
   "metadata": {
    "slideshow": {
     "slide_type": "subslide"
    }
   },
   "source": [
    "A função `type(variavel)` permite identificar o tipo de uma variável ou constante:"
   ]
  },
  {
   "cell_type": "code",
   "execution_count": 4,
   "id": "49d92ba8-2845-45bd-9bff-7a944cc81801",
   "metadata": {
    "slideshow": {
     "slide_type": "fragment"
    }
   },
   "outputs": [
    {
     "name": "stdout",
     "output_type": "stream",
     "text": [
      "<class 'int'>\n",
      "<class 'float'>\n",
      "<class 'str'>\n",
      "<class 'bool'>\n",
      "Tipo da variável x: <class 'int'>\n",
      "Novo tipo da variável x: <class 'bool'>\n"
     ]
    }
   ],
   "source": [
    "print( type( 42 ) )\n",
    "print( type( 3.14 ) )\n",
    "print( type( 'Um texto' ) )\n",
    "print( type( True ) )\n",
    "\n",
    "x = 123\n",
    "print ('Tipo da variável x:', type( x ))\n",
    "\n",
    "x = True\n",
    "print ('Novo tipo da variável x:', type( x ))"
   ]
  },
  {
   "cell_type": "markdown",
   "id": "c17c1736-e472-46c7-8b99-47ce598f3439",
   "metadata": {},
   "source": [
    "## Conversão entre tipos de dados "
   ]
  },
  {
   "cell_type": "markdown",
   "id": "8344627b-59c3-4dd9-841f-5982f72003f6",
   "metadata": {},
   "source": [
    "Para convertermos entre os tipos utilizamos os comandos `int`, `float`, `str` e `bool`."
   ]
  },
  {
   "cell_type": "code",
   "execution_count": 25,
   "id": "4e456e1e-99eb-43a7-9d77-385a1b126f01",
   "metadata": {},
   "outputs": [
    {
     "name": "stdout",
     "output_type": "stream",
     "text": [
      "3\n",
      "3.0\n",
      "4\n",
      "4\n",
      "False\n"
     ]
    }
   ],
   "source": [
    "x = int(3.1)\n",
    "print(x)\n",
    "x = float(3)\n",
    "print(x)\n",
    "x = int('4')\n",
    "print(x)\n",
    "x = str(4)\n",
    "print(x)\n",
    "x = bool(0)\n",
    "print(x)"
   ]
  },
  {
   "cell_type": "markdown",
   "id": "b58bfd62-8431-4b84-aee5-d899f16d12d3",
   "metadata": {
    "jp-MarkdownHeadingCollapsed": true,
    "slideshow": {
     "slide_type": "slide"
    },
    "tags": []
   },
   "source": [
    "# Entrada de dados\n",
    "\n",
    "Vamos ver agora como ler uma entrada do usuário e armazená-la em uma variável:"
   ]
  },
  {
   "cell_type": "code",
   "execution_count": 15,
   "id": "64ac6aa4-502f-4d7f-a516-16a1fda09a80",
   "metadata": {
    "scrolled": true,
    "slideshow": {
     "slide_type": "subslide"
    }
   },
   "outputs": [
    {
     "name": "stdin",
     "output_type": "stream",
     "text": [
      "Entre com um dado:  123\n"
     ]
    }
   ],
   "source": [
    "x = input('Entre com um dado: ')"
   ]
  },
  {
   "cell_type": "code",
   "execution_count": 17,
   "id": "3b2e578e-7d4f-485c-a318-93a0675192a1",
   "metadata": {},
   "outputs": [
    {
     "data": {
      "text/plain": [
       "str"
      ]
     },
     "execution_count": 17,
     "metadata": {},
     "output_type": "execute_result"
    }
   ],
   "source": [
    "# O comando input retorna uma string\n",
    "type(x)"
   ]
  },
  {
   "cell_type": "code",
   "execution_count": 19,
   "id": "3bcc3802-ffdb-47be-bd1d-b51c6e7f92ae",
   "metadata": {},
   "outputs": [
    {
     "data": {
      "text/plain": [
       "int"
      ]
     },
     "execution_count": 19,
     "metadata": {},
     "output_type": "execute_result"
    }
   ],
   "source": [
    "x = int(x)\n",
    "type(x)"
   ]
  },
  {
   "cell_type": "markdown",
   "id": "e7a8db39-49de-4be6-967d-1a0ca38002f0",
   "metadata": {
    "jp-MarkdownHeadingCollapsed": true,
    "tags": [],
    "toc-hr-collapsed": true
   },
   "source": [
    "# Imprimindo na tela"
   ]
  },
  {
   "cell_type": "code",
   "execution_count": 22,
   "id": "d9cb0879-8160-4bd1-a28c-fca70f825f23",
   "metadata": {},
   "outputs": [
    {
     "name": "stdout",
     "output_type": "stream",
     "text": [
      "Ola mundo!\n"
     ]
    }
   ],
   "source": [
    "# Programa Hello World!\n",
    "print(\"Ola mundo!\")"
   ]
  },
  {
   "cell_type": "code",
   "execution_count": 31,
   "id": "2d47bbb9-1d1e-4f19-a909-c68b2b7eadb3",
   "metadata": {
    "slideshow": {
     "slide_type": "-"
    }
   },
   "outputs": [
    {
     "name": "stdout",
     "output_type": "stream",
     "text": [
      "4\n"
     ]
    }
   ],
   "source": [
    "# Imprimindo o valor de uma variável\n",
    "print(x)"
   ]
  },
  {
   "cell_type": "code",
   "execution_count": 32,
   "id": "465d582e-e070-4d60-9469-819dd5a927df",
   "metadata": {
    "slideshow": {
     "slide_type": "fragment"
    }
   },
   "outputs": [
    {
     "name": "stdout",
     "output_type": "stream",
     "text": [
      "O valor que você entrou foi: 4\n"
     ]
    }
   ],
   "source": [
    "# Imprimindo texto + variável\n",
    "print('O valor que você entrou foi:', x)"
   ]
  },
  {
   "cell_type": "markdown",
   "id": "4b65ba7d-8153-467f-84c5-179506674dbf",
   "metadata": {},
   "source": [
    "Imprimindo vários valores:"
   ]
  },
  {
   "cell_type": "code",
   "execution_count": 33,
   "id": "3903b24f-f0a4-4329-a4b2-d77014a799d2",
   "metadata": {},
   "outputs": [
    {
     "name": "stdout",
     "output_type": "stream",
     "text": [
      "O valor de x é 4 e o de y é 3\n"
     ]
    }
   ],
   "source": [
    "y = 3\n",
    "print('O valor de x é', x, 'e o de y é', y)"
   ]
  },
  {
   "cell_type": "markdown",
   "id": "7a3d83b6-3a84-4100-81b3-d51c81aa1de7",
   "metadata": {
    "tags": []
   },
   "source": [
    "## Controlando o comando print"
   ]
  },
  {
   "cell_type": "code",
   "execution_count": 34,
   "id": "bb60294e-7fc0-4952-9f95-299ed779f336",
   "metadata": {},
   "outputs": [
    {
     "name": "stdout",
     "output_type": "stream",
     "text": [
      "4zzz3\n"
     ]
    }
   ],
   "source": [
    "# Mudando o separador:\n",
    "print(x, y, sep='zzz')"
   ]
  },
  {
   "cell_type": "code",
   "execution_count": 35,
   "id": "8888e050-472e-45a1-99b0-60b7a787d364",
   "metadata": {},
   "outputs": [
    {
     "name": "stdout",
     "output_type": "stream",
     "text": [
      "4\n",
      "3\n"
     ]
    }
   ],
   "source": [
    "# Mudando o caracter final\n",
    "print(x)\n",
    "print(y)"
   ]
  },
  {
   "cell_type": "code",
   "execution_count": 36,
   "id": "5e349dfd-9997-40e9-adfb-4b502a32c2da",
   "metadata": {},
   "outputs": [
    {
     "name": "stdout",
     "output_type": "stream",
     "text": [
      "4/3\n"
     ]
    }
   ],
   "source": [
    "print(x, end='/')\n",
    "print(y)"
   ]
  },
  {
   "cell_type": "markdown",
   "id": "67b01a54-a4d1-46f7-999c-4f40e1dfa044",
   "metadata": {
    "slideshow": {
     "slide_type": "fragment"
    }
   },
   "source": [
    "## F-string\n",
    "\n",
    "Existem várias formas de controlar a formatação da saída.\n",
    "Uma delas é utilizando as chamadas \"f-strings\"."
   ]
  },
  {
   "cell_type": "markdown",
   "id": "6686759b-e960-4db1-914c-babccb0946dc",
   "metadata": {
    "slideshow": {
     "slide_type": "-"
    }
   },
   "source": [
    "**Controlando quantas casas decimais serão impressas:**"
   ]
  },
  {
   "cell_type": "code",
   "execution_count": 6,
   "id": "365fd1d0-dd0b-4767-b0d5-f4c030af60b3",
   "metadata": {},
   "outputs": [
    {
     "name": "stdout",
     "output_type": "stream",
     "text": [
      "O valor de y é 1.6666666666666667\n"
     ]
    }
   ],
   "source": [
    "print(f'O valor de y é {y}')"
   ]
  },
  {
   "cell_type": "code",
   "execution_count": 7,
   "id": "6274440e-da20-415c-a1b9-24d9d2cc6da7",
   "metadata": {
    "slideshow": {
     "slide_type": "-"
    }
   },
   "outputs": [
    {
     "name": "stdout",
     "output_type": "stream",
     "text": [
      "O valor de y com 2 casas decimais é 1.67. Agora com 4 casas: 1.6667\n"
     ]
    }
   ],
   "source": [
    "print(f'O valor de y com 2 casas decimais é {y:.2f}. Agora com 4 casas: {y:.4f}')"
   ]
  },
  {
   "cell_type": "markdown",
   "id": "82949b9f-c439-4374-a568-d5849e9ec602",
   "metadata": {
    "slideshow": {
     "slide_type": "fragment"
    }
   },
   "source": [
    "**Executando código dentro da string:**"
   ]
  },
  {
   "cell_type": "code",
   "execution_count": 9,
   "id": "be1567f8-660d-4802-86db-12c7b0779114",
   "metadata": {
    "slideshow": {
     "slide_type": "-"
    }
   },
   "outputs": [
    {
     "name": "stdout",
     "output_type": "stream",
     "text": [
      "O valor de 10y é 16.666666666666668\n"
     ]
    }
   ],
   "source": [
    "print(f'O valor de 10y é {10*y}')"
   ]
  },
  {
   "cell_type": "markdown",
   "id": "c11f0fc2-8aae-4783-8f7b-e5d176a97945",
   "metadata": {
    "slideshow": {
     "slide_type": "fragment"
    }
   },
   "source": [
    "**Outras formatações de números:**"
   ]
  },
  {
   "cell_type": "code",
   "execution_count": 21,
   "id": "2dcda57b-a528-4a4b-9438-bebd3ba95970",
   "metadata": {
    "slideshow": {
     "slide_type": "-"
    }
   },
   "outputs": [
    {
     "name": "stdout",
     "output_type": "stream",
     "text": [
      "Imprimindo y com 6 caracteres no total, sendo 2 casas decimais:   1.67\n",
      "Imprimindo y com 6 caracteres no total, preenchendo de zeros à esquerda e 2 casas decimais: 001.67\n",
      "Convertendo para porcentagem com 2 casas decimais: 166.67%\n"
     ]
    }
   ],
   "source": [
    "print(f'Imprimindo y com 6 caracteres no total, sendo 2 casas decimais: {y:6.2f}')\n",
    "print(f'Imprimindo y com 6 caracteres no total, preenchendo de zeros à esquerda e 2 casas decimais: {y:06.2f}')\n",
    "print(f'Convertendo para porcentagem com 2 casas decimais: {y:.2%}')"
   ]
  },
  {
   "cell_type": "markdown",
   "id": "ed20268f-9d15-42e8-9b17-bb99274316d1",
   "metadata": {
    "tags": [],
    "toc-hr-collapsed": true
   },
   "source": [
    "# Operadores"
   ]
  },
  {
   "cell_type": "markdown",
   "id": "3c2cd41a-ff6d-4363-866d-0c5e912fa111",
   "metadata": {
    "jp-MarkdownHeadingCollapsed": true,
    "tags": []
   },
   "source": [
    "## Operações matemáticas"
   ]
  },
  {
   "cell_type": "markdown",
   "id": "2c1daaf3-7f2a-457d-8382-22697bbefdd1",
   "metadata": {
    "slideshow": {
     "slide_type": "subslide"
    }
   },
   "source": [
    "Os principais operadores matemáticos são:\n",
    "\n",
    "| Operador | Significado | Exemplo |\n",
    "| :-- | :-- | --: |\n",
    "| + | Soma | x + y |\n",
    "| - | Diferença | x - y |\n",
    "| * | Multiplicação | x * y |\n",
    "| / | Divisão | x / y |\n",
    "| ** | Potência | x ** y |\n",
    "| pow | Potência | pow(x, y) |\n",
    "| // | Divisão inteira | x // y |\n",
    "| % | Resto da divisão inteira | x % y |\n",
    "| divmod | Resultado e resto da divisão inteira | divmod(x, y) |\n",
    "| - | Negação | -x |\n",
    "| abs | Valor absoluto | abs(x) |\n",
    "| int | Converte para número inteiro | int(x) |\n",
    "| float | Converte para número real | float(x) |\n",
    "\n",
    "A ordem que as operações são executadas pode ser modificada utilizando os parênteses `( )`\n"
   ]
  },
  {
   "cell_type": "code",
   "execution_count": 11,
   "id": "34c01094-4c63-4617-86e0-de6497a596d5",
   "metadata": {
    "slideshow": {
     "slide_type": "fragment"
    }
   },
   "outputs": [
    {
     "data": {
      "text/plain": [
       "110.0"
      ]
     },
     "execution_count": 11,
     "metadata": {},
     "output_type": "execute_result"
    }
   ],
   "source": [
    "# Operações básicas\n",
    "10 + 20/2*10"
   ]
  },
  {
   "cell_type": "code",
   "execution_count": 12,
   "id": "a1ca6770-7922-41bf-8694-d5a97538cc1b",
   "metadata": {
    "slideshow": {
     "slide_type": "fragment"
    }
   },
   "outputs": [
    {
     "data": {
      "text/plain": [
       "11.0"
      ]
     },
     "execution_count": 12,
     "metadata": {},
     "output_type": "execute_result"
    }
   ],
   "source": [
    "# Mudando a precedência\n",
    "10 + 20/(2 * 10)"
   ]
  },
  {
   "cell_type": "code",
   "execution_count": 15,
   "id": "1ca56151-cc65-4ebf-903d-77c814add526",
   "metadata": {
    "slideshow": {
     "slide_type": "fragment"
    }
   },
   "outputs": [
    {
     "data": {
      "text/plain": [
       "6"
      ]
     },
     "execution_count": 15,
     "metadata": {},
     "output_type": "execute_result"
    }
   ],
   "source": [
    "# Divisão inteira\n",
    "20//3"
   ]
  },
  {
   "cell_type": "code",
   "execution_count": 16,
   "id": "bd9eb14e-85a1-4b64-a362-95b72cd647aa",
   "metadata": {
    "slideshow": {
     "slide_type": "fragment"
    }
   },
   "outputs": [
    {
     "data": {
      "text/plain": [
       "2"
      ]
     },
     "execution_count": 16,
     "metadata": {},
     "output_type": "execute_result"
    }
   ],
   "source": [
    "# Resto da divisão\n",
    "20%3"
   ]
  },
  {
   "cell_type": "code",
   "execution_count": 100,
   "id": "52f01c87-ae9c-460f-b95a-7c097bc9f0a9",
   "metadata": {
    "slideshow": {
     "slide_type": "fragment"
    }
   },
   "outputs": [
    {
     "data": {
      "text/plain": [
       "15"
      ]
     },
     "execution_count": 100,
     "metadata": {},
     "output_type": "execute_result"
    }
   ],
   "source": [
    "# Valor absoluto e potência\n",
    "abs(10 - 5**2)"
   ]
  },
  {
   "cell_type": "markdown",
   "id": "ae674875-b20a-4736-9436-80a12c8a6e60",
   "metadata": {},
   "source": [
    "Calculando o valor de:\n",
    "\n",
    "$y = ax^2 + bx + c$"
   ]
  },
  {
   "cell_type": "code",
   "execution_count": 27,
   "id": "f694f81c-9170-40be-9c3c-a0e941081612",
   "metadata": {},
   "outputs": [
    {
     "name": "stdout",
     "output_type": "stream",
     "text": [
      "35\n"
     ]
    }
   ],
   "source": [
    "a = 2\n",
    "b = 1\n",
    "c = -1\n",
    "y = a*x**2 + b*x + c\n",
    "print(y)"
   ]
  },
  {
   "cell_type": "markdown",
   "id": "ce13d4c4-caf1-4fd9-bc8e-cf9e60a93cd8",
   "metadata": {
    "jp-MarkdownHeadingCollapsed": true,
    "slideshow": {
     "slide_type": "slide"
    },
    "tags": []
   },
   "source": [
    "## Operadores lógicos"
   ]
  },
  {
   "cell_type": "code",
   "execution_count": 4,
   "id": "fa91eb5b-a28a-44e9-9732-ee695cfa7f43",
   "metadata": {
    "slideshow": {
     "slide_type": "subslide"
    }
   },
   "outputs": [],
   "source": [
    "V = True\n",
    "F = False"
   ]
  },
  {
   "cell_type": "markdown",
   "id": "fce9eb30-4cc0-404e-ab23-224b62f300ee",
   "metadata": {
    "slideshow": {
     "slide_type": "fragment"
    }
   },
   "source": [
    "Vamos ver a seguir a sintaxe dos principais operadores que trabalham com booleanos:"
   ]
  },
  {
   "cell_type": "code",
   "execution_count": 8,
   "id": "931cce70-61db-4fb6-8d4b-dd58f8320b62",
   "metadata": {
    "slideshow": {
     "slide_type": "fragment"
    }
   },
   "outputs": [
    {
     "data": {
      "text/plain": [
       "False"
      ]
     },
     "execution_count": 8,
     "metadata": {},
     "output_type": "execute_result"
    }
   ],
   "source": [
    "# Igual\n",
    "V == F"
   ]
  },
  {
   "cell_type": "code",
   "execution_count": 64,
   "id": "bfdfd2d9-a499-401d-8781-bdebff520dad",
   "metadata": {
    "slideshow": {
     "slide_type": "fragment"
    }
   },
   "outputs": [
    {
     "data": {
      "text/plain": [
       "True"
      ]
     },
     "execution_count": 64,
     "metadata": {},
     "output_type": "execute_result"
    }
   ],
   "source": [
    "# Diferente\n",
    "V != F"
   ]
  },
  {
   "cell_type": "markdown",
   "id": "c1d0e4d8-f3d3-47c7-aab8-6d4fde352d12",
   "metadata": {
    "slideshow": {
     "slide_type": "fragment"
    }
   },
   "source": [
    "O operador NOT segue a seguinte tabela verdade:\n",
    "\n",
    "| X | not X | \n",
    "| :-- | --: |\n",
    "| True | False |\n",
    "| False | True |"
   ]
  },
  {
   "cell_type": "code",
   "execution_count": 11,
   "id": "e8b5c99d-a97d-4818-ba0e-bc5058f5591f",
   "metadata": {
    "slideshow": {
     "slide_type": "fragment"
    }
   },
   "outputs": [
    {
     "data": {
      "text/plain": [
       "False"
      ]
     },
     "execution_count": 11,
     "metadata": {},
     "output_type": "execute_result"
    }
   ],
   "source": [
    "not V"
   ]
  },
  {
   "cell_type": "markdown",
   "id": "be0905b6-86d6-4df0-8a06-0300421288da",
   "metadata": {
    "slideshow": {
     "slide_type": "fragment"
    }
   },
   "source": [
    "O operador AND segue a seguinte tabela verdade:\n",
    "\n",
    "| X | Y | X and Y |\n",
    "| :-- | :-- | --: |\n",
    "| True | True | True |\n",
    "| True | False | False |\n",
    "| False | True | False |\n",
    "| False | False | False |"
   ]
  },
  {
   "cell_type": "code",
   "execution_count": 66,
   "id": "b01ff4c5-3b34-4aa8-8a77-f877e53c91c4",
   "metadata": {
    "slideshow": {
     "slide_type": "fragment"
    }
   },
   "outputs": [
    {
     "data": {
      "text/plain": [
       "False"
      ]
     },
     "execution_count": 66,
     "metadata": {},
     "output_type": "execute_result"
    }
   ],
   "source": [
    "# Operador AND\n",
    "V and F"
   ]
  },
  {
   "cell_type": "markdown",
   "id": "98c400e9-7c61-4303-8871-a6b2a842ce78",
   "metadata": {
    "slideshow": {
     "slide_type": "fragment"
    }
   },
   "source": [
    "O operador OR segue a seguinte tabela verdade:\n",
    "\n",
    "| X | Y | X or Y |\n",
    "| :-- | :-- | --: |\n",
    "| True | True | True |\n",
    "| True | False | True |\n",
    "| False | True | True |\n",
    "| False | False | False |"
   ]
  },
  {
   "cell_type": "code",
   "execution_count": 67,
   "id": "ecef8ef6-683d-4504-a308-c77cf1069b24",
   "metadata": {
    "slideshow": {
     "slide_type": "fragment"
    }
   },
   "outputs": [
    {
     "data": {
      "text/plain": [
       "True"
      ]
     },
     "execution_count": 67,
     "metadata": {},
     "output_type": "execute_result"
    }
   ],
   "source": [
    "# Operador OR\n",
    "True or False"
   ]
  },
  {
   "cell_type": "markdown",
   "id": "246030ba-35e5-4696-bab2-bdc639dfeff8",
   "metadata": {
    "slideshow": {
     "slide_type": "subslide"
    },
    "tags": []
   },
   "source": [
    "## Operadores de comparação:"
   ]
  },
  {
   "cell_type": "markdown",
   "id": "58b4e0bc-4330-4119-a2ec-76e83fd01d4f",
   "metadata": {
    "slideshow": {
     "slide_type": "-"
    }
   },
   "source": [
    "| Operador | Significado | Exemplo |\n",
    "| :-- | :-- | --: |\n",
    "| < | Estritamente menor que | x < y |\n",
    "| <= | Menor ou igual que | x <= y |\n",
    "| > | Estritamente maior que | x > y |\n",
    "| >= | Maior ou igual que | x >= y |\n",
    "| == | Igual | x == y |\n",
    "| != | Diferente  | x != y |\n",
    "| is | É o mesmo objeto  | x is y |"
   ]
  },
  {
   "cell_type": "markdown",
   "id": "801a6bec-9d0b-4d12-a307-c09d3da0b0d4",
   "metadata": {
    "slideshow": {
     "slide_type": "subslide"
    }
   },
   "source": [
    "**Expressões compostas**\n",
    "\n",
    "É possível combinar operações de comparação e operações lógicos, formando expressões mais complexas:"
   ]
  },
  {
   "cell_type": "code",
   "execution_count": 69,
   "id": "ddc3fc76-f4c9-4b04-bedb-b4b69a7ac1a5",
   "metadata": {
    "slideshow": {
     "slide_type": "fragment"
    }
   },
   "outputs": [
    {
     "data": {
      "text/plain": [
       "True"
      ]
     },
     "execution_count": 69,
     "metadata": {},
     "output_type": "execute_result"
    }
   ],
   "source": [
    "5 < 10 or 7 == 10"
   ]
  },
  {
   "cell_type": "code",
   "execution_count": 31,
   "id": "9001720f-2a99-4d2c-abdf-41deac756cc0",
   "metadata": {
    "slideshow": {
     "slide_type": "fragment"
    }
   },
   "outputs": [
    {
     "name": "stdout",
     "output_type": "stream",
     "text": [
      "True\n"
     ]
    }
   ],
   "source": [
    "print(5 < 3 or 9 <= 9)"
   ]
  },
  {
   "cell_type": "markdown",
   "id": "09c1a7ee-a5c3-4d2c-ad84-eeb7d79e1638",
   "metadata": {},
   "source": [
    "**Ordem de precedência**"
   ]
  },
  {
   "cell_type": "markdown",
   "id": "2867ca1b-3d68-4c04-a120-562bb7706aa0",
   "metadata": {
    "slideshow": {
     "slide_type": "fragment"
    }
   },
   "source": [
    "A ordem de precedência em os operadores em uma expressão são avaliadas é: \n",
    "\n",
    "* `**` \n",
    "* `*`, `/` e `//`, na ordem em que aparecerem na expressão.\n",
    "* `%`\n",
    "* `+` e `-`, na ordem em que aparecerem na expressão.\n",
    "* comparações, na ordem que aparecem\n",
    "* `not`\n",
    "* `and`\n",
    "* `or`"
   ]
  },
  {
   "cell_type": "code",
   "execution_count": 30,
   "id": "9974c259-e7a1-4e74-8f78-e9200bf3d24b",
   "metadata": {},
   "outputs": [
    {
     "name": "stdout",
     "output_type": "stream",
     "text": [
      "True\n"
     ]
    }
   ],
   "source": [
    "print(3 != 2 + 1 and 2 < 1 or not 5 < 2**2)"
   ]
  },
  {
   "cell_type": "markdown",
   "id": "d7df06dc-3b10-4b11-b12e-496f10dcc8c5",
   "metadata": {},
   "source": [
    "# O tipo de dados List"
   ]
  },
  {
   "cell_type": "markdown",
   "id": "03290453-745a-4d0d-80e8-ef00107a5f4f",
   "metadata": {},
   "source": [
    "Além dos tipos simples, o Python fornece tipos de dados compostos, capazes de armazenar múltiplos valores ao mesmo tempo.\n",
    "\n",
    "Exemplos de tipos de dados compostos nativos em Python são *lists*, *tuples*, *dictionaries*, *strings* e *sets*. "
   ]
  },
  {
   "cell_type": "markdown",
   "id": "3de0dfd6-d621-4503-a6e6-61d490129b34",
   "metadata": {
    "slideshow": {
     "slide_type": "subslide"
    }
   },
   "source": [
    "As listas armazenam elementos em sequência e tem as seguintes características:\n",
    "\n",
    "* Os itens são indexados: Cada elemento possui uma posição, ou índice, na lista.\n",
    "* O primeiro elemento tem índice 0\n",
    "* O último elemento tem índice n-1\n",
    "* Os elementos podem ser de *tipos diferentes*\n",
    "* Podemos ter listas de listas\n",
    "* Os elementos podem ser modificados (ver tupla)\n",
    "* Os elementos podem ser repetidos (ver conjunto)\n",
    "* Listas podem ser concatenados\n",
    "* Listas podem ser repartidos\n",
    "* Listas podem ser ordenados\n",
    "* São criados usando colchetes [ ]\n",
    "\n",
    "https://www.w3schools.com/python/python_lists.asp"
   ]
  },
  {
   "cell_type": "markdown",
   "id": "4d2e0615-cbf4-4430-aeec-53d6b3bca6ce",
   "metadata": {
    "slideshow": {
     "slide_type": "slide"
    },
    "tags": [],
    "toc-hr-collapsed": true
   },
   "source": [
    "# Estruturas de controle"
   ]
  },
  {
   "cell_type": "markdown",
   "id": "0a3aa14e-f7ae-466e-aa30-a62f4891b20a",
   "metadata": {
    "slideshow": {
     "slide_type": "subslide"
    }
   },
   "source": [
    "As estruturas de controle permitem modificar a ordem de execução dos comandos\n",
    "\n",
    "Elas podem ser de 2 tipos:\n",
    "\n",
    "* Estruturas condicionais\n",
    "* Estruturas de laço\n",
    "\n",
    "Diferente de outras linguagens, o **escopo** é definido pela indentação do código"
   ]
  },
  {
   "cell_type": "markdown",
   "id": "193f7c17-0e22-4997-a98a-d8debcdb2d78",
   "metadata": {
    "slideshow": {
     "slide_type": "fragment"
    },
    "tags": []
   },
   "source": [
    "## Estrutura IF"
   ]
  },
  {
   "cell_type": "markdown",
   "id": "4382ffb2-9354-45ff-b6ce-3e50807032e4",
   "metadata": {
    "slideshow": {
     "slide_type": "fragment"
    }
   },
   "source": [
    "A estrutura if possui a seguinte sintaxe:\n",
    "\n",
    "```python\n",
    "if condicao:\n",
    "    comandos dentro do IF\n",
    "```"
   ]
  },
  {
   "cell_type": "code",
   "execution_count": 8,
   "id": "45a54b3c-1057-419d-aa20-315c94883503",
   "metadata": {
    "slideshow": {
     "slide_type": "fragment"
    }
   },
   "outputs": [
    {
     "name": "stdout",
     "output_type": "stream",
     "text": [
      "5 é menor que 7\n"
     ]
    }
   ],
   "source": [
    "# Exemplo de if\n",
    "if 5 < 7:\n",
    "    print('5 é menor que 7')"
   ]
  },
  {
   "cell_type": "code",
   "execution_count": 10,
   "id": "0f725547-724c-4847-a58a-9538c68106b3",
   "metadata": {
    "slideshow": {
     "slide_type": "fragment"
    }
   },
   "outputs": [
    {
     "name": "stdout",
     "output_type": "stream",
     "text": [
      "Entre com a temperatura: 40\n",
      "Atenção! Você está com febre\n",
      "Procure um médico\n",
      "Obrigado!\n"
     ]
    }
   ],
   "source": [
    "# Exemplo com vários comandos\n",
    "temperatura = float(input('Entre com a temperatura: '))\n",
    "if temperatura > 37.8:\n",
    "    print('Atenção! Você está com febre')\n",
    "    print('Procure um médico')\n",
    "print('Obrigado!')    "
   ]
  },
  {
   "cell_type": "markdown",
   "id": "6d7fdd02-1a60-48ea-9c22-8d14ab9bb048",
   "metadata": {
    "slideshow": {
     "slide_type": "fragment"
    }
   },
   "source": [
    "## Estrutura IF-ELSE"
   ]
  },
  {
   "cell_type": "markdown",
   "id": "38c18743-f9e1-410b-95c6-f319a4ebcbf4",
   "metadata": {
    "slideshow": {
     "slide_type": "fragment"
    }
   },
   "source": [
    "A estrutura if-else possui a seguinte sintaxe:\n",
    "\n",
    "```python\n",
    "if condicao:\n",
    "    comandos dentro do IF\n",
    "else:\n",
    "    comandos dentro do ELSE\n",
    "```"
   ]
  },
  {
   "cell_type": "code",
   "execution_count": 13,
   "id": "e63761b1-4ff8-4d90-b22e-ac3a7f62c235",
   "metadata": {
    "slideshow": {
     "slide_type": "fragment"
    }
   },
   "outputs": [
    {
     "name": "stdout",
     "output_type": "stream",
     "text": [
      "Você está de recuperação\n"
     ]
    }
   ],
   "source": [
    "# Exemplo\n",
    "nota = 47\n",
    "if nota >= 60:\n",
    "    print('Você passou')\n",
    "    print('Parabens!')\n",
    "else:\n",
    "    print('Você está de recuperação')"
   ]
  },
  {
   "cell_type": "markdown",
   "id": "718809d8-bcb9-43ac-acb9-5c589d70fa50",
   "metadata": {
    "slideshow": {
     "slide_type": "fragment"
    }
   },
   "source": [
    "## Estrutura IF-ELSEIF"
   ]
  },
  {
   "cell_type": "markdown",
   "id": "cb843d7d-d99b-42c8-8aca-425509397d05",
   "metadata": {
    "slideshow": {
     "slide_type": "fragment"
    }
   },
   "source": [
    "A estrutura if-else-if possui a seguinte sintaxe:\n",
    "\n",
    "```python\n",
    "if condicao1:\n",
    "    comandos dentro do IF\n",
    "elif condicao2:\n",
    "    comandos dentro do ELSE-IF\n",
    "```"
   ]
  },
  {
   "cell_type": "code",
   "execution_count": 9,
   "id": "466fb7b2-a128-42cf-8239-9a9e002a5e97",
   "metadata": {
    "slideshow": {
     "slide_type": "fragment"
    }
   },
   "outputs": [
    {
     "name": "stdout",
     "output_type": "stream",
     "text": [
      "x é maior que y\n"
     ]
    }
   ],
   "source": [
    "# Exemplo de elseif\n",
    "x = 10\n",
    "y = 3\n",
    "if x > y:\n",
    "    print('x é maior que y')\n",
    "elif x == y:\n",
    "    print('x é igual a y')\n",
    "else:\n",
    "    print('x é menor a y')    "
   ]
  },
  {
   "cell_type": "markdown",
   "id": "3940eac0-6e24-4451-8477-e75cd08994c2",
   "metadata": {
    "slideshow": {
     "slide_type": "fragment"
    }
   },
   "source": [
    "## Estrutura IF aninhado"
   ]
  },
  {
   "cell_type": "code",
   "execution_count": 15,
   "id": "dc6f1186-7162-4be9-b54f-9251fbfe4e01",
   "metadata": {
    "slideshow": {
     "slide_type": "fragment"
    }
   },
   "outputs": [
    {
     "name": "stdout",
     "output_type": "stream",
     "text": [
      "x é maior que 10\n"
     ]
    }
   ],
   "source": [
    "# Podemos colocar um IF dentro de outro IF:\n",
    "x = 12\n",
    "if x > 10:\n",
    "    print('x é maior que 10')\n",
    "    if x > 20:\n",
    "        print('x também é maior que 20')"
   ]
  },
  {
   "cell_type": "markdown",
   "id": "6a927fc8-c5ea-4ae5-b360-4bc89056d664",
   "metadata": {
    "slideshow": {
     "slide_type": "fragment"
    }
   },
   "source": [
    "## Exercício 1\n",
    "\n",
    "Crie um código que peça para o usuário entrar com um número e em seguida verifique se o número é par ou ímpar"
   ]
  },
  {
   "cell_type": "code",
   "execution_count": 15,
   "id": "bd12ecf5-b84a-428a-9929-75554e614d90",
   "metadata": {
    "slideshow": {
     "slide_type": "-"
    }
   },
   "outputs": [
    {
     "name": "stdout",
     "output_type": "stream",
     "text": [
      "13\n",
      "13 é ímpar\n"
     ]
    }
   ],
   "source": [
    "numero = int(input(''))\n",
    "resto = numero%2\n",
    "if resto == 0:\n",
    "    print(numero, 'é par')\n",
    "else:\n",
    "    print(numero, 'é ímpar')\n",
    "    "
   ]
  },
  {
   "cell_type": "markdown",
   "id": "d72e85ba-a5be-4336-b65a-a148a4520803",
   "metadata": {
    "slideshow": {
     "slide_type": "fragment"
    }
   },
   "source": [
    "## Exercício 2\n",
    "\n",
    "O preço normal vendido em um posto de gasolina é de R\\$ 7,60.\n",
    "O posto fez uma promoção onde, se o consumidor encher com mais de 20 litros, os litros adicionais serão cobrados com um desconto de 20\\%.\n",
    "\n",
    "Crie um código em que leia a quantidade de combustível abastecida e calcule o preço a ser pago."
   ]
  },
  {
   "cell_type": "code",
   "execution_count": 1,
   "id": "0ac3861e-2b23-412d-835f-de22f55c1798",
   "metadata": {
    "slideshow": {
     "slide_type": "-"
    }
   },
   "outputs": [
    {
     "name": "stdin",
     "output_type": "stream",
     "text": [
      "Entre com a quantidade de litros abastecida:  21\n"
     ]
    },
    {
     "name": "stdout",
     "output_type": "stream",
     "text": [
      "O valor a ser pago é de:  158.08\n"
     ]
    }
   ],
   "source": [
    "litros = float(input('Entre com a quantidade de litros abastecida: '))\n",
    "\n",
    "preco = 7.6\n",
    "if litros <= 20:\n",
    "    valor = preco*litros\n",
    "else:\n",
    "    adicionais = litros - 20\n",
    "    valor = preco*20 + preco*0.8*adicionais\n",
    "print('O valor a ser pago é de: ', valor)"
   ]
  },
  {
   "cell_type": "markdown",
   "id": "9b0196d6-c411-467e-b45c-41f35aea438e",
   "metadata": {
    "slideshow": {
     "slide_type": "slide"
    }
   },
   "source": [
    "## Estrutura FOR"
   ]
  },
  {
   "cell_type": "markdown",
   "id": "73e93f06-3954-46cf-8398-24476ff1449e",
   "metadata": {
    "slideshow": {
     "slide_type": "subslide"
    }
   },
   "source": [
    "A estrutura `for` é utilizada para percorrer uma sequência do tipo lista, tupla, dicionário e possui a seguinte sintaxe:\n",
    "\n",
    "```python\n",
    "for variavel in sequencia\n",
    "    comandos-do-laço\n",
    "```"
   ]
  },
  {
   "cell_type": "code",
   "execution_count": 26,
   "id": "55b1f5a2",
   "metadata": {
    "slideshow": {
     "slide_type": "fragment"
    }
   },
   "outputs": [
    {
     "name": "stdout",
     "output_type": "stream",
     "text": [
      "maça\n",
      "banana\n",
      "uva\n"
     ]
    }
   ],
   "source": [
    "# Exemplo de laço for usando lista\n",
    "frutas = [\"maça\", \"banana\", \"uva\"]\n",
    "\n",
    "for f in frutas:\n",
    "    print(f)"
   ]
  },
  {
   "cell_type": "code",
   "execution_count": 27,
   "id": "63326b0a",
   "metadata": {
    "slideshow": {
     "slide_type": "fragment"
    }
   },
   "outputs": [
    {
     "name": "stdout",
     "output_type": "stream",
     "text": [
      "maça\n",
      "banana\n"
     ]
    }
   ],
   "source": [
    "# Podemos interromper o laço for usando o comando break\n",
    "frutas = [\"maça\", \"banana\", \"uva\", \"melancia\"]\n",
    "for f in frutas:\n",
    "    print(f)\n",
    "    if f == \"banana\":\n",
    "        break"
   ]
  },
  {
   "cell_type": "code",
   "execution_count": 27,
   "id": "bc85ad75",
   "metadata": {
    "slideshow": {
     "slide_type": "fragment"
    }
   },
   "outputs": [
    {
     "name": "stdout",
     "output_type": "stream",
     "text": [
      "maça\n",
      "melancia\n"
     ]
    }
   ],
   "source": [
    "# Podemos pular uma iteração do laço usando o comando continue\n",
    "frutas = [\"maça\", \"banana\", \"uva\", \"melancia\"]\n",
    "for f in frutas:\n",
    "    if f == \"banana\" or f == \"uva\": continue\n",
    "    print(f)\n"
   ]
  },
  {
   "cell_type": "code",
   "execution_count": 28,
   "id": "6484a20f",
   "metadata": {
    "slideshow": {
     "slide_type": "fragment"
    }
   },
   "outputs": [
    {
     "name": "stdout",
     "output_type": "stream",
     "text": [
      "0\n",
      "1\n",
      "2\n",
      "3\n",
      "4\n",
      "5\n"
     ]
    }
   ],
   "source": [
    "# A função range cria uma sequencia de numeros variando de 0 até n-1\n",
    "# https://www.w3schools.com/python/ref_func_range.asp\n",
    "for i in range(6):\n",
    "    print(i)"
   ]
  },
  {
   "cell_type": "code",
   "execution_count": 6,
   "id": "e4b1e787",
   "metadata": {
    "slideshow": {
     "slide_type": "fragment"
    }
   },
   "outputs": [
    {
     "name": "stdout",
     "output_type": "stream",
     "text": [
      "3\n",
      "4\n",
      "5\n",
      "6\n",
      "7\n"
     ]
    }
   ],
   "source": [
    "# o intervalo da funcao range pode conter um inicio e um fim:\n",
    "for i in range(3,8):\n",
    "    print(i)"
   ]
  },
  {
   "cell_type": "code",
   "execution_count": 7,
   "id": "5c8cfb35",
   "metadata": {
    "slideshow": {
     "slide_type": "fragment"
    }
   },
   "outputs": [
    {
     "name": "stdout",
     "output_type": "stream",
     "text": [
      "3\n",
      "5\n",
      "7\n",
      "9\n"
     ]
    }
   ],
   "source": [
    "# a funcao range aceita um incremento diferente de 1:\n",
    "for i in range(3,10,2):\n",
    "    print(i)"
   ]
  },
  {
   "cell_type": "code",
   "execution_count": 8,
   "id": "27aac0c3",
   "metadata": {
    "slideshow": {
     "slide_type": "fragment"
    }
   },
   "outputs": [
    {
     "name": "stdout",
     "output_type": "stream",
     "text": [
      "20\n",
      "18\n",
      "16\n",
      "14\n",
      "12\n",
      "10\n",
      "8\n",
      "6\n",
      "4\n"
     ]
    }
   ],
   "source": [
    "# a funcao range aceita incremento negativo:\n",
    "for i in range(20,2,-2):\n",
    "    print(i)"
   ]
  },
  {
   "cell_type": "code",
   "execution_count": 10,
   "id": "c58f9368",
   "metadata": {
    "slideshow": {
     "slide_type": "fragment"
    }
   },
   "outputs": [
    {
     "ename": "TypeError",
     "evalue": "'float' object cannot be interpreted as an integer",
     "output_type": "error",
     "traceback": [
      "\u001b[1;31m---------------------------------------------------------------------------\u001b[0m",
      "\u001b[1;31mTypeError\u001b[0m                                 Traceback (most recent call last)",
      "Input \u001b[1;32mIn [10]\u001b[0m, in \u001b[0;36m<cell line: 2>\u001b[1;34m()\u001b[0m\n\u001b[0;32m      1\u001b[0m \u001b[38;5;66;03m# a funcao range NAO funciona com valores float:\u001b[39;00m\n\u001b[1;32m----> 2\u001b[0m \u001b[38;5;28;01mfor\u001b[39;00m i \u001b[38;5;129;01min\u001b[39;00m \u001b[38;5;28;43mrange\u001b[39;49m\u001b[43m(\u001b[49m\u001b[38;5;241;43m0\u001b[39;49m\u001b[43m,\u001b[49m\u001b[43m \u001b[49m\u001b[38;5;241;43m1\u001b[39;49m\u001b[43m,\u001b[49m\u001b[43m \u001b[49m\u001b[38;5;241;43m0.1\u001b[39;49m\u001b[43m)\u001b[49m:\n\u001b[0;32m      3\u001b[0m     \u001b[38;5;28mprint\u001b[39m(i)\n",
      "\u001b[1;31mTypeError\u001b[0m: 'float' object cannot be interpreted as an integer"
     ]
    }
   ],
   "source": [
    "# a funcao range NAO funciona com valores float:\n",
    "for i in range(0, 1, 0.1):\n",
    "    print(i)"
   ]
  },
  {
   "cell_type": "code",
   "execution_count": 32,
   "id": "fbf3f08b",
   "metadata": {
    "slideshow": {
     "slide_type": "fragment"
    }
   },
   "outputs": [
    {
     "name": "stdout",
     "output_type": "stream",
     "text": [
      "Tabuado do  1\n",
      "1 x 1 = 1\n",
      "1 x 2 = 2\n",
      "1 x 3 = 3\n",
      "1 x 4 = 4\n",
      "1 x 5 = 5\n",
      "1 x 6 = 6\n",
      "1 x 7 = 7\n",
      "1 x 8 = 8\n",
      "1 x 9 = 9\n",
      "1 x 10 = 10\n",
      "Tabuado do  2\n",
      "2 x 1 = 2\n",
      "2 x 2 = 4\n",
      "2 x 3 = 6\n",
      "2 x 4 = 8\n",
      "2 x 5 = 10\n",
      "2 x 6 = 12\n",
      "2 x 7 = 14\n",
      "2 x 8 = 16\n",
      "2 x 9 = 18\n",
      "2 x 10 = 20\n",
      "Tabuado do  3\n",
      "3 x 1 = 3\n",
      "3 x 2 = 6\n",
      "3 x 3 = 9\n",
      "3 x 4 = 12\n",
      "3 x 5 = 15\n",
      "3 x 6 = 18\n",
      "3 x 7 = 21\n",
      "3 x 8 = 24\n",
      "3 x 9 = 27\n",
      "3 x 10 = 30\n"
     ]
    }
   ],
   "source": [
    "# Laço for aninhado\n",
    "for i in range(1,4):\n",
    "    print('Tabuado do ', i)\n",
    "    for j in range(1,11):\n",
    "        print(f'{i} x {j} = {i*j}')"
   ]
  },
  {
   "cell_type": "markdown",
   "id": "9ad70406-0463-4f91-83ab-24b4124d9d90",
   "metadata": {
    "slideshow": {
     "slide_type": "slide"
    },
    "tags": []
   },
   "source": [
    "# Funções"
   ]
  },
  {
   "cell_type": "markdown",
   "id": "48359426-4fb3-4b73-9992-c8a73b3f37fd",
   "metadata": {
    "slideshow": {
     "slide_type": "fragment"
    }
   },
   "source": [
    "Função é um conjunto de instruções que recebe um nome e pode ser chamado de qualquer lugar no código.\n",
    "\n",
    "Funções são utilizadas para manter o código mais legível, flexível e fácil de manter.\n",
    "\n",
    "No Python, você pode criar suas próprias funções ou executar funções já existentes. "
   ]
  },
  {
   "cell_type": "markdown",
   "id": "0827a070-1882-4a2a-8dba-dacbb5b8e6e4",
   "metadata": {
    "slideshow": {
     "slide_type": "slide"
    },
    "tags": [],
    "toc-hr-collapsed": true
   },
   "source": [
    "# Usando bibliotecas (pacotes)\n",
    "\n",
    "Um dos principais atrativos de utilizarmos a linguagem Python é a grande quantidade de bibliotecas desenvolvidas pela comunidade externa, tais como:\n",
    "\n",
    "* Numpy: Biblioteca numérica, possui operações com vetores, matrizes, álgebra linear, análise estatística, transformada de Fourier dentre outros.\n",
    "* Scipy: Soluções de equações diferenciais, integrais, derivadas, otimização, análise espectral, SVD, regressão linear, interpolação, ajuste de curvas, clusterização, programação linear.\n",
    "* Pandas: Leitura e escrita de arquivos CSV, Excel, SQL, JSON. Dataframes, visualização de dados\n",
    "* Matplotlib: Desenho de gráficos de linha, histogramas, de barras,  \n",
    "* Pyomo: Biblioteca para modelagem e solução de problemas de otimização usando programação linear, MILP, programação não-linear e ferramentas como CPLEX, GLPK.\n",
    "* Scikit-learn: Algoritmos de aprendizado de máquima\n",
    "\n",
    "Para incluir uma biblioteca, também chamado de pacote, devemos primeiro carregá-la usando um dos comandos a seguir:\n",
    "\n",
    "```import <nome_biblioteca>```\n",
    "\n",
    "```import <nome_biblioteca> as <mnemonico>```\n",
    "\n",
    "```from <nome_biblioteca> import <nome_funcao>```\n",
    "\n",
    "<div class=\"alert alert-info\">Observe que só precisamos importar uma biblioteca uma única vez em cada notebook.</div>"
   ]
  },
  {
   "cell_type": "markdown",
   "id": "9b4a6202-eac5-4bee-b8c4-a8cd2a1f2111",
   "metadata": {
    "slideshow": {
     "slide_type": "fragment"
    }
   },
   "source": [
    "Para acessar a função, devemos usar a sintaxe `<nome_biblioteca>.<nome_da_função>(argumentos)`"
   ]
  },
  {
   "cell_type": "code",
   "execution_count": 24,
   "id": "fb5d876c",
   "metadata": {
    "slideshow": {
     "slide_type": "-"
    }
   },
   "outputs": [
    {
     "name": "stdout",
     "output_type": "stream",
     "text": [
      "1.0\n"
     ]
    }
   ],
   "source": [
    "# Exemplo:\n",
    "# Vamos utilizar a função cosseno da biblioteca math\n",
    "import math\n",
    "\n",
    "x = math.cos(0)\n",
    "print(x)"
   ]
  },
  {
   "cell_type": "markdown",
   "id": "43041f17-04f1-410e-8799-8fd85b678bc0",
   "metadata": {},
   "source": [
    "Caso a biblioteca tenha sido importada usando o formato:\n",
    "\n",
    "```import <nome_biblioteca> as <mnemonico>```\n",
    "\n",
    "suas funções podem ser acessadas usando a sintaxe:\n",
    "\n",
    "`<mnemonico>.<nome_da_função>(argumentos)`"
   ]
  },
  {
   "cell_type": "code",
   "execution_count": 25,
   "id": "1a3b7443",
   "metadata": {
    "slideshow": {
     "slide_type": "fragment"
    }
   },
   "outputs": [
    {
     "name": "stdout",
     "output_type": "stream",
     "text": [
      "0.9999999999999999\n"
     ]
    }
   ],
   "source": [
    "# Exemplo:\n",
    "# Vamos importar a biblioteca \"math\" com o nome \"m\"\n",
    "import math as m\n",
    "\n",
    "x = m.tan(m.pi/4)\n",
    "\n",
    "print(x)"
   ]
  },
  {
   "cell_type": "markdown",
   "id": "8073f2de-eefb-4d49-8adf-6a04989361b0",
   "metadata": {
    "slideshow": {
     "slide_type": "fragment"
    }
   },
   "source": [
    "Caso você queira importar apenas uma única função dentro de um módulo, podemos utilizar o comando `from`.\n",
    "\n",
    "A sintaxe é:\n",
    "\n",
    "`from <nome_biblioteca> import <nome_da_funcao>`.\n",
    "\n",
    "Neste caso, não é necessário colocar o prefixo para chamar a função."
   ]
  },
  {
   "cell_type": "code",
   "execution_count": 9,
   "id": "880f1f5d",
   "metadata": {
    "slideshow": {
     "slide_type": "fragment"
    }
   },
   "outputs": [
    {
     "data": {
      "text/plain": [
       "0.0"
      ]
     },
     "execution_count": 9,
     "metadata": {},
     "output_type": "execute_result"
    }
   ],
   "source": [
    "# vamos importar apenas a funcao sin da biblioteca math\n",
    "from math import sin\n",
    "\n",
    "sin(0)"
   ]
  },
  {
   "cell_type": "markdown",
   "id": "7a09257d-1dc3-4df3-9eea-752ac9dd15e4",
   "metadata": {
    "slideshow": {
     "slide_type": "skip"
    }
   },
   "source": [
    "Material de referência:\n",
    "\n",
    "https://docs.python.org/pt-br/3.9/library/index.html"
   ]
  },
  {
   "cell_type": "markdown",
   "id": "f6a696ca-f193-4bc7-b005-ef0160f551ce",
   "metadata": {
    "slideshow": {
     "slide_type": "fragment"
    }
   },
   "source": [
    "## Exemplo 1"
   ]
  },
  {
   "cell_type": "markdown",
   "id": "5dd581b8-126d-4eba-95ac-6973f984ee46",
   "metadata": {},
   "source": [
    "Vamos criar um programa que sorteia um número inteiro aleatório entre 1 e 10 e imprime-o na tela."
   ]
  },
  {
   "cell_type": "code",
   "execution_count": 37,
   "id": "ef1d0e2e",
   "metadata": {},
   "outputs": [],
   "source": [
    "import random"
   ]
  },
  {
   "cell_type": "code",
   "execution_count": 40,
   "id": "cdab2750",
   "metadata": {},
   "outputs": [
    {
     "name": "stdout",
     "output_type": "stream",
     "text": [
      "O valor sorteado foi: 4\n"
     ]
    }
   ],
   "source": [
    "x = random.randint(1,10)\n",
    "print('O valor sorteado foi:', x)"
   ]
  },
  {
   "cell_type": "markdown",
   "id": "6e3b2e56-1338-4f05-a96b-712fc6f67b76",
   "metadata": {
    "slideshow": {
     "slide_type": "fragment"
    }
   },
   "source": [
    "## Exemplo 2\n",
    "\n",
    "Vamos criar um algoritmo para calcular a área de um círculo."
   ]
  },
  {
   "cell_type": "code",
   "execution_count": 1,
   "id": "953177a5",
   "metadata": {},
   "outputs": [],
   "source": [
    "from math import pi"
   ]
  },
  {
   "cell_type": "code",
   "execution_count": 2,
   "id": "32321e6c",
   "metadata": {
    "slideshow": {
     "slide_type": "-"
    }
   },
   "outputs": [
    {
     "name": "stdout",
     "output_type": "stream",
     "text": [
      "Entre com o raio: 32\n",
      "A área é de 3216.990877275948\n"
     ]
    }
   ],
   "source": [
    "raio = float(input(\"Entre com o raio: \")) \n",
    "area = pi * raio ** 2\n",
    "print(\"A área é de\", area)"
   ]
  },
  {
   "cell_type": "markdown",
   "id": "5ee39c16-97f4-4e11-8c4b-880e13d925c2",
   "metadata": {},
   "source": [
    "# A biblioteca Numpy"
   ]
  },
  {
   "cell_type": "markdown",
   "id": "52a4b454-8d6e-4b1f-8a58-0f8b8fdfcfe2",
   "metadata": {},
   "source": [
    "NumPy é uma biblioteca Python que fornece suporte para vetores e matrizes multidimensionais, juntamente com uma coleção de funções matemáticas de alto nível para operar nessas estruturas.\n",
    "\n",
    "NumPy é uma biblioteca fundamental para computação científica e fornece uma interface poderosa para trabalhar com dados numéricos e executar operações como operações matemáticas, lógica, classificação, seleção, transformadas discretas de Fourier, álgebra linear básica e operações estatísticas."
   ]
  },
  {
   "cell_type": "markdown",
   "id": "949777db-c31e-41d3-9400-cc38bdf83bb0",
   "metadata": {},
   "source": [
    "Suponha que desejamos criar o vetor abaixo:\n",
    "\n",
    "$v = [10, 2, 5, 3, 6, 9]$\n",
    "\n",
    "Vamos criar utilizando a biblioteca `numpy` e, em seguida, realizar algumas operações com este vetor:"
   ]
  },
  {
   "cell_type": "code",
   "execution_count": 50,
   "id": "9a4c0f2a-d57a-4aec-a0da-d72971ae14eb",
   "metadata": {},
   "outputs": [
    {
     "name": "stdout",
     "output_type": "stream",
     "text": [
      "[10  2  5  3  6  9]\n",
      "5.833333333333333 5.833333333333333\n",
      "10 10\n",
      "2 2\n",
      "2.9107081994288304 2.9107081994288304\n",
      "35 35\n",
      "[10  2 -1  3  6  9]\n",
      "[20 12  9 13 16 19]\n",
      "[50 10 -5 15 30 45]\n",
      "[100   4   1   9  36  81]\n",
      "[11  4  2  7 11 15]\n",
      "107\n",
      "107\n"
     ]
    }
   ],
   "source": [
    "import numpy as np\n",
    "\n",
    "v = np.array([10, 2, 5, 3, 6, 9])\n",
    "print(v)\n",
    "# Existem 2 formas de utilizar as funções presentes na biblioteca Numpy:\n",
    "print(v.mean(), np.mean(v))\n",
    "print(v.max(), np.max(v))\n",
    "print(v.min(), np.min(v))\n",
    "print(v.std(), np.std(v))\n",
    "print(v.sum(), np.sum(v))\n",
    "\n",
    "# Para alterar o valor de um elemento do vetor, utilizamos o índice:\n",
    "v[2] = -1\n",
    "print(v)\n",
    "\n",
    "# Somando um escalar:\n",
    "print(v + 10)\n",
    "\n",
    "# Multiplicando todos os valores:\n",
    "print(v*5)\n",
    "\n",
    "# Elevando todos os valores ao quadrado:\n",
    "print(v**2)\n",
    "\n",
    "# Somando 2 vetores:\n",
    "w = np.array([1, 2, 3, 4, 5, 6])\n",
    "print(v + w)\n",
    "\n",
    "# Realizando o produto interno de 2 vetores:\n",
    "print(v @ w)\n",
    "print(np.dot(v,w))"
   ]
  },
  {
   "cell_type": "markdown",
   "id": "558c0d43-fffa-44c2-bd23-0c87bb0af740",
   "metadata": {},
   "source": []
  },
  {
   "cell_type": "markdown",
   "id": "2f3bb6ea-d986-4ede-900b-c2d6bb7317ce",
   "metadata": {},
   "source": [
    "Uma matriz é uma tabela que armazena números organizada em linhas e colunas.\n",
    "Representamos por\n",
    "\n",
    "<div class=\"alert alert-warning\" role=\"alert\">\n",
    "$A_{m\\times n}$ uma matriz contendo $m$ linhas e $n$ colunas.\n",
    "</div>\n",
    "\n",
    "Por exemplo,\n",
    "\n",
    "$\n",
    "A_{3\\times 2} = \n",
    "\\begin{bmatrix}\n",
    "5 & -1 \\\\\n",
    "3 & 0 \\\\\n",
    "0 & 10\n",
    "\\end{bmatrix}\n",
    "$"
   ]
  },
  {
   "cell_type": "code",
   "execution_count": 49,
   "id": "7d690d2e-c4e5-4064-a630-43507010b402",
   "metadata": {},
   "outputs": [
    {
     "name": "stdout",
     "output_type": "stream",
     "text": [
      "[[1 2 3]\n",
      " [4 5 6]]\n",
      "3\n"
     ]
    }
   ],
   "source": [
    "M = np.array([ [1,2,3], [4,5,6] ])\n",
    "print(M)\n",
    "print(M[0][2])"
   ]
  },
  {
   "cell_type": "code",
   "execution_count": 48,
   "id": "36023fa7-4b70-4981-a004-0d4b406dd92e",
   "metadata": {},
   "outputs": [
    {
     "name": "stdout",
     "output_type": "stream",
     "text": [
      "[[ 1.  2.  3.]\n",
      " [ 4.  5.  6.]\n",
      " [ 7.  8.  9.]\n",
      " [10. 11. 12.]]\n"
     ]
    }
   ],
   "source": [
    "i = 1\n",
    "# criando uma matriz com 4 linhas e 3 colunas\n",
    "M = np.zeros((4,3))\n",
    "for LIN in range(4):\n",
    "    for COL in range(3):\n",
    "        M[LIN][COL] = i\n",
    "        i += 1\n",
    "print(M)"
   ]
  },
  {
   "cell_type": "markdown",
   "id": "15c9b878-2ebe-492c-a0ea-0b35a9e42c73",
   "metadata": {
    "slideshow": {
     "slide_type": "slide"
    }
   },
   "source": [
    "# Sistemas lineares"
   ]
  },
  {
   "cell_type": "markdown",
   "id": "c21914eb-6929-420f-9e39-7539b2d792d5",
   "metadata": {
    "slideshow": {
     "slide_type": "-"
    }
   },
   "source": [
    "https://sites.google.com/view/projetoclculonumricoparatodos/m3?authuser=0"
   ]
  },
  {
   "cell_type": "markdown",
   "id": "c6607354-01d1-4a4e-abd8-ef812c14cf51",
   "metadata": {
    "slideshow": {
     "slide_type": "fragment"
    }
   },
   "source": [
    "Veremos nesta parte a resolução de problemas que podem ser formulados da seguinte forma:\n",
    "\n",
    "\\begin{equation}\n",
    "\\begin{aligned}\n",
    "f_1(x_1, x_2, \\ldots, x_n) &= 0 \\\\\n",
    "f_2(x_1, x_2, \\ldots, x_n) &= 0 \\\\\n",
    "\\vdots \\\\\n",
    "f_n(x_1, x_2, \\ldots, x_n) &= 0 \\\\\n",
    "\\end{aligned}\n",
    "\\end{equation}\n",
    "\n",
    "chamadas de sistemas de equações."
   ]
  },
  {
   "cell_type": "markdown",
   "id": "8917f496-20aa-4e15-8fb9-b9c55471280d",
   "metadata": {
    "slideshow": {
     "slide_type": "fragment"
    }
   },
   "source": [
    "Inicialmente vamos nos concentrar na solução de equações algébricas lineares, ou seja, sistemas que tenham a forma geral:\n",
    "\n",
    "\\begin{equation}\n",
    "\\begin{aligned}\n",
    " a_{11}x_1 + a_{12}x_2 + \\ldots + a_{1n}x_n &= b_1 \\\\\n",
    " a_{21}x_1 + a_{22}x_2 + \\ldots + a_{2n}x_n &= b_2 \\\\\n",
    " \\vdots \\\\\n",
    " a_{n1}x_1 + a_{n2}x_2 + \\ldots + a_{nn}x_n &= b_n \\\\\n",
    "\\end{aligned}\n",
    "\\end{equation}\n",
    "\n",
    "Para simplificar a notação, utilizaremos matrizes e vetores para representar sistemas de equações.\n",
    "Assim, definindo:\n",
    "\n",
    "$\n",
    "A = \\begin{bmatrix}\n",
    "a_{11} & a_{12} & \\ldots & a_{1n} \\\\\n",
    "a_{21} & a_{22} & \\ldots & a_{2n} \\\\\n",
    "\\vdots \\\\\n",
    "a_{n1} & a_{n2} & \\ldots & a_{nn} \n",
    "\\end{bmatrix}\n",
    "$ como sendo a matriz de coeficientes,\n",
    "\n",
    "$\n",
    "x = \\begin{bmatrix}\n",
    "x_1 \\\\\n",
    "x_2 \\\\\n",
    "\\vdots \\\\\n",
    "x_n\n",
    "\\end{bmatrix}\n",
    "$ o vetor de incognitas\n",
    "\n",
    "e\n",
    "\n",
    "$\n",
    "b = \\begin{bmatrix}\n",
    "b_1 \\\\\n",
    "b_2 \\\\\n",
    "\\vdots \\\\\n",
    "b_n\n",
    "\\end{bmatrix}\n",
    "$ o vetor de constantes.\n",
    "\n",
    "Podemos escrever nosso sistema como:\n",
    "\n",
    "\\begin{equation}\n",
    "Ax = b\n",
    "\\end{equation}\n",
    "\n"
   ]
  },
  {
   "cell_type": "markdown",
   "id": "57783ca5-b078-4315-b833-9862f728ea8c",
   "metadata": {
    "slideshow": {
     "slide_type": "fragment"
    }
   },
   "source": [
    "Podemos determinar o vetor de incógnitas fazendo:\n",
    "\n",
    "$\n",
    "x = A^{-1}b\n",
    "$,\n",
    "\n",
    "onde $A^{-1}$ é a matriz inversa de $A$"
   ]
  },
  {
   "cell_type": "markdown",
   "id": "e75a483d-679a-4244-b9b3-3daf44e96d24",
   "metadata": {
    "slideshow": {
     "slide_type": "fragment"
    }
   },
   "source": [
    "## Exemplo\n",
    "\n",
    "Vamos resolver o seguinte sistema de equações:\n",
    "\n",
    "$\n",
    "\\left\\{\n",
    "\\begin{eqnarray}\n",
    "2x + 4y = 0 \\\\\n",
    "3x - y = 2\n",
    "\\end{eqnarray}\n",
    "\\right.\n",
    "$\n",
    "\n",
    "que pode ser reescrito como:\n",
    "\n",
    "$\n",
    "\\begin{bmatrix} \n",
    "2 & 4 \\\\\n",
    "3 & -1\n",
    "\\end{bmatrix}\n",
    "\\begin{bmatrix}\n",
    "x \\\\ y\n",
    "\\end{bmatrix}\n",
    "=\n",
    "\\begin{bmatrix} 0 \\\\ 2 \\end{bmatrix}\n",
    "$\n",
    "\n",
    "Assim, temos que:\n",
    "\n",
    "$\n",
    "A = \\begin{bmatrix} 2 & 4 \\\\\n",
    "3 & -1\n",
    "\\end{bmatrix}\n",
    "$\n",
    "\n",
    "e\n",
    "\n",
    "$\n",
    "b = \\begin{bmatrix} 0 \\\\ 2 \\end{bmatrix}\n",
    "$"
   ]
  },
  {
   "cell_type": "code",
   "execution_count": 53,
   "id": "d4712212-fb7d-49e8-8470-5dbcecdcb190",
   "metadata": {
    "slideshow": {
     "slide_type": "fragment"
    }
   },
   "outputs": [
    {
     "data": {
      "text/plain": [
       "array([ 1.5, -0.5])"
      ]
     },
     "execution_count": 53,
     "metadata": {},
     "output_type": "execute_result"
    }
   ],
   "source": [
    "import numpy as np\n",
    "A = np.array([[2, 4], [3, 1]])\n",
    "b = np.array([1, 4])\n",
    "np.linalg.solve(A,b)\n",
    "#np.linalg.inv(A) @ b"
   ]
  },
  {
   "cell_type": "markdown",
   "id": "ef6cf3e9-ddb5-473b-8b3b-2c46383ff373",
   "metadata": {},
   "source": [
    "## Exemplo"
   ]
  },
  {
   "cell_type": "markdown",
   "id": "1b4e440f-8ce7-49fd-a47b-a97bd78a2ec5",
   "metadata": {},
   "source": [
    "Fonte: https://www.engquimicasantossp.com.br/2015/06/balanco-de-massa-balanco-material.html\n",
    "\n",
    "Em uma coluna trabalhando em regime permanente destilam-se 1000 kg/h de uma mistura composta por 50% em peso de benzeno e 50% de tolueno. O destilado que sai da coluna é composto por 90% em peso de benzeno, e o resíduo que sai da coluna é composto por 8% em peso de benzeno. \n",
    "Determine a massa do destilado ($M_D$) e do resíduo ($M_R$)\n",
    "\n",
    "<img src=\"https://ufsj.edu.br/portal2-repositorio/File/prof_shiroma/sistemas_lineares_exemplo1.png\" width=\"500\"/>\n"
   ]
  },
  {
   "cell_type": "markdown",
   "id": "5c56a7b0-8204-4b6d-a9f2-82250cac66b0",
   "metadata": {
    "slideshow": {
     "slide_type": "fragment"
    }
   },
   "source": [
    "## Resolução:\n",
    "\n",
    "O balanço de massa consiste em uma descrição dos fluxos de massa de entrada e saída de um processo, baseado na lei de conservação de massa, e pode ser expresso como:\n",
    "\n",
    "\\begin{equation}\n",
    "\\sum \\text{Entrada} = \\sum \\text{Acúmulo} + \\sum \\text{Saída}\n",
    "\\end{equation}\n",
    "\n",
    "Considerando um processo operando em regime permanente, temos que o acúmulo é zero e o balanço se torna:\n",
    "\n",
    "\\begin{equation}\n",
    "\\sum \\text{Entrada} = \\sum \\text{Saída}\n",
    "\\end{equation}\n",
    "\n",
    "Aplicando o balanço de massa para o benzeno, temos que:\n",
    "\n",
    "\\begin{equation}\n",
    "0,5M_A = 0,9M_D + 0,08M_R\n",
    "\\end{equation}\n",
    "\n",
    "Aplicando o balanço de massa para o tolueno, temos que:\n",
    "\n",
    "\\begin{equation}\n",
    "0,5M_A = 0,1M_D + 0,92M_R\n",
    "\\end{equation}\n",
    "\n",
    "Transformando o problema em um sistema de equações, ele se torna:\n",
    "\n",
    "$\n",
    "A = \\begin{bmatrix} 0,9 & 0,08 \\\\\n",
    "0,1 & 0,92\n",
    "\\end{bmatrix}\n",
    "$\n",
    "\n",
    "$\n",
    "x = \\begin{bmatrix} M_D \\\\\n",
    "M_R\n",
    "\\end{bmatrix}\n",
    "$\n",
    "e\n",
    "\n",
    "$\n",
    "b = \\begin{bmatrix} 0,5M_A \\\\ 0,5M_A \\end{bmatrix}\n",
    "$"
   ]
  },
  {
   "cell_type": "markdown",
   "id": "55599d99-fef5-4e0e-bd42-dce17b1a3c80",
   "metadata": {},
   "source": [
    "Vamos utilizar a função `solve` do submódulo `linalg` da biblioteca `numpy`\n",
    "\n",
    "[solve](https://numpy.org/doc/stable/reference/generated/numpy.linalg.solve.html)"
   ]
  },
  {
   "cell_type": "code",
   "execution_count": 54,
   "id": "8a162a8e-2f80-4b0d-bf20-de79e7ca0da6",
   "metadata": {
    "slideshow": {
     "slide_type": "fragment"
    }
   },
   "outputs": [
    {
     "data": {
      "text/plain": [
       "array([512.19512195, 487.80487805])"
      ]
     },
     "execution_count": 54,
     "metadata": {},
     "output_type": "execute_result"
    }
   ],
   "source": [
    "import numpy as np\n",
    "MA = 1000\n",
    "A = np.array([[0.9, 0.08], [0.1, 0.92] ])\n",
    "b = np.array([0.5*MA,0.5*MA])\n",
    "np.linalg.solve(A,b)"
   ]
  },
  {
   "cell_type": "markdown",
   "id": "a6e6d27e-cfc2-45d5-9414-6a2246f1d9d7",
   "metadata": {},
   "source": [
    "# A biblioteca Matplotlib"
   ]
  },
  {
   "cell_type": "markdown",
   "id": "6998f9bf-3a67-4554-94a6-2d39b33b8212",
   "metadata": {},
   "source": [
    "Matplotlib é uma biblioteca Python para criar gráficos estáticos, animados ou interativas. Ele fornece um amplo conjunto de ferramentas para criar uma ampla variedade de gráficos, incluindo gráficos de linhas, gráficos de dispersão, histogramas, de barras, 3D e muito mais."
   ]
  },
  {
   "cell_type": "code",
   "execution_count": 56,
   "id": "0ef3327e-6b16-4905-8bfe-c2b12e51a704",
   "metadata": {},
   "outputs": [
    {
     "data": {
      "image/png": "[encoded data removed]",
      "text/plain": [
       "<Figure size 640x480 with 1 Axes>"
      ]
     },
     "metadata": {},
     "output_type": "display_data"
    }
   ],
   "source": [
    "import matplotlib.pyplot as plt\n",
    "import numpy as np\n",
    "\n",
    "# Generate some random data\n",
    "x = np.arange(0, 10, 0.1)\n",
    "y = np.sin(x)\n",
    "\n",
    "# Create the plot\n",
    "plt.plot(x, y)\n",
    "plt.xlabel('x')\n",
    "plt.ylabel('y')\n",
    "plt.title('Seno')\n",
    "plt.show()"
   ]
  },
  {
   "cell_type": "markdown",
   "id": "a2659f39-a6d5-4ca9-b282-9148a7cc4659",
   "metadata": {
    "slideshow": {
     "slide_type": "slide"
    },
    "toc-hr-collapsed": true
   },
   "source": [
    "# Escrevendo funções"
   ]
  },
  {
   "cell_type": "markdown",
   "id": "24d3c287-f1de-49a2-ba9f-3b53facc30bc",
   "metadata": {
    "slideshow": {
     "slide_type": "fragment"
    }
   },
   "source": [
    "Para criarmos uma nova função, usamos a sintaxe a seguir:\n",
    "\n",
    "```python\n",
    "def nome_da_funcao():\n",
    "    comandos\n",
    "```\n",
    "\n",
    "Ao contrário de outras linguagens, onde o início e final da função são definidos por palavras chaves como `begin ... end` ou `{ }`, em Python o escopo das instruções que pertencem a uma função é definido pela indentação.\n",
    "\n",
    "Por exemplo, no código abaixo:\n",
    "\n",
    "```python\n",
    "def nome_da_funcao():\n",
    "    instrucao1\n",
    "    instrucao2\n",
    "instrucao3\n",
    "```\n",
    "\n",
    "as instruções 1 e 2 estão dentro da função, enquanto que a instrução 3 está fora dela."
   ]
  },
  {
   "cell_type": "markdown",
   "id": "e6fcfa3f-51d0-4f26-88db-6b4befed6e9c",
   "metadata": {
    "slideshow": {
     "slide_type": "fragment"
    }
   },
   "source": [
    "Em seguida, para utilizarmos a função, basta chamarmos pelo seu nome:\n",
    "\n",
    "`nome_da_funcao()`"
   ]
  },
  {
   "cell_type": "code",
   "execution_count": 14,
   "id": "50c33e9f",
   "metadata": {
    "slideshow": {
     "slide_type": "fragment"
    }
   },
   "outputs": [],
   "source": [
    "# Exemplo de criacao de uma funcao:\n",
    "def exemplo_de_funcao():\n",
    "    print('Hello world!')"
   ]
  },
  {
   "cell_type": "code",
   "execution_count": 15,
   "id": "f5bc9e20",
   "metadata": {
    "slideshow": {
     "slide_type": "fragment"
    }
   },
   "outputs": [
    {
     "name": "stdout",
     "output_type": "stream",
     "text": [
      "Hello world!\n"
     ]
    }
   ],
   "source": [
    "# Chamando a função definida acima:\n",
    "exemplo_de_funcao()"
   ]
  },
  {
   "cell_type": "markdown",
   "id": "5d1468f9-58cd-4ee4-9a47-932bd88781f2",
   "metadata": {
    "slideshow": {
     "slide_type": "fragment"
    }
   },
   "source": [
    "Para criarmos a documentação da função, inserimos um texto entre 3 aspas logo no início da função: \n",
    "\n",
    "```python\n",
    "def nome_da_funcao():\n",
    "    '''\n",
    "    Texto que irá aparecer quando você entrar com o comando help(nome_da_funcao)\n",
    "    '''\n",
    "    instrucao1\n",
    "    instrucao2\n",
    "instrucao3\n",
    "```"
   ]
  },
  {
   "cell_type": "code",
   "execution_count": 6,
   "id": "7574b324",
   "metadata": {
    "slideshow": {
     "slide_type": "fragment"
    }
   },
   "outputs": [],
   "source": [
    "# Exemplo de criacao de uma funcao com o texto de help:\n",
    "def exemplo_de_funcao2():\n",
    "    \"\"\"\n",
    "    Esta função imprime o texto Hello world na tela\n",
    "    \"\"\"\n",
    "    print('Hello world!')"
   ]
  },
  {
   "cell_type": "code",
   "execution_count": 7,
   "id": "04cdec52",
   "metadata": {},
   "outputs": [
    {
     "name": "stdout",
     "output_type": "stream",
     "text": [
      "Help on function exemplo_de_funcao2 in module __main__:\n",
      "\n",
      "exemplo_de_funcao2()\n",
      "    Esta função imprime o texto Hello world na tela\n",
      "\n"
     ]
    }
   ],
   "source": [
    "help(exemplo_de_funcao2)"
   ]
  },
  {
   "cell_type": "code",
   "execution_count": 56,
   "id": "6f97d091",
   "metadata": {
    "slideshow": {
     "slide_type": "skip"
    }
   },
   "outputs": [
    {
     "name": "stdout",
     "output_type": "stream",
     "text": [
      "Help on function exemplo_de_funcao2 in module __main__:\n",
      "\n",
      "exemplo_de_funcao2()\n",
      "    Esta função imprime o texto Hello world na tela\n",
      "\n"
     ]
    }
   ],
   "source": [
    "help(exemplo_de_funcao2)"
   ]
  },
  {
   "cell_type": "markdown",
   "id": "220dd1e2-81b1-4bf7-967f-cfcd425ff88e",
   "metadata": {
    "slideshow": {
     "slide_type": "slide"
    }
   },
   "source": [
    "## Parâmetros de entrada"
   ]
  },
  {
   "cell_type": "markdown",
   "id": "aff8f5dd-418a-4d2a-ac5e-a1f868987983",
   "metadata": {
    "slideshow": {
     "slide_type": "fragment"
    }
   },
   "source": [
    "Uma função pode receber um ou mais parâmetros de entrada:\n",
    "\n",
    "```python\n",
    "def nome_da_funcao(parametro1, parametro2, etc):\n",
    "    instrucoes\n",
    "```"
   ]
  },
  {
   "cell_type": "code",
   "execution_count": 16,
   "id": "2957879e",
   "metadata": {
    "slideshow": {
     "slide_type": "fragment"
    }
   },
   "outputs": [],
   "source": [
    "# Exemplo de funcao com 1 parâmetro de entrada:\n",
    "def quadrado(numero):\n",
    "    quad = numero**2\n",
    "    print('O quadrado de', numero, 'é', quad)"
   ]
  },
  {
   "cell_type": "code",
   "execution_count": 18,
   "id": "7ab9dc65",
   "metadata": {
    "slideshow": {
     "slide_type": "fragment"
    }
   },
   "outputs": [
    {
     "name": "stdout",
     "output_type": "stream",
     "text": [
      "O quadrado de 10 é 100\n"
     ]
    }
   ],
   "source": [
    "x = 2\n",
    "quadrado(10)"
   ]
  },
  {
   "cell_type": "code",
   "execution_count": 16,
   "id": "2bacc9e1",
   "metadata": {
    "slideshow": {
     "slide_type": "fragment"
    }
   },
   "outputs": [],
   "source": [
    "# Exemplo de funcao com 2 parâmetros de entrada:\n",
    "def imc(peso, altura):\n",
    "    '''\n",
    "    Calcula e imprime o IMC (índice de massa corporal)\n",
    "    '''\n",
    "    imc = peso/(altura*altura)\n",
    "    print(f'Seu imc é de {imc:.2f}')"
   ]
  },
  {
   "cell_type": "code",
   "execution_count": 20,
   "id": "892901cf",
   "metadata": {
    "slideshow": {
     "slide_type": "fragment"
    }
   },
   "outputs": [
    {
     "name": "stdout",
     "output_type": "stream",
     "text": [
      "Seu imc é de 14.53\n"
     ]
    }
   ],
   "source": [
    "imc(42, 1.7)"
   ]
  },
  {
   "cell_type": "markdown",
   "id": "56ea1b48-c5cf-4b69-91ee-8bca32dbcf54",
   "metadata": {
    "slideshow": {
     "slide_type": "slide"
    }
   },
   "source": [
    "## Valor de retorno"
   ]
  },
  {
   "cell_type": "markdown",
   "id": "f460defb-5cd8-4838-8507-425095dcb0cf",
   "metadata": {
    "slideshow": {
     "slide_type": "fragment"
    }
   },
   "source": [
    "Uma função pode retornar um ou mais valores como resposta:\n",
    "\n",
    "```python\n",
    "\n",
    "def nome_da_funcao():\n",
    "    return alguma_coisa\n",
    "```"
   ]
  },
  {
   "cell_type": "code",
   "execution_count": 41,
   "id": "303011ba",
   "metadata": {
    "slideshow": {
     "slide_type": "fragment"
    }
   },
   "outputs": [],
   "source": [
    "# Exemplo de funcao com retorno\n",
    "def quadrado(n):\n",
    "    '''\n",
    "    Calcula o quadrado de um número\n",
    "    '''\n",
    "    r = n**2\n",
    "    return r"
   ]
  },
  {
   "cell_type": "code",
   "execution_count": 42,
   "id": "4829df6a",
   "metadata": {
    "slideshow": {
     "slide_type": "fragment"
    }
   },
   "outputs": [
    {
     "name": "stdout",
     "output_type": "stream",
     "text": [
      "36\n"
     ]
    }
   ],
   "source": [
    "x = quadrado(6)\n",
    "print(x)"
   ]
  },
  {
   "cell_type": "markdown",
   "id": "646cea64-c5e2-40fb-bdec-d402f5b22546",
   "metadata": {
    "slideshow": {
     "slide_type": "fragment"
    }
   },
   "source": [
    "Também é possível retornar mais de 1 valor como resposta, separando-os por vírgulas."
   ]
  },
  {
   "cell_type": "code",
   "execution_count": 23,
   "id": "cb5e95cc",
   "metadata": {
    "slideshow": {
     "slide_type": "fragment"
    }
   },
   "outputs": [],
   "source": [
    "from random import randint"
   ]
  },
  {
   "cell_type": "code",
   "execution_count": 24,
   "id": "68a74841",
   "metadata": {
    "slideshow": {
     "slide_type": "fragment"
    }
   },
   "outputs": [],
   "source": [
    "def sorteia_ponto():\n",
    "    \"\"\"\n",
    "    Sorteia um ponto de coordenadas (x,y).\n",
    "    As coordenadas são geradas de forma aleatórias, e encontram-se no intervalo de 0 a 100\n",
    "    \"\"\"\n",
    "    x = randint(0,100)\n",
    "    y = randint(0,100)\n",
    "    return x,y"
   ]
  },
  {
   "cell_type": "code",
   "execution_count": 4,
   "id": "d2a50c62",
   "metadata": {
    "slideshow": {
     "slide_type": "skip"
    }
   },
   "outputs": [
    {
     "name": "stdout",
     "output_type": "stream",
     "text": [
      "Help on function sorteia_ponto in module __main__:\n",
      "\n",
      "sorteia_ponto()\n",
      "    Sorteia um ponto de coordenadas (x,y).\n",
      "    As coordenadas são geradas de forma aleatórias, e encontram-se no intervalo de 0 a 100\n",
      "\n"
     ]
    }
   ],
   "source": [
    "help(sorteia_ponto)"
   ]
  },
  {
   "cell_type": "code",
   "execution_count": 26,
   "id": "e6125c9d",
   "metadata": {
    "slideshow": {
     "slide_type": "fragment"
    }
   },
   "outputs": [
    {
     "name": "stdout",
     "output_type": "stream",
     "text": [
      "55 95\n"
     ]
    }
   ],
   "source": [
    "# É possível salvar os valores de retorno em variáveis separadas\n",
    "x,y = sorteia_ponto()\n",
    "print(x,y)"
   ]
  },
  {
   "cell_type": "markdown",
   "id": "031e0821-ee0d-4166-ba2f-0da7e78d4994",
   "metadata": {
    "slideshow": {
     "slide_type": "slide"
    }
   },
   "source": [
    "## Passando uma função como parâmetro"
   ]
  },
  {
   "cell_type": "markdown",
   "id": "e3ff6236-3468-455e-8ced-8bc24a9b33af",
   "metadata": {
    "slideshow": {
     "slide_type": "fragment"
    }
   },
   "source": [
    "É possível passar **uma função como parâmetro para outra função**.\n",
    "\n",
    "Por exemplo, podemos passar uma função `f` como parâmetro de entrada de uma função `g`:\n",
    "\n",
    "```python\n",
    "def g(f):\n",
    "    instrucoes\n",
    "```\n"
   ]
  },
  {
   "cell_type": "markdown",
   "id": "f4c28414-72ab-459f-a850-533c89834d27",
   "metadata": {},
   "source": [
    "Por exemplo, suponha que você tenha um modelo de uma massa oscilando no tempo, dado pela função:\n",
    "\n",
    "$m_x(t) = 5\\cos(2t + 0.2)$\n",
    "\n",
    "Você está interessado em saber a distância da massa até um ponto $x_g$ no instante $t$."
   ]
  },
  {
   "cell_type": "code",
   "execution_count": 70,
   "id": "385f1ec0-0266-4daa-b5cd-de3a72ae145f",
   "metadata": {},
   "outputs": [],
   "source": [
    "import math as m\n",
    "\n",
    "# Modelo da massa oscilando no tempo:\n",
    "def mx(t):\n",
    "    return 5*m.cos(2*t+0.2)"
   ]
  },
  {
   "cell_type": "code",
   "execution_count": 73,
   "id": "148ccc59-a7fb-4a37-adca-90a8ce4e4033",
   "metadata": {},
   "outputs": [],
   "source": [
    "# calcula a distancia da funcao \n",
    "def g(x, t, xg):\n",
    "    return x(t) - xg"
   ]
  },
  {
   "cell_type": "code",
   "execution_count": 74,
   "id": "6508f28f-de8f-424f-bae8-8488d22ef036",
   "metadata": {},
   "outputs": [
    {
     "data": {
      "text/plain": [
       "-7.571328260136001"
      ]
     },
     "execution_count": 74,
     "metadata": {},
     "output_type": "execute_result"
    }
   ],
   "source": [
    "# rodando a funcao g:\n",
    "# Determinando a distancia de x(5) em relação ao ponto 4\n",
    "g(mx, 5, 4)"
   ]
  },
  {
   "cell_type": "markdown",
   "id": "2f91875d-de61-4932-9f6d-ce667e376844",
   "metadata": {},
   "source": [
    "Por exemplo, suponha que você tenha uma função $f_1(x)$ dada por:\n",
    "\n",
    "$f_1(x) = x^2 -5x$\n",
    "\n",
    "e uma função $f_2(x)$ dada por:\n",
    "\n",
    "$f_2(x) = ln(x) + x$\n",
    "\n",
    "Você quer saber qual das duas funções se aproxima mais do valor $y = 10$ no ponto $x = 8$.\n",
    "\n",
    "Podemos criar uma função $g(f,x)$ que determina a distância de $f(x)$ em relação ao valor 10, quando $x = 8$."
   ]
  },
  {
   "cell_type": "code",
   "execution_count": 59,
   "id": "fefd1674",
   "metadata": {
    "slideshow": {
     "slide_type": "fragment"
    }
   },
   "outputs": [],
   "source": [
    "# Exemplo de passagem de função como parâmetro\n",
    "\n",
    "import math as m\n",
    "\n",
    "# calcula xcos(x)\n",
    "def f1(x):\n",
    "    return x**2 - 5*x\n",
    "\n",
    "# calcula ln(x) + x\n",
    "def f2(x):\n",
    "    return m.log(x) + x\n",
    "\n",
    "# A função g recebe uma função como entrada e um parâmetro n\n",
    "def g(f, x):\n",
    "    print('O valor calculado foi de', f(x))"
   ]
  },
  {
   "cell_type": "code",
   "execution_count": 64,
   "id": "c60dabac",
   "metadata": {
    "slideshow": {
     "slide_type": "fragment"
    }
   },
   "outputs": [
    {
     "name": "stdout",
     "output_type": "stream",
     "text": [
      "O valor calculado foi de 24\n",
      "O valor calculado foi de 10.079441541679836\n"
     ]
    }
   ],
   "source": [
    "g(f1, 8) # f1(10)\n",
    "g(f2, 8) # f2(10)"
   ]
  },
  {
   "cell_type": "markdown",
   "id": "abd7f12c-0b2d-4673-af6b-d8de63e15a74",
   "metadata": {
    "slideshow": {
     "slide_type": "slide"
    }
   },
   "source": [
    "## Exemplo"
   ]
  },
  {
   "cell_type": "markdown",
   "id": "00a25d32-b11e-4d97-bf70-3e670981df3d",
   "metadata": {
    "slideshow": {
     "slide_type": "fragment"
    }
   },
   "source": [
    "Crie uma função que receba um número como entrada um número `n` e determine se ele é par.\n",
    "Ele deve retornar `True` se `n` for par e `False` se for ímpar."
   ]
  },
  {
   "cell_type": "markdown",
   "id": "6c16193c-fa17-42ce-a8d4-25e2f3fc86bb",
   "metadata": {
    "slideshow": {
     "slide_type": "fragment"
    }
   },
   "source": [
    "**Definição da função:**"
   ]
  },
  {
   "cell_type": "code",
   "execution_count": 54,
   "id": "ebf06596",
   "metadata": {
    "code_folding": [],
    "slideshow": {
     "slide_type": "fragment"
    }
   },
   "outputs": [],
   "source": [
    "def par(n):\n",
    "    if type(n) == int or type(n) == float:\n",
    "        if n%2 == 0:\n",
    "            return True\n",
    "        else:\n",
    "            return False\n",
    "    else:\n",
    "        print('Por favor, entre com um numero inteiro')"
   ]
  },
  {
   "cell_type": "markdown",
   "id": "017d2a5f-27dd-41d9-9f33-8073656f5a24",
   "metadata": {
    "slideshow": {
     "slide_type": "fragment"
    }
   },
   "source": [
    "**Chamada da função:**"
   ]
  },
  {
   "cell_type": "code",
   "execution_count": 55,
   "id": "ae07fa27",
   "metadata": {
    "slideshow": {
     "slide_type": "fragment"
    }
   },
   "outputs": [
    {
     "data": {
      "text/plain": [
       "False"
      ]
     },
     "execution_count": 55,
     "metadata": {},
     "output_type": "execute_result"
    }
   ],
   "source": [
    "par(5.0)"
   ]
  },
  {
   "cell_type": "markdown",
   "id": "4de88f41-ae20-42f0-85b5-e5727128c967",
   "metadata": {
    "slideshow": {
     "slide_type": "fragment"
    }
   },
   "source": [
    "## Exercício 1"
   ]
  },
  {
   "cell_type": "markdown",
   "id": "1271a873-43d8-4a25-8c4e-d38af3dde26a",
   "metadata": {},
   "source": [
    "Crie uma função que receba um número `n` como entrada e determine se ele está entre 0 e 10.\n",
    "Ele deve retornar `True` se $0 \\leq n \\leq 10$ e `False` caso contrário."
   ]
  },
  {
   "cell_type": "markdown",
   "id": "9f4428fb-4fb5-44a4-89cf-26d25ed886c7",
   "metadata": {},
   "source": [
    "**Definição da função:**"
   ]
  },
  {
   "cell_type": "code",
   "execution_count": 56,
   "id": "4425c916",
   "metadata": {},
   "outputs": [],
   "source": [
    "def entre0e10(n):\n",
    "    if type(n) == int or type(n) == float:\n",
    "        if n >= 0 and n <= 10:\n",
    "            return True\n",
    "        else:\n",
    "            return False\n",
    "    else:\n",
    "        print('Esta funcao esperava um numero como entrada')"
   ]
  },
  {
   "cell_type": "markdown",
   "id": "457a303d-4a40-42cf-8bf3-7822a601ebd5",
   "metadata": {},
   "source": [
    "**Chamada da função:**"
   ]
  },
  {
   "cell_type": "code",
   "execution_count": 61,
   "id": "e48097cb",
   "metadata": {},
   "outputs": [
    {
     "data": {
      "text/plain": [
       "True"
      ]
     },
     "execution_count": 61,
     "metadata": {},
     "output_type": "execute_result"
    }
   ],
   "source": [
    "entre0e10(2)"
   ]
  },
  {
   "cell_type": "markdown",
   "id": "3f465910-e5ba-4694-b2e9-d67d8ce6494e",
   "metadata": {},
   "source": [
    "## Exercício 2\n",
    "\n",
    "Crie uma função que calcule do volume de uma esfera, sabendo que o volume é dado por:\n",
    "\n",
    "$V = \\dfrac{4}{3}\\pi R ^3$\n",
    "\n",
    "Receba o raio como parâmetro de entrada e retorne o volume como resposta."
   ]
  },
  {
   "cell_type": "markdown",
   "id": "c6d7a5b6-e878-4582-8bd3-5ea8d7fcdadb",
   "metadata": {},
   "source": [
    "**Definição da função:**"
   ]
  },
  {
   "cell_type": "code",
   "execution_count": 67,
   "id": "698b41be",
   "metadata": {},
   "outputs": [],
   "source": [
    "from math import pi\n",
    "def volume(R):\n",
    "    V = (4/3)*pi*R**3\n",
    "    return V"
   ]
  },
  {
   "cell_type": "markdown",
   "id": "85de23d0-4327-4138-b857-18e2f8188441",
   "metadata": {},
   "source": [
    "**Chamada da função:**"
   ]
  },
  {
   "cell_type": "code",
   "execution_count": 70,
   "id": "9d2c4f96",
   "metadata": {},
   "outputs": [
    {
     "data": {
      "text/plain": [
       "33.510321638291124"
      ]
     },
     "execution_count": 70,
     "metadata": {},
     "output_type": "execute_result"
    }
   ],
   "source": [
    "volume(2)"
   ]
  },
  {
   "cell_type": "markdown",
   "id": "9e966633-996d-4111-9a95-2c5d63e416ed",
   "metadata": {},
   "source": [
    "## Exercício 3\n",
    "\n",
    "Crie uma função que receba uma temperatura em Fahrenheit e converta-a para a escala Celsius.\n"
   ]
  },
  {
   "cell_type": "markdown",
   "id": "31e79b56-7554-4f89-b901-c9b77a909772",
   "metadata": {},
   "source": [
    "**Definição da função:**"
   ]
  },
  {
   "cell_type": "code",
   "execution_count": null,
   "id": "cde29f9e",
   "metadata": {},
   "outputs": [],
   "source": []
  },
  {
   "cell_type": "markdown",
   "id": "c78d3ac2-a40d-4f79-a765-9bd7f20887d4",
   "metadata": {},
   "source": [
    "**Chamada da função:**"
   ]
  },
  {
   "cell_type": "code",
   "execution_count": null,
   "id": "7048cad4",
   "metadata": {},
   "outputs": [],
   "source": []
  },
  {
   "cell_type": "markdown",
   "id": "f2c61580-4d48-47c5-895b-f4f2069f58c6",
   "metadata": {},
   "source": [
    "## Exercício 4\n",
    "\n",
    "Crie uma função que receba o valor de $x$ e determine se $x$ é raíz da função $f(x) = -12 -21x +18x^2 -2,75x^3$."
   ]
  },
  {
   "cell_type": "markdown",
   "id": "5d1b0547-5bfe-482d-812c-15c9c7cd00e5",
   "metadata": {},
   "source": [
    "**Definição da função:**"
   ]
  },
  {
   "cell_type": "code",
   "execution_count": 31,
   "id": "8023f96a",
   "metadata": {},
   "outputs": [],
   "source": [
    "def funcao(x):\n",
    "    return -12 -21*x + 18*x**2 - 2.75*x**3\n",
    "\n",
    "def raiz(x, f):\n",
    "    y = f(x)\n",
    "    return abs(y) < 1e-6"
   ]
  },
  {
   "cell_type": "markdown",
   "id": "a7906772-6abb-4ac2-935b-9d0c90b8671e",
   "metadata": {},
   "source": [
    "**Chamada da função:**"
   ]
  },
  {
   "cell_type": "code",
   "execution_count": 32,
   "id": "7e74adbc",
   "metadata": {},
   "outputs": [
    {
     "data": {
      "text/plain": [
       "True"
      ]
     },
     "execution_count": 32,
     "metadata": {},
     "output_type": "execute_result"
    }
   ],
   "source": [
    "#raiz(-0.41468941, funcao1)\n",
    "raiz(10, funcao2)"
   ]
  },
  {
   "cell_type": "markdown",
   "id": "32826a70-46c1-4923-aaf4-ae4bf53d34b6",
   "metadata": {},
   "source": [
    "# A biblioteca Scipy"
   ]
  },
  {
   "cell_type": "markdown",
   "id": "4c4af6a4-83a0-4d99-8aba-1609459036e2",
   "metadata": {},
   "source": [
    "Scipy é uma biblioteca Python para computação científica. Ela é construído sobre a biblioteca NumPy e fornece muitas ferramentas e funções para trabalhar com dados científicos, como otimização, interpolação, integração, processamento de sinal e imagem, álgebra linear e estatística.\n",
    "\n",
    "O Scipy inclui uma ampla variedade de subpacotes, cada um deles focado em uma área específica da computação científica. Alguns dos subpacotes mais usados são:\n",
    "\n",
    "* scipy.optimize: fornece funções para otimizar (minimizar ou maximizar) funções objetivas.\n",
    "* scipy.integrate: fornece funções para integração numérica de equações diferenciais ordinárias e outros métodos numéricos para resolver equações diferenciais.\n",
    "* scipy.interpolate: fornece funções para interpolação de pontos de dados com vários métodos de interpolação.\n",
    "* scipy.signal: fornece funções para processamento de sinais, como filtragem, transformadas de Fourier e transformada wavelet.\n",
    "* scipy.linalg: fornece funções para álgebra linear, resolução de equações lineares e problemas de autovalor.\n",
    "* scipy.stats: fornece funções para análise estatística de dados, como distribuições de probabilidade e teste de hipóteses."
   ]
  },
  {
   "cell_type": "markdown",
   "id": "c4d45903-3793-4ac1-aa7f-6fd598d7a0c1",
   "metadata": {
    "slideshow": {
     "slide_type": "slide"
    }
   },
   "source": [
    "## Otimização unidimensional"
   ]
  },
  {
   "cell_type": "markdown",
   "id": "515f6479-1eee-482f-bfd3-d8cb73d188a7",
   "metadata": {
    "slideshow": {
     "slide_type": "fragment"
    }
   },
   "source": [
    "Em um sentido mais amplo, a otimização consiste em buscar a melhor solução possível para um determinado problema.\n",
    "\n",
    "Em diversos problemas de engenharia a otimização inicia pelo estágio da criação de um modelo matemático do sistema que deseja-se otimizar e, em seguida, a aplicação de técnicas matemáticas para maximizar ou minimizar uma função que caracteriza o objetivo ou o custo.\n",
    "\n",
    "O problema de otimização pode ser mais formalmente definido como:\n",
    "\n",
    "\\begin{equation} \n",
    "minimizar f(x), x \\in \\Omega\n",
    "\\end{equation}\n",
    "\n",
    "Outra formulação comum é quando queremos achar o máximo de uma função, ou então:\n",
    "\n",
    "\\begin{equation} \n",
    "maximizar f(x), x \\in \\Omega\n",
    "\\end{equation}\n",
    "\n",
    "O caso mais simples consiste quando a função que deseja-se otimizar é unidimensional.\n",
    "Neste caso, temos que $x \\in \\mathbb{R}$"
   ]
  },
  {
   "cell_type": "markdown",
   "id": "e1d783eb-8206-4bef-92c7-72e7900c7e74",
   "metadata": {},
   "source": [
    "No Python, a biblioteca `Scipy` fornece a função `minimize_scalar`, que realiza a otimização (minização):\n",
    "\n",
    "`scipy.optimize.minimize_scalar(fun, bracket=None, bounds=None, args=(), method=None, tol=None, options=None)`\n",
    "\n",
    "Minimization of scalar function of one variable.\n",
    "\n",
    "**Parameters:**\n",
    "\n",
    "**fun**: callable \n",
    "  * Objective function. Scalar function, must return a scalar.\n",
    "\n",
    "**bracket**: sequence, optional\n",
    "  * For methods ‘brent’ and ‘golden’, bracket defines the bracketing interval and can either have three items (a, b, c) so that a < b < c and fun(b) < fun(a), fun(c) or two items a and c which are assumed to be a starting interval for a downhill bracket search (see bracket); it doesn’t always mean that the obtained solution will satisfy a <= x <= c.\n",
    "\n",
    "**bounds**: sequence, optional\n",
    "  * For method ‘bounded’, bounds is mandatory and must have two finite items corresponding to the optimization bounds.\n",
    "\n",
    "**args**: tuple, optional\n",
    "  * Extra arguments passed to the objective function.\n",
    "\n",
    "**method**: str or callable, optional\n",
    "  * Type of solver. Should be one of:\n",
    "    * Brent\n",
    "    * Bounded\n",
    "    * Golden\n",
    "    * custom - a callable object (added in version 0.14.0), see below\n",
    "\n",
    "Default is “Bounded” if bounds are provided and “Brent” otherwise. See the ‘Notes’ section for details of each solver.\n",
    "\n",
    "**tol**: float, optional\n",
    "  * Tolerance for termination. For detailed control, use solver-specific options.\n",
    "\n",
    "**options**: dict, optional\n",
    "  * A dictionary of solver options.\n",
    "\n",
    "**maxiter**: int\n",
    "Maximum number of iterations to perform.\n",
    "\n",
    "**disp**: bool\n",
    "  * Set to True to print convergence messages.\n",
    "\n",
    "See show_options for solver-specific options.\n",
    "\n",
    "**Returns:**\n",
    "\n",
    "**res:** OptimizeResult\n",
    "  * The optimization result represented as a OptimizeResult object. Important attributes are: x the solution array, success a Boolean flag indicating if the optimizer exited successfully and message which describes the cause of the termination. See OptimizeResult for a description of other attributes."
   ]
  },
  {
   "cell_type": "markdown",
   "id": "92fe7bf6-f522-4b2d-997c-c54e2b83bb50",
   "metadata": {},
   "source": [
    "### Exemplo"
   ]
  },
  {
   "cell_type": "markdown",
   "id": "3c605de7-6ca1-458f-8ca7-b8fd3c45e038",
   "metadata": {},
   "source": [
    "Vamos encontrar o mínimo da função $(x-2)^2 + 3$"
   ]
  },
  {
   "cell_type": "code",
   "execution_count": 1,
   "id": "671d365a-8b4a-4492-a78e-15ce6eea1cd6",
   "metadata": {},
   "outputs": [
    {
     "name": "stdout",
     "output_type": "stream",
     "text": [
      "f(x) mínimo: 3.0\n",
      "x mínimo: 1.9999999999999998\n"
     ]
    }
   ],
   "source": [
    "from scipy.optimize import minimize_scalar\n",
    "\n",
    "# Definindo a função objetivo a ser minimizada\n",
    "def f(x):\n",
    "    return (x - 2) ** 2 + 3\n",
    "\n",
    "# encontrando o mínimo da função\n",
    "res = minimize_scalar(f)\n",
    "\n",
    "# Imprimindo o valor de f(min) e min\n",
    "print('f(x) mínimo:', res.fun)\n",
    "print('x mínimo:', res.x)"
   ]
  },
  {
   "cell_type": "markdown",
   "id": "6d04d1b4-f8f0-460c-89dc-a3944b75ccc4",
   "metadata": {},
   "source": [
    "### Exemplo\n",
    "\n",
    "[CHAPRA, Ex. 7.26] A taxa de crescimento específico de uma cultura que produz um antibiótico é uma função da concentração de alimento $c$:\n",
    "\n",
    "\\begin{equation}\n",
    "g = \\dfrac{2c}{4 + 0,8c + c^2 +0,2c^3}\n",
    "\\end{equation}\n",
    "\n",
    "O crescimento tende a zero em concentrações muito baixas em decorrência da limitação de alimentos, e também tende a zero em concentrações muito altas por causa do efeito de toxidade.\n",
    "\n",
    "* Plote o gráfico da função\n",
    "* Encontre o valor no qual o crescimento é maximo."
   ]
  },
  {
   "cell_type": "code",
   "execution_count": null,
   "id": "a787580a-fed6-443c-8869-0222156926ad",
   "metadata": {},
   "outputs": [],
   "source": []
  },
  {
   "cell_type": "markdown",
   "id": "ceaea265-3231-46f7-b6c1-ef1daa1c9953",
   "metadata": {},
   "source": [
    "### Exemplo\n",
    "\n",
    "Fonte: Oliveira, Samuel & Pereira, Felix. (2015). Um Modelo Matemático Simples para a Otimização de Bioprocessos em Batelada: Estudo de Caso da Produção de um Metabólito Primário. 10.5151/biochem-vsimbbtec-22070. \n",
    "\n",
    "Suponha que você tenha um processo em batelada operado ciclicamente, ou seja, as etapas de carregamento, inoculação, fermentação, descarregamento e limpeza são repetidas indefinidamente.\n",
    "Vamos buscar a maximização da produtividade do processo.\n",
    "\n",
    "A produtividade $Pr$ pode ser equacionada como:\n",
    "\n",
    "\\begin{equation}\n",
    "Pr = \\dfrac{P}{t + t_c}\n",
    "\\end{equation}\n",
    "\n",
    "onde $t_c$ o tempo morto (etapa improdutiva), $t$ o tempo de fermentação e $P$ é a concentração do produto.\n",
    "\n",
    "A concentração $P$ do produto é dada por\n",
    "\n",
    "\\begin{equation}\n",
    "P = Y_{P/S}(S_0 - S)\n",
    "\\end{equation}\n",
    "\n",
    "onde a concentração de nutriente é dado por:\n",
    "\n",
    "\\begin{equation}\n",
    "S = \\left[S_0^{(1-\\delta)} - k(1-\\delta)t \\right]^{1/(1-\\delta)}\n",
    "\\end{equation}\n",
    "\n",
    "Determine o tempo e o valor onde ocorre a máxima produtividade para os seguintes valores:\n",
    "\n",
    "* Tempo reacional: $t_c = 0,5$\n",
    "* Coeficiente de rendimento do produto: $Y_{P/S} = 0,31$\n",
    "* Concentração inicial: $S_0 = 111,5$\n",
    "* $k = 4,3652$\n",
    "* $\\delta = 0,59395$"
   ]
  },
  {
   "cell_type": "markdown",
   "id": "fb3f73be-e747-4cfc-977d-610467259ee1",
   "metadata": {
    "slideshow": {
     "slide_type": "slide"
    }
   },
   "source": [
    "## Otimização multidimensional - Gradiente"
   ]
  },
  {
   "cell_type": "markdown",
   "id": "823a89d0-cebc-419e-ac12-5b1af2ea1f28",
   "metadata": {
    "slideshow": {
     "slide_type": "fragment"
    }
   },
   "source": [
    "Existem diversas formas de resolver o problema de otimização no caso de funções multidimensionais.\n",
    "\n",
    "Uma família delas baseia-se na derivada da função e, de forma parecida com o método de Newton, utilizamos a derivada multidimensional (mais conhecido como **gradiente**) para indicar a direção que deverá ser percorrida.\n",
    "\n",
    "O algoritmo busca, em cada iteração, a direção com maior declividade, e caminha um passo nesta direção.\n",
    "Em seguida, realiza os mesmos cálculos para o próximo passo.\n",
    "O comportamento observado é o de uma esfera descendo por um vale.\n",
    "\n",
    "Matematicamente, podemos definir o algoritmo da seguinte forma:\n",
    "\n",
    "Dado uma função $f = f(x_1, x_2, \\ldots, x_n)$, o gradiente dela é definido como:\n",
    "\n",
    "\\begin{equation}\n",
    "\\nabla f = \\begin{bmatrix}\n",
    "\\dfrac{\\partial f}{\\partial x_1} \\ldots \\dfrac{\\partial f}{\\partial x_n} \n",
    "\\end{bmatrix}\n",
    "\\end{equation}\n",
    "\n",
    "O algoritmo baseado na descida do gradiente busca, em cada instante, caminhar um passo de tamanho $\\gamma$ na direção de maior declividade, atualizando sua posição conforme a equação:\n",
    "\n",
    "\\begin{equation}\n",
    "x_{i+1} = x_i - \\gamma \\nabla f(x_i)\n",
    "\\end{equation}"
   ]
  },
  {
   "cell_type": "markdown",
   "id": "a44330c9-a134-4eea-86d2-1574176069fa",
   "metadata": {
    "slideshow": {
     "slide_type": "fragment"
    }
   },
   "source": [
    "Exemplo:\n",
    "\n",
    "Considere a função \n",
    "\n",
    "$\n",
    "f(x_1, x_2) = 2 + x_1 - x_2 + 2x_1^2 + 2x_1x_2 + x_2^2\n",
    "$\n",
    "\n",
    "cujo gradiente é dado por:\n",
    "\n",
    "$\n",
    "\\nabla(x_1, x_2) = \\begin{bmatrix}1 + 4x_1 + 2x_2 &,& -1 +2x_1 +2x_2 \\end{bmatrix}\n",
    "$\n"
   ]
  },
  {
   "cell_type": "code",
   "execution_count": 2,
   "id": "7f2805ba",
   "metadata": {
    "slideshow": {
     "slide_type": "fragment"
    }
   },
   "outputs": [
    {
     "data": {
      "text/plain": [
       "      fun: 0.75\n",
       " hess_inv: array([[ 0.5, -0.5],\n",
       "       [-0.5,  1. ]])\n",
       "      jac: array([0., 0.])\n",
       "  message: 'Optimization terminated successfully.'\n",
       "     nfev: 6\n",
       "      nit: 4\n",
       "     njev: 6\n",
       "   status: 0\n",
       "  success: True\n",
       "        x: array([-1. ,  1.5])"
      ]
     },
     "execution_count": 2,
     "metadata": {},
     "output_type": "execute_result"
    }
   ],
   "source": [
    "import scipy.optimize as opt\n",
    "\n",
    "def f(X):\n",
    "    # 2 + x1 - x2 +2x1^2 + 2x1x2 + x2^2\n",
    "    x1 = X[0]\n",
    "    x2 = X[1]\n",
    "    return 2 + x1 - x2 + 2*x1**2 + 2*x1*x2 + x2**2\n",
    "    \n",
    "def jacobiano(X):\n",
    "    # [1 + 4x1 +2x2 ; -1 + 2x1 + 2x2]\n",
    "    x1 = X[0]\n",
    "    x2 = X[1]\n",
    "    j11 = 1 + 4*x1 + 2*x2\n",
    "    j12 = -1 +2*x1 +2*x2\n",
    "    return [j11, j12]\n",
    "\n",
    "opt.minimize(f, x0=[0,0], jac=jacobiano)"
   ]
  },
  {
   "cell_type": "markdown",
   "id": "4ba11387-d0bc-4c0e-9269-171b299b0ea4",
   "metadata": {},
   "source": [
    "## Sistemas de equações não-lineares\n",
    "\n",
    "Vamos resolver o sistema de equações **não-lineares**:\n",
    "\n",
    "$\n",
    "\\left\\{\n",
    "\\begin{eqnarray}\n",
    "x^2 + xy = 10 \\\\\n",
    "y + 3xy^2 = 57\n",
    "\\end{eqnarray}\n",
    "\\right.\n",
    "$\n",
    "\n",
    "Uma forma já conhecida é tratar o sistema como uma função bidimensional e transformar o problema em encontrar o zero da função, ou seja:\n",
    "\n",
    "$\n",
    "\\begin{aligned}\n",
    "f_1(x,y)& = x^2 + xy - 10 \\\\\n",
    "f_2(x,y)& = y + 3xy^2 - 57\n",
    "\\end{aligned}\n",
    "$"
   ]
  },
  {
   "cell_type": "markdown",
   "id": "840e0672-2012-4b6e-ae04-0cff4269d5db",
   "metadata": {},
   "source": [
    "Em seguida, podemos utilizar o comando `root`:\n",
    "\n",
    "`scipy.optimize.root(fun, x0, args=(), method='hybr', jac=None, tol=None, callback=None, options=None)`\n",
    "\n",
    "Link: [scipy.optimize.root](https://docs.scipy.org/doc/scipy/reference/generated/scipy.optimize.root.html#scipy.optimize.root)"
   ]
  },
  {
   "cell_type": "code",
   "execution_count": 58,
   "id": "ba7a2e88-44f3-469c-8190-87e4c9b585a0",
   "metadata": {},
   "outputs": [
    {
     "data": {
      "text/plain": [
       " message: The solution converged.\n",
       " success: True\n",
       "  status: 1\n",
       "     fun: [-3.553e-15  7.105e-15]\n",
       "       x: [ 2.000e+00  3.000e+00]\n",
       "    nfev: 35\n",
       "    fjac: [[-2.630e-01 -9.648e-01]\n",
       "           [-9.648e-01  2.630e-01]]\n",
       "       r: [-2.695e+01 -3.569e+01  7.606e+00]\n",
       "     qtf: [ 3.317e-10 -1.224e-10]"
      ]
     },
     "execution_count": 58,
     "metadata": {},
     "output_type": "execute_result"
    }
   ],
   "source": [
    "import scipy.optimize as opt\n",
    "\n",
    "def A(X):\n",
    "    x = X[0]\n",
    "    y = X[1]\n",
    "    f0 = x**2 +x*y - 10\n",
    "    f1 = y + 3*x*y**2 - 57\n",
    "    return [f0, f1]\n",
    "\n",
    "opt.root(A, [0,0])"
   ]
  },
  {
   "cell_type": "markdown",
   "id": "e0dd766a-04a3-473d-b8fa-381c1bb36356",
   "metadata": {},
   "source": [
    "# EDO: Crescimento exponencial\n",
    "\n",
    "Quando o crescimento populacional é proporcional a quantidade de indivíduos presente, ele pode ser modelado como:\n",
    "\n",
    "\\begin{equation}\n",
    "\\dfrac{dN}{dt} = kN\n",
    "\\end{equation}\n",
    "\n",
    "cuja solução é:\n",
    "\n",
    "\\begin{equation}\n",
    "N(t) = N_0 e^{kt}\n",
    "\\end{equation}\n"
   ]
  },
  {
   "cell_type": "code",
   "execution_count": 57,
   "id": "c3ba955b-1ea5-4aa8-a5ba-a989bcfcec8d",
   "metadata": {},
   "outputs": [
    {
     "data": {
      "text/plain": [
       "[<matplotlib.lines.Line2D at 0x25a40cb87c0>]"
      ]
     },
     "execution_count": 57,
     "metadata": {},
     "output_type": "execute_result"
    },
    {
     "data": {
      "image/png": "[encoded data removed]",
      "text/plain": [
       "<Figure size 640x480 with 1 Axes>"
      ]
     },
     "metadata": {},
     "output_type": "display_data"
    },
    {
     "data": {
      "image/png": "[encoded data removed]",
      "text/plain": [
       "<Figure size 640x480 with 1 Axes>"
      ]
     },
     "metadata": {},
     "output_type": "display_data"
    }
   ],
   "source": [
    "import numpy as np\n",
    "import matplotlib.pyplot as plt\n",
    "from scipy.integrate import solve_ivp\n",
    "\n",
    "def crescimento_exponencial(t, N, k):\n",
    "    dNdt = k*N\n",
    "    return dNdt\n",
    "\n",
    "t = np.linspace(0,10,21)\n",
    "k = 0.5\n",
    "N0 = 1\n",
    "\n",
    "sol = solve_ivp( crescimento_exponencial, t_span=[0, 10],y0=[N0],t_eval=t,args=[k])\n",
    "#print(sol)\n",
    "plt.plot(sol.t, sol.y[0])\n",
    "\n",
    "resposta = N0*np.exp(k*sol.t)\n",
    "plt.plot(sol.t, resposta, 'or')\n",
    "plt.figure()\n",
    "plt.plot(resposta - sol.y[0])"
   ]
  },
  {
   "cell_type": "markdown",
   "id": "fef96928-c4c7-493e-80ba-1f72286f1c93",
   "metadata": {
    "slideshow": {
     "slide_type": "slide"
    }
   },
   "source": [
    "# Sistemas de EDOs - PVI\n",
    "\n",
    "Nesta seção vamos ver como resolver um sistema de equações diferenciais ordinárias onde são fornecidas as condições em um mesmo instante (PVI)."
   ]
  },
  {
   "cell_type": "markdown",
   "id": "9fc5280e-8ba0-4955-8d08-583c3c2208b2",
   "metadata": {
    "slideshow": {
     "slide_type": "fragment"
    }
   },
   "source": [
    "Suponha que tenhamos um sistema de equações diferenciais que desejamos resolver, do tipo:\n",
    "\n",
    "\\begin{equation} \\label{eq:sode}\n",
    "\\begin{array}{c}\n",
    "\\dfrac{dy_1}{dt} = f_1(t, y_1, y_2, \\ldots, y_n) \\\\\n",
    "\\dfrac{dy_2}{dt} = f_2(t, y_1, y_2, \\ldots, y_n) \\\\\n",
    "\\vdots \\\\\n",
    "\\dfrac{dy_n}{dt} = f_n(t, y_1, y_2, \\ldots, y_n) \n",
    "\\end{array}\n",
    "\\end{equation}"
   ]
  },
  {
   "cell_type": "markdown",
   "id": "3aec6d56-896e-4672-8422-69c33105d763",
   "metadata": {
    "slideshow": {
     "slide_type": "fragment"
    }
   },
   "source": [
    "## Exemplo: Predador-presa\n",
    "\n",
    "https://scipy-cookbook.readthedocs.io/items/LoktaVolterraTutorial.html\n",
    "\n"
   ]
  },
  {
   "cell_type": "markdown",
   "id": "de53ca93-f8be-4b8e-8194-3bde5b4caf20",
   "metadata": {
    "slideshow": {
     "slide_type": "fragment"
    }
   },
   "source": [
    "\\begin{equation}\n",
    "\\dfrac{dx}{dt} = x(\\alpha - \\beta y)\n",
    "\\end{equation}\n",
    "\n",
    "\\begin{equation}\n",
    "\\dfrac{dy}{dt} = y(\\delta x - \\gamma)\n",
    "\\end{equation}"
   ]
  },
  {
   "cell_type": "code",
   "execution_count": 3,
   "id": "0a1719de-631e-409e-b9ef-1c1266785afc",
   "metadata": {
    "slideshow": {
     "slide_type": "fragment"
    }
   },
   "outputs": [],
   "source": [
    "# definindo a função de Lotka-Volterra (predador-presa)\n",
    "# dx/dt = x(a - by)\n",
    "# dy/dt = y(dx - c)\n",
    "def predadorpresa(t, Y):\n",
    "    a = 1.0\n",
    "    b = 0.1\n",
    "    c = 1.5\n",
    "    d = 0.075\n",
    "    x = Y[0]\n",
    "    y = Y[1]\n",
    "    dy_dt = [ x*(a - b*y) , y*(d*x - c) ]\n",
    "    return dy_dt"
   ]
  },
  {
   "cell_type": "code",
   "execution_count": 4,
   "id": "3c4871f0-798b-409d-8a9e-19f19d7d0b5e",
   "metadata": {
    "slideshow": {
     "slide_type": "fragment"
    }
   },
   "outputs": [
    {
     "data": {
      "text/plain": [
       "[<matplotlib.lines.Line2D at 0x1ede41782b0>]"
      ]
     },
     "execution_count": 4,
     "metadata": {},
     "output_type": "execute_result"
    },
    {
     "data": {
      "image/png": "[encoded data removed]",
      "text/plain": [
       "<Figure size 800x550 with 1 Axes>"
      ]
     },
     "metadata": {
      "needs_background": "light"
     },
     "output_type": "display_data"
    },
    {
     "data": {
      "image/png": "[encoded data removed]",
      "text/plain": [
       "<Figure size 800x550 with 1 Axes>"
      ]
     },
     "metadata": {
      "needs_background": "light"
     },
     "output_type": "display_data"
    }
   ],
   "source": [
    "import numpy as np\n",
    "import matplotlib.pyplot as plt\n",
    "from scipy.integrate import solve_ivp\n",
    "\n",
    "# definindo os instantes que serão utilizados no cálculo \n",
    "tinicial = 0\n",
    "tfinal = 20\n",
    "t = np.linspace(tinicial , tfinal, 200)\n",
    "\n",
    "# definindo a condição inicial (PVI)\n",
    "y0 = [10 , 5]\n",
    "\n",
    "# chamando o método numérico que calcula a solução da EDO\n",
    "sol = solve_ivp( predadorpresa, y0 = y0, t_span = [tinicial, tfinal],  t_eval = t)\n",
    "presa = sol.y[0]\n",
    "predador = sol.y[1]\n",
    "\n",
    "# exibindo o gráfico da resposta\n",
    "plt.plot(t, presa, t, predador)\n",
    "plt.legend(['Coelhos', 'Raposas'])\n",
    "\n",
    "plt.figure()\n",
    "plt.plot(predador, presa, lw=1)"
   ]
  },
  {
   "cell_type": "code",
   "execution_count": null,
   "id": "56d9d74b-2cce-4344-84c2-56baf4d564bc",
   "metadata": {},
   "outputs": [],
   "source": []
  }
 ],
 "metadata": {
  "kernelspec": {
   "display_name": "Python 3 (ipykernel)",
   "language": "python",
   "name": "python3"
  },
  "language_info": {
   "codemirror_mode": {
    "name": "ipython",
    "version": 3
   },
   "file_extension": ".py",
   "mimetype": "text/x-python",
   "name": "python",
   "nbconvert_exporter": "python",
   "pygments_lexer": "ipython3",
   "version": "3.10.10"
  },
  "toc-autonumbering": true,
  "toc-showcode": false,
  "toc-showmarkdowntxt": false,
  "toc-showtags": false
 },
 "nbformat": 4,
 "nbformat_minor": 5
}
