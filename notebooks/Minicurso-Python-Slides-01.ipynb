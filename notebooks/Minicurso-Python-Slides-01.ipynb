{
 "cells": [
  {
   "cell_type": "markdown",
   "id": "d19e5585-e25c-4fc1-859d-28143e655876",
   "metadata": {
    "slideshow": {
     "slide_type": "slide"
    },
    "tags": []
   },
   "source": [
    "# Executando o notebook"
   ]
  },
  {
   "cell_type": "markdown",
   "id": "b1daf590-c0a9-4fe8-88f2-0749d8873c36",
   "metadata": {
    "slideshow": {
     "slide_type": "fragment"
    },
    "tags": []
   },
   "source": [
    "Usando o Google colab:\n",
    "\n",
    "* Acesse o site: https://colab.research.google.com/\n",
    "* Escolha a opção GitHub e entre com o repositório:\n",
    "  * https://github.com/pshiroma/minicurso-python\n",
    "  * Escolha o arquivo Minicurso-Python-Handout-01.ipynb\n",
    "  \n",
    "Usando o site Jupyter:\n",
    "\n",
    "* Baixe o notebook disponível em:\n",
    "  * https://github.com/pshiroma/minicurso-python/notebooks\n",
    "  * Abra a pasta *notebooks* e baixe o arquivo Minicurso-Python-Handout-01.ipynb\n",
    "* Acesse o site: https://jupyter.org/try-jupyter/lab/\n",
    "* Faça o upload do notebook baixado"
   ]
  },
  {
   "cell_type": "markdown",
   "id": "d57ce83a-c5b1-433f-8299-cac8c444f118",
   "metadata": {
    "slideshow": {
     "slide_type": "slide"
    },
    "tags": [],
    "toc-hr-collapsed": true
   },
   "source": [
    "# O Python"
   ]
  },
  {
   "cell_type": "markdown",
   "id": "eb9232e9-0c9f-43f5-8a07-da47b5c49de3",
   "metadata": {
    "slideshow": {
     "slide_type": "fragment"
    },
    "tags": []
   },
   "source": [
    "* Simplicidade e legibilidade\n",
    "* Sintaxe limpa e concisa\n",
    "* Biblioteca padrão abrangente\n",
    "* Comunidade de desenvolvedores\n",
    "* Linguagem interpretada"
   ]
  },
  {
   "cell_type": "markdown",
   "id": "83a784c6-cabd-4ad8-a6c8-07cc95ef4751",
   "metadata": {
    "slideshow": {
     "slide_type": "subslide"
    },
    "tags": []
   },
   "source": [
    "## Python - Uma linguagem interpretada"
   ]
  },
  {
   "cell_type": "markdown",
   "id": "c377db94-af86-4020-8108-1ac5565ff15b",
   "metadata": {
    "slideshow": {
     "slide_type": "fragment"
    },
    "tags": []
   },
   "source": [
    "* Código-fonte $\\rightarrow$ Interpretador $\\rightarrow$ Execução\n",
    "* **Desenvolvimento** mais rápido\n",
    "* **Execução** mais demorada\n",
    "* Código-fonte *não executa* sem o interpretador\n"
   ]
  },
  {
   "cell_type": "markdown",
   "id": "10625a6f-68d1-42f2-9142-d710a1b0f4e7",
   "metadata": {
    "slideshow": {
     "slide_type": "subslide"
    },
    "tags": []
   },
   "source": [
    "## IDE - Ambiente de desenvolvimento integrado"
   ]
  },
  {
   "cell_type": "markdown",
   "id": "10558414-a8d0-4d39-b111-efe791aa0de1",
   "metadata": {
    "slideshow": {
     "slide_type": "fragment"
    },
    "tags": []
   },
   "source": [
    "* IDE: Editor + Interpretador + Depurador + Outras ferramentas\n",
    "* Software que facilita o desenvolvimento de programas\n",
    "* Editor: Realce de sintaxe, auto completar, código inteligente\n",
    "* Gerenciamento de projetos\n",
    "* PyCharm, VS Code, Spyder, <span style='color:red'>**Jupyter**</span>"
   ]
  },
  {
   "cell_type": "markdown",
   "id": "6a945b07-06f8-4357-b1b2-a93ff790ef60",
   "metadata": {
    "slideshow": {
     "slide_type": "slide"
    },
    "tags": [],
    "toc-hr-collapsed": true
   },
   "source": [
    "# O Jupyter"
   ]
  },
  {
   "cell_type": "markdown",
   "id": "d37ba7c2-9b51-4c3b-9b7f-9c7086ae9a18",
   "metadata": {
    "slideshow": {
     "slide_type": "fragment"
    },
    "tags": []
   },
   "source": [
    "* Caderno virtual: \n",
    "  * Equações matemáticas: $\\dfrac{\\partial u}{\\partial t}(x,t) = \\mu\\dfrac{\\partial^2 u}{\\partial x^2}(x,t)$\n",
    "  * Textos\n",
    "  * Imagens: \n",
    "  <img src=\"data:image/png;base64,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\" width=\"30\"/>\n",
    "  * Tabelas: \n",
    "| País   | População (milhões hab) | \n",
    "| --- | --- |\n",
    "| China | 1411 |\n",
    "| Índia | 1380 |\n",
    "| Estados Unidos | 331 |\n",
    "  * Python: Código + Saída (texto ou gráfico)"
   ]
  },
  {
   "cell_type": "markdown",
   "id": "f38b3230-7122-4c86-be29-389c1b18dd6f",
   "metadata": {
    "slideshow": {
     "slide_type": "subslide"
    },
    "tags": []
   },
   "source": [
    "## Jupyter - células"
   ]
  },
  {
   "cell_type": "markdown",
   "id": "a2f8f922-c3ca-4d31-805b-8369b73b6f87",
   "metadata": {
    "slideshow": {
     "slide_type": "fragment"
    },
    "tags": []
   },
   "source": [
    "* Células de texto:\n",
    "  * Contexto\n",
    "  * Fundamentação\n",
    "  * Explicação\n",
    "  * Desenvolvimento teórico\n",
    "* Células de código:\n",
    "  * Implementação da solução\n",
    "  * Programa dividido em várias células\n",
    "  * Execução **gradual**"
   ]
  },
  {
   "cell_type": "markdown",
   "id": "085773be-4741-470f-a05b-b434f41f5233",
   "metadata": {
    "slideshow": {
     "slide_type": "subslide"
    },
    "tags": [],
    "toc-hr-collapsed": true
   },
   "source": [
    "## Rodando o Jupyter"
   ]
  },
  {
   "cell_type": "markdown",
   "id": "4a56f866-dfd5-4b91-9d3f-fc00be68f0e3",
   "metadata": {
    "slideshow": {
     "slide_type": "fragment"
    },
    "tags": []
   },
   "source": [
    "* Localmente:\n",
    "  * Preferencialmente usando o [Anaconda](https://anaconda.org/)\n",
    "* Na nuvem:\n",
    "  * [Google colab](https://colab.research.google.com/)\n",
    "  * [Anaconda cloud](https://www.anaconda.com/code-in-the-cloud)\n",
    "  * [Mybinder](https://mybinder.org/)\n",
    "  * [CoCalc](https://cocalc.com/)\n",
    "  * [Jupyter - site oficial](https://jupyter.org/try)\n",
    "  * etc\n"
   ]
  },
  {
   "cell_type": "markdown",
   "id": "6b1ccbf7-cb75-417f-afc8-fae642595881",
   "metadata": {
    "slideshow": {
     "slide_type": "subslide"
    },
    "tags": []
   },
   "source": [
    "## Usando o Anaconda"
   ]
  },
  {
   "cell_type": "markdown",
   "id": "eacb70e8-2058-4fc4-a72b-9b49ac615234",
   "metadata": {
    "slideshow": {
     "slide_type": "fragment"
    },
    "tags": []
   },
   "source": [
    "* Inicie o Anaconda Navigator:\n",
    "<img src=\"https://drive.google.com/uc?export=view&id=1BhgmHFOHElQvyOdZJgsH26euHGPK6Ela\" width=\"500\">\n",
    "* Na aba **Environments**, instale, caso necessário, os pacotes `numpy`, `scipy`, `matplotlib`, `jupyter_latex_envs`:\n",
    "<img src=\"https://ufsj.edu.br/portal2-repositorio/File/prof_shiroma/anaconda8.png\" width=\"1000\">\n",
    "* Inicie o \"Jupyter Lab\" (ou \"Jupyter Notebook\"):\n",
    "<img src=\"https://ufsj.edu.br/portal2-repositorio/File/prof_shiroma/anaconda_navigator.png\" width=\"1000\">"
   ]
  },
  {
   "cell_type": "markdown",
   "id": "05c8099a-85d1-4d7b-87d3-5e983e357820",
   "metadata": {
    "slideshow": {
     "slide_type": "subslide"
    },
    "tags": []
   },
   "source": [
    "## Interface - comandos principais"
   ]
  },
  {
   "cell_type": "markdown",
   "id": "4759aba2-b8c2-42f1-ab91-16405f448542",
   "metadata": {
    "slideshow": {
     "slide_type": "fragment"
    },
    "tags": []
   },
   "source": [
    "A seguir uma breve descrição dos principais comandos usados para trabalhar com células dentro do jupyter:\n",
    "\n",
    "| Função | Tecla |\n",
    "| --- | --- |\n",
    "| Navegar entre as células | Setas $\\uparrow$ ou $\\downarrow$ do teclado |\n",
    "| Editar uma célula | Tecla __Enter__ |\n",
    "| Sair do modo de edição | Tecla __Esc__ |\n",
    "| Executar uma célula de código | __Shift-Enter__ ou __Ctrl-Enter__ |\n",
    "| Inserir uma célula abaixo | Tecla __b__ |\n",
    "| Inserir uma célula acima | Tecla __a__ |\n",
    "| Cortar uma célula | Tecla __x__ |\n",
    "| Colar uma célula | Tecla __v__ |\n",
    "| Outras funções | Consulte as teclas de atalho no __Help__ |"
   ]
  },
  {
   "cell_type": "markdown",
   "id": "d84f7b35-a5a7-4c51-ba2a-8009e6dd015b",
   "metadata": {
    "slideshow": {
     "slide_type": "slide"
    },
    "tags": []
   },
   "source": [
    "# Exemplo de utilização de um notebook (Fórmula de Bhaskara)"
   ]
  },
  {
   "cell_type": "markdown",
   "id": "8b9cea7e-3c2d-43b0-bb43-8e2f45e28e08",
   "metadata": {
    "slideshow": {
     "slide_type": "fragment"
    },
    "tags": []
   },
   "source": [
    "A fórmula de Bhaskara permite encontrar as raízes de um polinômio de 2º grau do tipo:\n",
    "\n",
    "$ax^2 + bx + c$\n",
    "\n",
    "A fórmula para encontrar as raízes é:\n",
    "\n",
    "$x_1 = \\dfrac{-b + \\sqrt{\\Delta}}{2a}$\n",
    "\n",
    "e\n",
    "\n",
    "$x_2 = \\dfrac{-b - \\sqrt{\\Delta}}{2a}$\n",
    "\n",
    "onde $\\Delta = b^2 - 4ac$"
   ]
  },
  {
   "cell_type": "markdown",
   "id": "c13cb6ce-7676-44b6-b207-3a3cf2efb491",
   "metadata": {
    "slideshow": {
     "slide_type": "fragment"
    },
    "tags": []
   },
   "source": [
    "Exemplo: Vamos calcular as raízes do polinômio \n",
    "\n",
    "$2x^2 + x - 1$\n",
    "\n",
    "* a = 2\n",
    "* b = 1\n",
    "* c = -1"
   ]
  },
  {
   "cell_type": "code",
   "execution_count": 1,
   "id": "4712d9c9",
   "metadata": {
    "slideshow": {
     "slide_type": "fragment"
    },
    "tags": []
   },
   "outputs": [
    {
     "name": "stdout",
     "output_type": "stream",
     "text": [
      "A primeira raiz é: 0.5\n",
      "A segunda raiz é: -1.0\n"
     ]
    }
   ],
   "source": [
    "from math import sqrt\n",
    "\n",
    "a = 2\n",
    "b = 1\n",
    "c = -1\n",
    "delta = b**2 - 4*a*c\n",
    "x1 = (-b + sqrt(delta))/(2*a)\n",
    "x2 = (-b - sqrt(delta))/(2*a)\n",
    "print('A primeira raiz é:', x1)\n",
    "print('A segunda raiz é:', x2)"
   ]
  },
  {
   "cell_type": "markdown",
   "id": "78402780-393e-4b4d-b8ee-2ff6dd493af5",
   "metadata": {
    "slideshow": {
     "slide_type": "slide"
    },
    "tags": [],
    "toc-hr-collapsed": true
   },
   "source": [
    "# A linguagem Python"
   ]
  },
  {
   "cell_type": "markdown",
   "id": "72b59061-f70f-46f2-8876-f077966380c6",
   "metadata": {
    "slideshow": {
     "slide_type": "fragment"
    },
    "tags": []
   },
   "source": [
    "# Variáveis"
   ]
  },
  {
   "cell_type": "markdown",
   "id": "deaf4d64-06a2-4fe5-a9b1-d0d5cca61e49",
   "metadata": {
    "slideshow": {
     "slide_type": "fragment"
    },
    "tags": []
   },
   "source": [
    "* Uma variável pode armazenar qualquer tipo de dado\n",
    "* Ela é criada quando um valor é atribuído a ela (operador `=`)"
   ]
  },
  {
   "cell_type": "code",
   "execution_count": 2,
   "id": "2c4fc184-5dd8-47eb-a5db-b22545829ed5",
   "metadata": {
    "tags": []
   },
   "outputs": [],
   "source": [
    "x = 10"
   ]
  },
  {
   "cell_type": "markdown",
   "id": "479cd7b6-6a41-4889-a17b-95cd7f022e31",
   "metadata": {
    "slideshow": {
     "slide_type": "fragment"
    },
    "tags": []
   },
   "source": [
    "Nome da variável deve:\n",
    "\n",
    "* Conter apenas caracteres alfanuméricos (a-z, A-Z, 0-9) ou underscore ( _ )\n",
    "* Não começar com um dígito\n",
    "* Não ser uma palavra reservada (if, else, while, True, False)\n",
    "* Não conter acentos, ou outros símbolos ($, #, *, ?, etc)\n",
    "\n",
    "Python é *case-sensitive* (diferencia letras maiúsculas de minúsculas."
   ]
  },
  {
   "cell_type": "markdown",
   "id": "6cd3fcc3-1720-4854-b855-5a1e608c3cce",
   "metadata": {
    "slideshow": {
     "slide_type": "fragment"
    },
    "tags": []
   },
   "source": [
    "Exemplos:\n",
    "\n",
    "* idade\n",
    "* nome\n",
    "* salario\n",
    "* concentracao\n",
    "* H2O\n",
    "* g\n",
    "* x\n",
    "* Vmax"
   ]
  },
  {
   "cell_type": "markdown",
   "id": "d9966218-15f6-4119-8394-7c0d18a72e1c",
   "metadata": {
    "slideshow": {
     "slide_type": "slide"
    },
    "tags": [],
    "toc-hr-collapsed": true
   },
   "source": [
    "# Tipos de dados simples"
   ]
  },
  {
   "cell_type": "markdown",
   "id": "e19d9c1b-87b1-4e0e-b5e5-2ba2015d96b2",
   "metadata": {
    "slideshow": {
     "slide_type": "fragment"
    },
    "tags": []
   },
   "source": [
    "Tipos de dados simples:\n",
    "\n",
    "* Número inteiro (int)\n",
    "* Número real (float)\n",
    "* Nulo (None)\n",
    "* Lógico (bool)"
   ]
  },
  {
   "cell_type": "markdown",
   "id": "bdb04d0d-1cf0-4da7-97a0-5a56566d71d6",
   "metadata": {
    "slideshow": {
     "slide_type": "fragment"
    },
    "tags": []
   },
   "source": [
    "A função `type(variavel)` permite você identificar o tipo de uma variável ou constante:"
   ]
  },
  {
   "cell_type": "code",
   "execution_count": 30,
   "id": "49d92ba8-2845-45bd-9bff-7a944cc81801",
   "metadata": {
    "slideshow": {
     "slide_type": "fragment"
    }
   },
   "outputs": [
    {
     "name": "stdout",
     "output_type": "stream",
     "text": [
      "<class 'int'>\n",
      "<class 'float'>\n",
      "<class 'str'>\n",
      "<class 'bool'>\n"
     ]
    }
   ],
   "source": [
    "x = 42\n",
    "print( type( x ) )\n",
    "x = 3.14\n",
    "print( type( x ) )\n",
    "x = 'Um texto'\n",
    "print( type( x ) )\n",
    "x = True\n",
    "print( type( x ) )"
   ]
  },
  {
   "cell_type": "markdown",
   "id": "3f149041-0f07-4dd0-b0b0-dcc49c691477",
   "metadata": {},
   "source": [
    "## Conversão entre os tipos "
   ]
  },
  {
   "cell_type": "code",
   "execution_count": 44,
   "id": "4e456e1e-99eb-43a7-9d77-385a1b126f01",
   "metadata": {},
   "outputs": [
    {
     "name": "stdout",
     "output_type": "stream",
     "text": [
      "3\n",
      "3.0\n",
      "4\n",
      "4\n"
     ]
    }
   ],
   "source": [
    "x = int(3.1)\n",
    "print(x)\n",
    "x = float(3)\n",
    "print(x)\n",
    "x = int('4')\n",
    "print(x)\n",
    "x = str(4)\n",
    "print(x)"
   ]
  },
  {
   "cell_type": "markdown",
   "id": "f459baf0-9c4c-4fe0-8fa6-277d2770b08d",
   "metadata": {
    "slideshow": {
     "slide_type": "slide"
    },
    "tags": []
   },
   "source": [
    "# Entrada de dados\n",
    "\n",
    "Vamos ver agora como ler uma entrada do usuário e armazená-la em uma variável:"
   ]
  },
  {
   "cell_type": "code",
   "execution_count": 70,
   "id": "f09bb3d2-f352-4997-817d-adf09b00c654",
   "metadata": {
    "scrolled": true,
    "slideshow": {
     "slide_type": "fragment"
    },
    "tags": []
   },
   "outputs": [
    {
     "name": "stdin",
     "output_type": "stream",
     "text": [
      "Entre com um dado:  123\n"
     ]
    }
   ],
   "source": [
    "x = input('Entre com um dado: ')"
   ]
  },
  {
   "cell_type": "code",
   "execution_count": 71,
   "id": "4c8454ab-ca44-4eb3-bb7f-49a36b0a8d6c",
   "metadata": {},
   "outputs": [
    {
     "name": "stdin",
     "output_type": "stream",
     "text": [
      "Entre com um dado:  32\n"
     ]
    }
   ],
   "source": [
    "y = input('Entre com um dado: ')"
   ]
  },
  {
   "cell_type": "code",
   "execution_count": 76,
   "id": "bf68bc92-04da-43cf-afab-6158cc09934e",
   "metadata": {},
   "outputs": [
    {
     "name": "stdout",
     "output_type": "stream",
     "text": [
      "<class 'int'>\n"
     ]
    },
    {
     "name": "stdin",
     "output_type": "stream",
     "text": [
      "Entre com uma dado:  123\n"
     ]
    },
    {
     "name": "stdout",
     "output_type": "stream",
     "text": [
      "<class 'int'>\n"
     ]
    }
   ],
   "source": [
    "print(type(x))\n",
    "x = int(input('Entre com uma dado: '))\n",
    "print(type(x))"
   ]
  },
  {
   "cell_type": "markdown",
   "id": "3333e57d-ce49-47e9-8c3d-96ff392d92c4",
   "metadata": {
    "slideshow": {
     "slide_type": "slide"
    },
    "tags": [],
    "toc-hr-collapsed": true
   },
   "source": [
    "# Imprimindo na tela"
   ]
  },
  {
   "cell_type": "code",
   "execution_count": 22,
   "id": "86f13a2e-79e2-4f26-9549-152e0995673e",
   "metadata": {
    "slideshow": {
     "slide_type": "fragment"
    },
    "tags": []
   },
   "outputs": [
    {
     "name": "stdout",
     "output_type": "stream",
     "text": [
      "Ola mundo!\n"
     ]
    }
   ],
   "source": [
    "# Programa Hello World!\n",
    "print(\"Ola mundo!\")"
   ]
  },
  {
   "cell_type": "code",
   "execution_count": 31,
   "id": "cf395004-3ca8-4d90-9a52-7c2ca04971d4",
   "metadata": {
    "slideshow": {
     "slide_type": "fragment"
    }
   },
   "outputs": [
    {
     "name": "stdout",
     "output_type": "stream",
     "text": [
      "Os valores que você entrou foram  True 0.6666666666666666\n"
     ]
    }
   ],
   "source": [
    "# Imprimindo texto + variável\n",
    "print('Os valores que você entrou foram ', x, y)"
   ]
  },
  {
   "cell_type": "markdown",
   "id": "de40f639-877e-49b3-a982-83677ae277d4",
   "metadata": {
    "slideshow": {
     "slide_type": "slide"
    },
    "tags": []
   },
   "source": [
    "## F-string"
   ]
  },
  {
   "cell_type": "markdown",
   "id": "70596d86-0706-4ba3-9c7a-2c083fbfdb74",
   "metadata": {
    "tags": []
   },
   "source": [
    "**Controlando a quantidade de casas decimais:**"
   ]
  },
  {
   "cell_type": "code",
   "execution_count": 63,
   "id": "008b482c-0d20-4575-9808-3dd112e1e3fb",
   "metadata": {
    "tags": []
   },
   "outputs": [
    {
     "name": "stdout",
     "output_type": "stream",
     "text": [
      "O valor de y é 2.00\n",
      "2.0000 1.000\n"
     ]
    }
   ],
   "source": [
    "print(f'O valor de y é {y:.2f}')\n",
    "print(f'{y:.4f} {x:.3f}')"
   ]
  },
  {
   "cell_type": "markdown",
   "id": "cbd98092-b4a0-40c5-bb32-ff49481c9771",
   "metadata": {
    "slideshow": {
     "slide_type": "fragment"
    }
   },
   "source": [
    "**Executando código dentro da string:**"
   ]
  },
  {
   "cell_type": "code",
   "execution_count": 16,
   "id": "aad0d3fa-f032-4724-b84e-f442d6b7c9ca",
   "metadata": {
    "tags": []
   },
   "outputs": [
    {
     "name": "stdout",
     "output_type": "stream",
     "text": [
      "O valor de 10y é 6.666666666666666\n"
     ]
    }
   ],
   "source": [
    "print(f'O valor de 10y é {10*y}')"
   ]
  },
  {
   "cell_type": "markdown",
   "id": "7e3c2b16-902b-44c0-9e6f-9469027f87ea",
   "metadata": {
    "slideshow": {
     "slide_type": "fragment"
    }
   },
   "source": [
    "**Outras formatações de números:**"
   ]
  },
  {
   "cell_type": "code",
   "execution_count": 64,
   "id": "cb47a4b8-7e3b-4b5a-964d-bc4962626325",
   "metadata": {
    "tags": []
   },
   "outputs": [
    {
     "name": "stdout",
     "output_type": "stream",
     "text": [
      "6 caracteres no total\n",
      "  2.00   1.00\n",
      "Porcentagem com 2 casas decimais:\n",
      "200.00%\n"
     ]
    }
   ],
   "source": [
    "print(f'6 caracteres no total\\n{y:6.2f} {x:6.2f}')\n",
    "print(f'Porcentagem com 2 casas decimais:\\n{y:.2%}')"
   ]
  },
  {
   "cell_type": "markdown",
   "id": "505027dc-aad1-4852-a2ad-1494f78b0aef",
   "metadata": {
    "slideshow": {
     "slide_type": "slide"
    },
    "tags": [],
    "toc-hr-collapsed": true
   },
   "source": [
    "# Operadores"
   ]
  },
  {
   "cell_type": "markdown",
   "id": "59628465-beb3-449e-bdb5-dbbd69b337fa",
   "metadata": {
    "tags": []
   },
   "source": [
    "## Operadores matemáticos:"
   ]
  },
  {
   "cell_type": "markdown",
   "id": "174b0310-ac77-4948-8ae3-7e054928d2ef",
   "metadata": {
    "slideshow": {
     "slide_type": "slide"
    },
    "tags": []
   },
   "source": [
    "| Operador | Significado | Exemplo |\n",
    "| :-- | :-- | --: |\n",
    "| + | Soma | x + y |\n",
    "| - | Diferença | x - y |\n",
    "| * | Multiplicação | x * y |\n",
    "| / | Divisão | x / y |\n",
    "| ** | **Potência** | x ** y |\n",
    "| pow | Potência | pow(x, y) |\n",
    "| // | **Divisão inteira** | x // y |\n",
    "| % | **Resto da divisão inteira** | x % y |\n",
    "| divmod | Resultado e resto da divisão inteira | divmod(x, y) |\n",
    "| - | Negação | -x |\n",
    "| abs | Valor absoluto | abs(x) |\n",
    "| int | Converte para número inteiro | int(x) |\n",
    "| float | Converte para número real | float(x) |\n",
    "\n",
    "A ordem de precedência em que eles são avaliados é: \n",
    "\n",
    "* funções (abs, pow, int, float)\n",
    "* `**`\n",
    "* `*`, `/` e `//`, na ordem em que aparecerem na expressão.\n",
    "* `%`\n",
    "* `+` e `-`, na ordem em que aparecerem na expressão.\n",
    "\n",
    "A ordem que as operações são executadas pode ser modificada utilizando os parênteses `( )`"
   ]
  },
  {
   "cell_type": "code",
   "execution_count": 175,
   "id": "8e5c0ad1-e053-432e-866c-3182053679d6",
   "metadata": {
    "slideshow": {
     "slide_type": "fragment"
    },
    "tags": []
   },
   "outputs": [
    {
     "name": "stdout",
     "output_type": "stream",
     "text": [
      "6\n",
      "2\n",
      "2\n",
      "110.0\n",
      "11.0\n"
     ]
    }
   ],
   "source": [
    "# Divisao inteira\n",
    "print(20//3)\n",
    "\n",
    "# Resto da divisao\n",
    "print(20%3)\n",
    "\n",
    "# Potencia\n",
    "a = 2\n",
    "b = 1\n",
    "c = -1\n",
    "x = 1\n",
    "y = a*x**2 + b*x + c\n",
    "print(y)\n",
    "\n",
    "print(10 + 20/2*10)\n",
    "# Mudando a precedência\n",
    "print(10 + 20/(2 * 10))"
   ]
  },
  {
   "cell_type": "markdown",
   "id": "d9dd41f5-4577-4721-b6f0-55d91deb72b1",
   "metadata": {},
   "source": [
    "## Operadores de comparação\n"
   ]
  },
  {
   "cell_type": "markdown",
   "id": "25908c08-35af-438e-9c4e-5dd12dd8b974",
   "metadata": {},
   "source": [
    "| Operador | Significado | Exemplo |\n",
    "| :-- | :-- | --: |\n",
    "| < | Estritamente menor que | x < y |\n",
    "| <= | Menor ou igual que | x <= y |\n",
    "| > | Estritamente maior que | x > y |\n",
    "| >= | Maior ou igual que | x >= y |\n",
    "| == | Igual | x == y |\n",
    "| != | Diferente  | x != y |\n",
    "| is | É o mesmo objeto  | x is y |"
   ]
  },
  {
   "cell_type": "code",
   "execution_count": null,
   "id": "b2dd05fa-e7e0-4f78-ad8b-88955fa5bc9c",
   "metadata": {},
   "outputs": [
    {
     "name": "stdout",
     "output_type": "stream",
     "text": [
      "True\n",
      "False\n"
     ]
    }
   ],
   "source": [
    "print(5 < 10)\n",
    "print(7 == 10)"
   ]
  },
  {
   "cell_type": "markdown",
   "id": "5071dcda-9eff-4a6b-9c6d-23a9a7be51d8",
   "metadata": {
    "slideshow": {
     "slide_type": "slide"
    },
    "tags": []
   },
   "source": [
    "## Operadores lógicos"
   ]
  },
  {
   "cell_type": "markdown",
   "id": "1d08e33b-128d-4682-96ab-0fec77690bb4",
   "metadata": {
    "slideshow": {
     "slide_type": "fragment"
    },
    "tags": []
   },
   "source": [
    "O Python possui os seguintes operadores lógicos:\n",
    "\n",
    "* `not`\n",
    "* `and`\n",
    "* `or`"
   ]
  },
  {
   "cell_type": "code",
   "execution_count": 168,
   "id": "d945d60b-e893-4951-83d7-890d40c77aca",
   "metadata": {},
   "outputs": [
    {
     "name": "stdout",
     "output_type": "stream",
     "text": [
      "True\n"
     ]
    }
   ],
   "source": [
    "# Comparacoes\n",
    "print(5 < 10 or 7 == 10)"
   ]
  },
  {
   "cell_type": "markdown",
   "id": "bb8745b1-018e-40d9-abc4-e971056b138b",
   "metadata": {},
   "source": [
    "## Ordem de precedência"
   ]
  },
  {
   "cell_type": "markdown",
   "id": "152a912f-ecf7-494c-af91-77e4c49f7ae8",
   "metadata": {},
   "source": [
    "A ordem de precedência em que eles são avaliados é: \n",
    "\n",
    "* `**`\n",
    "* `*`, `/` e `//`, na ordem em que aparecerem na expressão.\n",
    "* `%`\n",
    "* `+` e `-`, na ordem em que aparecerem na expressão.\n",
    "* comparações, na ordem que aparecem\n",
    "* `not`\n",
    "* `and`\n",
    "* `or`\n",
    "\n",
    "A ordem que as operações são executadas pode ser modificada utilizando os parênteses `( )`"
   ]
  },
  {
   "cell_type": "code",
   "execution_count": null,
   "id": "4da127d7-eae1-4999-b6ce-6dc624ccf3fe",
   "metadata": {
    "slideshow": {
     "slide_type": "fragment"
    },
    "tags": []
   },
   "outputs": [
    {
     "name": "stdout",
     "output_type": "stream",
     "text": [
      "True\n",
      "True\n"
     ]
    }
   ],
   "source": [
    "print(5 < 3 or 9 <= 9)\n",
    "print(3 != 2 + 1 and 2 < 1 or not 5 < 2**2)"
   ]
  },
  {
   "cell_type": "markdown",
   "id": "5725aef6-d8f9-4453-91a8-e78ad23c598c",
   "metadata": {
    "slideshow": {
     "slide_type": "slide"
    },
    "tags": [],
    "toc-hr-collapsed": true
   },
   "source": [
    "# Coleções de dados"
   ]
  },
  {
   "cell_type": "markdown",
   "id": "ce60e9b0-3c81-4359-8c57-64b10e6bcf70",
   "metadata": {
    "slideshow": {
     "slide_type": "fragment"
    },
    "tags": []
   },
   "source": [
    "* Tipos simples: int, float, bool, None\n",
    "* Tipos de dados compostos: armazenam múltiplos valores ao mesmo tempo.\n",
    "\n",
    "Exemplos de tipos de dados compostos nativos em Python:\n",
    "* lists\n",
    "* tuples\n",
    "* dictionaries\n",
    "* strings\n",
    "* sets "
   ]
  },
  {
   "cell_type": "markdown",
   "id": "c18ec802-f3e3-4b0a-aa90-c9638e721145",
   "metadata": {
    "slideshow": {
     "slide_type": "slide"
    }
   },
   "source": [
    "## Listas (list)"
   ]
  },
  {
   "cell_type": "markdown",
   "id": "3365a96a-c379-4dc9-8b0d-81b83c39c66b",
   "metadata": {
    "slideshow": {
     "slide_type": "subslide"
    }
   },
   "source": [
    "As listas armazenam elementos em sequência e tem as seguintes características:\n",
    "\n",
    "* Os itens são indexados: Cada elemento possui uma posição, ou índice, na lista.\n",
    "* O primeiro elemento tem índice 0\n",
    "* O último elemento tem índice n-1\n",
    "* Os elementos podem ser de *tipos diferentes*\n",
    "* Podemos ter listas de listas\n",
    "* Os elementos podem ser modificados (ver tupla)\n",
    "* Os elementos podem ser repetidos (ver conjunto)\n",
    "* Listas podem ser concatenados\n",
    "* Listas podem ser repartidos\n",
    "* Listas podem ser ordenados\n",
    "* São criados usando colchetes [ ]  e separando os itens com vírgulas\n",
    "\n",
    "https://www.w3schools.com/python/python_lists.asp"
   ]
  },
  {
   "cell_type": "code",
   "execution_count": 95,
   "id": "1eee87f0-90d9-477e-814d-434cdbc48625",
   "metadata": {
    "slideshow": {
     "slide_type": "subslide"
    }
   },
   "outputs": [
    {
     "name": "stdout",
     "output_type": "stream",
     "text": [
      "['banana', 'banana', 'amora', 'pera']\n",
      "[1, 2, 3, 4, 5, 6, 7, 8, 9, 10]\n",
      "[]\n",
      "[19.32, True, 'uma string', True, 20, [0, 1]]\n"
     ]
    }
   ],
   "source": [
    "# criando uma lista: coloque os valores separados por vírgula, dentro dos [ ]\n",
    "lista_de_frutas = ['banana', 'banana', 'amora', 'pera']\n",
    "lista_numeros = [1, 2, 3, 4, 5, 6, 7, 8, 9, 10]\n",
    "lista_vazia = []\n",
    "lista_mista = [19.32, True, 'uma string', 5 < 7, 5*4, [0, 1]]\n",
    "\n",
    "print(lista_de_frutas)\n",
    "print(lista_numeros)\n",
    "print(lista_vazia)\n",
    "print(lista_mista)"
   ]
  },
  {
   "cell_type": "code",
   "execution_count": 96,
   "id": "67c49a1c-f3e8-4197-a005-2e6eabd431ae",
   "metadata": {
    "slideshow": {
     "slide_type": "fragment"
    }
   },
   "outputs": [
    {
     "name": "stdout",
     "output_type": "stream",
     "text": [
      "4\n",
      "10\n",
      "0\n",
      "6\n"
     ]
    }
   ],
   "source": [
    "# tamanho de uma lista\n",
    "print(len(lista_de_frutas))\n",
    "print(len(lista_numeros))\n",
    "print(len(lista_vazia))\n",
    "print(len(lista_mista))"
   ]
  },
  {
   "cell_type": "code",
   "execution_count": 97,
   "id": "0fb44fec-66ff-4cdf-b7e7-f06ecc32116a",
   "metadata": {
    "slideshow": {
     "slide_type": "fragment"
    }
   },
   "outputs": [
    {
     "name": "stdout",
     "output_type": "stream",
     "text": [
      "19.32\n",
      "True\n"
     ]
    }
   ],
   "source": [
    "# A lista é um tipo indexado, ou seja, você pode acessar os elementos pela sua posição.\n",
    "# A primeira posição possui índice 0:\n",
    "print(lista_mista[0])\n",
    "print(lista_mista[1])"
   ]
  },
  {
   "cell_type": "code",
   "execution_count": 98,
   "id": "235c85f8-abd4-4a2a-937c-d91b8eda704c",
   "metadata": {
    "slideshow": {
     "slide_type": "fragment"
    }
   },
   "outputs": [
    {
     "name": "stdout",
     "output_type": "stream",
     "text": [
      "[0, 1]\n",
      "20\n"
     ]
    }
   ],
   "source": [
    "# A  última posição possui índice n-1\n",
    "# Também é possível indexar pelo valor -1:\n",
    "print(lista_mista[-1])\n",
    "print(lista_mista[-2])"
   ]
  },
  {
   "cell_type": "code",
   "execution_count": 109,
   "id": "24a4fbe2-f6fa-45ed-b34f-b217e3b8d939",
   "metadata": {
    "slideshow": {
     "slide_type": "fragment"
    }
   },
   "outputs": [
    {
     "name": "stdout",
     "output_type": "stream",
     "text": [
      "[1, 2, 3]\n",
      "[1, 2, 3]\n",
      "[6, 7, 8, 9, 10]\n",
      "[3, 4]\n",
      "[5, 6, 7]\n"
     ]
    }
   ],
   "source": [
    "# Podemos recuperar um pedaço da lista usando o operador :\n",
    "lista = [1, 2, 3, 4, 5, 6 ,7 ,8 ,9 ,10]\n",
    "# extraindo um intervalo\n",
    "print( lista[0:3] )\n",
    "\n",
    "# podemos omitir o início\n",
    "print( lista[:3] )\n",
    "\n",
    "# extraindo até o final\n",
    "print( lista[5:] )\n",
    "\n",
    "# extraindo do terceiro ao quarto elemento:\n",
    "print( lista[2:4] )\n",
    "\n",
    "# podemos indexar contando a partir do final:\n",
    "print( lista[-6:-3] )"
   ]
  },
  {
   "cell_type": "code",
   "execution_count": 112,
   "id": "d56f7617-2b29-4c1f-9caf-01d1c263ceac",
   "metadata": {
    "slideshow": {
     "slide_type": "fragment"
    }
   },
   "outputs": [
    {
     "data": {
      "text/plain": [
       "True"
      ]
     },
     "execution_count": 112,
     "metadata": {},
     "output_type": "execute_result"
    }
   ],
   "source": [
    "# Também é possível verificar se um elemento se encontra em uma lista usando o operador in:\n",
    "lista = [1, 2, 3, 4, 5, 6 ,7 ,8 ,9 ,10]\n",
    "3 in lista"
   ]
  },
  {
   "cell_type": "markdown",
   "id": "66a85cd4-ca7c-47ac-ba81-0c5a1e23de12",
   "metadata": {
    "slideshow": {
     "slide_type": "subslide"
    }
   },
   "source": [
    "### Alterando uma lista"
   ]
  },
  {
   "cell_type": "code",
   "execution_count": 115,
   "id": "e1e56f45-89aa-4b21-a971-3f57f83d2481",
   "metadata": {
    "slideshow": {
     "slide_type": "fragment"
    }
   },
   "outputs": [
    {
     "name": "stdout",
     "output_type": "stream",
     "text": [
      "[-20, 2, 3, 4, 5, 6, 7, 8, 9, -30]\n"
     ]
    }
   ],
   "source": [
    "# Para modificar o valor de um elemento em uma lista, basta usar o operador [ ]:\n",
    "lista = [1, 2, 3, 4, 5, 6 ,7 ,8 ,9 ,10]\n",
    "lista[0] = -20\n",
    "lista[-1] = -30\n",
    "print(lista)"
   ]
  },
  {
   "cell_type": "code",
   "execution_count": 119,
   "id": "464277fc-5bd6-4abd-8466-c0523bae5d0f",
   "metadata": {
    "slideshow": {
     "slide_type": "fragment"
    }
   },
   "outputs": [
    {
     "name": "stdout",
     "output_type": "stream",
     "text": [
      "[1, 2, 3, 4, 5, 6, 7, 8, 9, 10, 11]\n"
     ]
    }
   ],
   "source": [
    "# Podemos inserir um elemento no final da lista usando o comando append:\n",
    "lista = [1, 2, 4, 5, 6 ,7 ,8 ,9 ,10]\n",
    "lista.append(11)\n",
    "# Podemos inserir um elemento em uma posição no meio da lista usando o comando insert\n",
    "lista.insert(2,3)\n",
    "print(lista)"
   ]
  },
  {
   "cell_type": "code",
   "execution_count": 121,
   "id": "bf96a229-8e0a-4b5f-a272-6c6dea650bd2",
   "metadata": {
    "slideshow": {
     "slide_type": "fragment"
    }
   },
   "outputs": [
    {
     "name": "stdout",
     "output_type": "stream",
     "text": [
      "['a', 'b', 'c', 'd', 'e']\n"
     ]
    }
   ],
   "source": [
    "# Também podemos utilizar o operador +\n",
    "lista1 = ['a', 'b', 'c']\n",
    "lista2 = ['d', 'e']\n",
    "novaLista = lista1 + lista2\n",
    "print(novaLista)"
   ]
  },
  {
   "cell_type": "code",
   "execution_count": 122,
   "id": "bde545fd-40c1-4563-8a13-2648b6f98c22",
   "metadata": {
    "slideshow": {
     "slide_type": "fragment"
    }
   },
   "outputs": [
    {
     "name": "stdout",
     "output_type": "stream",
     "text": [
      "['a', 'c']\n"
     ]
    }
   ],
   "source": [
    "# Para remover um elemento usamos o comando remove:\n",
    "lista = ['a', 'b', 'c']\n",
    "lista.remove('b')\n",
    "print(lista)"
   ]
  },
  {
   "cell_type": "code",
   "execution_count": 123,
   "id": "2ebae427-f54a-4591-b2e7-caf7f0ee8f6d",
   "metadata": {
    "slideshow": {
     "slide_type": "fragment"
    }
   },
   "outputs": [
    {
     "name": "stdout",
     "output_type": "stream",
     "text": [
      "['a', 'c']\n"
     ]
    }
   ],
   "source": [
    "# Para remover um elemento usando o índice usamos o comando pop:\n",
    "lista = ['a', 'b', 'c']\n",
    "lista.pop(1)\n",
    "print(lista)"
   ]
  },
  {
   "cell_type": "code",
   "execution_count": 124,
   "id": "613de95a-681d-4908-b828-ae564477e901",
   "metadata": {
    "slideshow": {
     "slide_type": "fragment"
    }
   },
   "outputs": [
    {
     "name": "stdout",
     "output_type": "stream",
     "text": [
      "[]\n"
     ]
    }
   ],
   "source": [
    "# Para apagar toda a lista, usamos o comando clear:\n",
    "lista = ['a', 'b', 'c']\n",
    "lista.clear()\n",
    "print(lista)"
   ]
  },
  {
   "cell_type": "code",
   "execution_count": 125,
   "id": "067272c8-9347-4a47-8db0-86de2b88fa73",
   "metadata": {
    "slideshow": {
     "slide_type": "fragment"
    }
   },
   "outputs": [
    {
     "name": "stdout",
     "output_type": "stream",
     "text": [
      "['ameixa', 'banana', 'kiwi', 'laranja', 'morango']\n"
     ]
    }
   ],
   "source": [
    "# Podemos ordenar uma lista usando o comando sort:\n",
    "lista = [\"laranja\", \"morango\", \"kiwi\", \"ameixa\", \"banana\"]\n",
    "lista.sort()\n",
    "print(lista)"
   ]
  },
  {
   "cell_type": "markdown",
   "id": "3fed6eb5-1137-4a21-8b48-3800ea648950",
   "metadata": {
    "slideshow": {
     "slide_type": "fragment"
    },
    "tags": []
   },
   "source": [
    "**Operador `=` em listas**"
   ]
  },
  {
   "cell_type": "markdown",
   "id": "273ae8a9-68ec-46e4-a7f9-0dfb860fd3f7",
   "metadata": {},
   "source": [
    "O operador `=` não copia uma lista, mas apenas cria um mnemônico da lista anterior:"
   ]
  },
  {
   "cell_type": "code",
   "execution_count": 126,
   "id": "b1323b59-f19e-4c47-8df7-3918ed1da608",
   "metadata": {
    "slideshow": {
     "slide_type": "fragment"
    }
   },
   "outputs": [
    {
     "name": "stdout",
     "output_type": "stream",
     "text": [
      "['a', 'b', 'c']\n",
      "[]\n"
     ]
    }
   ],
   "source": [
    "# Caso você queira copiar uma lista, você não deve usar o operador =\n",
    "lista = ['a', 'b', 'c']\n",
    "outraLista = lista\n",
    "print(outraLista)\n",
    "lista.clear()\n",
    "print(outraLista)"
   ]
  },
  {
   "cell_type": "code",
   "execution_count": 110,
   "id": "41106326-b4d4-4e65-87f4-2d54e2748908",
   "metadata": {
    "slideshow": {
     "slide_type": "fragment"
    }
   },
   "outputs": [
    {
     "name": "stdout",
     "output_type": "stream",
     "text": [
      "['a', 'b', 'c']\n",
      "['a', 'b', 'c']\n"
     ]
    }
   ],
   "source": [
    "# Você deve usar o comando copy:\n",
    "lista = ['a', 'b', 'c']\n",
    "outraLista = lista.copy()\n",
    "print(outraLista)\n",
    "lista.clear()\n",
    "print(outraLista)"
   ]
  },
  {
   "cell_type": "markdown",
   "id": "f9948a88-e40b-4163-a0c3-58d674003cac",
   "metadata": {},
   "source": [
    "## Strings"
   ]
  },
  {
   "cell_type": "code",
   "execution_count": 94,
   "id": "1b28d639-0a89-4dd9-a985-d005275285f5",
   "metadata": {
    "slideshow": {
     "slide_type": "fragment"
    }
   },
   "outputs": [
    {
     "name": "stdout",
     "output_type": "stream",
     "text": [
      "O\n",
      "o\n",
      "Ouro\n"
     ]
    }
   ],
   "source": [
    "# A string é uma lista de caracteres, e aceita as mesmas operações:\n",
    "cidade = 'Ouro Branco'\n",
    "print(cidade[0])\n",
    "print(cidade[-1])\n",
    "print(cidade[0:4])"
   ]
  },
  {
   "cell_type": "markdown",
   "id": "23686518-4d62-4151-8b16-dfa734ee7831",
   "metadata": {
    "slideshow": {
     "slide_type": "slide"
    },
    "tags": [],
    "toc-hr-collapsed": true
   },
   "source": [
    "# Estruturas de controle"
   ]
  },
  {
   "cell_type": "markdown",
   "id": "c7fbd9ba-dd3c-4a91-a30d-67fd40e99851",
   "metadata": {
    "slideshow": {
     "slide_type": "subslide"
    }
   },
   "source": [
    "As estruturas de controle permitem modificar a ordem de execução dos comandos\n",
    "\n",
    "Elas podem ser de 2 tipos:\n",
    "\n",
    "* Estruturas condicionais\n",
    "* Estruturas de laço\n",
    "\n",
    "Diferente de outras linguagens, o **escopo** é definido pela indentação do código"
   ]
  },
  {
   "cell_type": "markdown",
   "id": "a7d3280b-e272-47de-8959-6b47a2193650",
   "metadata": {
    "slideshow": {
     "slide_type": "fragment"
    },
    "tags": []
   },
   "source": [
    "## Estrutura IF"
   ]
  },
  {
   "cell_type": "markdown",
   "id": "f412e9ab-815e-4d6d-a414-a6c2c9ad0625",
   "metadata": {
    "slideshow": {
     "slide_type": "fragment"
    }
   },
   "source": [
    "A estrutura if possui a seguinte sintaxe:\n",
    "\n",
    "```python\n",
    "if condicao:\n",
    "    comandos dentro do IF\n",
    "```"
   ]
  },
  {
   "cell_type": "code",
   "execution_count": 135,
   "id": "bda993d6-b299-4671-8e2d-db96371c7901",
   "metadata": {},
   "outputs": [
    {
     "name": "stdin",
     "output_type": "stream",
     "text": [
      " 3\n"
     ]
    },
    {
     "name": "stdout",
     "output_type": "stream",
     "text": [
      "O valor que você entrou é menor que 10\n"
     ]
    }
   ],
   "source": [
    "# Exemplo de uso do if:\n",
    "x = int(input())\n",
    "if x < 10:\n",
    "    print('O valor que você entrou é menor que 10')"
   ]
  },
  {
   "cell_type": "markdown",
   "id": "b6efd699-0aa0-4a63-858a-38005fae5140",
   "metadata": {},
   "source": [
    "A estrutura if completa possui a seguinte sintaxe:\n",
    "\n",
    "```python\n",
    "if condicao1:\n",
    "    comandos dentro do IF\n",
    "elif condicao2:\n",
    "    comandos dentro do ELSE-IF\n",
    "elif condicao3:\n",
    "    comandos dentro do segundo ELSE-IF\n",
    "...\n",
    "else:\n",
    "    comandos dentro do ELSE\n",
    "```"
   ]
  },
  {
   "cell_type": "markdown",
   "id": "b714e2be-958e-40ae-ae86-df5d6425ddc0",
   "metadata": {
    "slideshow": {
     "slide_type": "fragment"
    }
   },
   "source": [
    "## Exemplo\n",
    "\n",
    "O índice de massa corporal (IMC) é um parâmetro utilizado para avaliar se o peso está dentro do valor ideal para a altura e pode ajudar a identificar problemas de obesidade ou desnutrição.\n",
    "\n",
    "O IMC é calculado dividindo o peso (em kg) pela altura ao quadrado (em m), de acordo com a seguinte fórmula: \n",
    "\n",
    "$IMC = \\dfrac{peso}{altura^2}$\n",
    "\n",
    "A tabela abaixo pode ser utilizada para classificar o nível de obesidade de uma pessoa:\n",
    "\n",
    "| IMC\t| CLASSIFICAÇÃO\t| \n",
    "| --- | --- | \n",
    "MENOR QUE 18,5\t| MAGREZA \n",
    "ENTRE 18,5 E 24,9\t| NORMAL\t\n",
    "ENTRE 25,0 E 29,9\t| SOBREPESO\t\n",
    "ENTRE 30,0 E 39,9\t| OBESIDADE\t\n",
    "MAIOR QUE 40,0\t| OBESIDADE GRAVE\t\n",
    "\n",
    "Escreva um código que leia o peso e a altura de uma pessoa e classifique seu nível de obesidade."
   ]
  },
  {
   "cell_type": "code",
   "execution_count": 137,
   "id": "7960b3a6-eb43-426d-b850-ce7c018d0d8a",
   "metadata": {
    "slideshow": {
     "slide_type": "fragment"
    },
    "tags": []
   },
   "outputs": [
    {
     "name": "stdin",
     "output_type": "stream",
     "text": [
      "Entre com o peso:  65\n",
      "Entre com a altura:  1.5\n"
     ]
    },
    {
     "name": "stdout",
     "output_type": "stream",
     "text": [
      "Sobrepeso\n"
     ]
    }
   ],
   "source": [
    "peso = float(input('Entre com o peso: '))\n",
    "altura = float(input('Entre com a altura: '))\n",
    "imc = peso/altura**2\n",
    "\n",
    "if imc < 18.5:\n",
    "    print('Magreza')\n",
    "elif imc < 25:\n",
    "    print('Normal')\n",
    "elif imc < 30:\n",
    "    print('Sobrepeso')\n",
    "elif imc < 40:\n",
    "    print('Obesidade')\n",
    "else:\n",
    "    print('Obesidade grave')\n",
    "    "
   ]
  },
  {
   "cell_type": "markdown",
   "id": "4135f08a-de40-4e01-a3f1-fa2b8aa32a88",
   "metadata": {
    "slideshow": {
     "slide_type": "slide"
    }
   },
   "source": [
    "# Estrutura FOR"
   ]
  },
  {
   "cell_type": "markdown",
   "id": "c56e47b1-39ae-4b82-88d7-d7a62efff722",
   "metadata": {
    "slideshow": {
     "slide_type": "subslide"
    }
   },
   "source": [
    "A estrutura `for` é utilizada para percorrer uma sequência do tipo lista, tupla, dicionário e possui a seguinte sintaxe:\n",
    "\n",
    "```python\n",
    "for variavel in sequencia\n",
    "    comandos-do-laço\n",
    "```"
   ]
  },
  {
   "cell_type": "code",
   "execution_count": 158,
   "id": "55b1f5a2",
   "metadata": {
    "slideshow": {
     "slide_type": "fragment"
    }
   },
   "outputs": [
    {
     "name": "stdout",
     "output_type": "stream",
     "text": [
      "maça\n",
      "banana\n",
      "melão\n",
      "pera\n"
     ]
    }
   ],
   "source": [
    "# Exemplo de laço for usando uma lista\n",
    "# O comando continue pula para a próxima iteração\n",
    "# O comando break termina o laço\n",
    "frutas = [\"maça\", \"banana\", 'tomate', 'melão', \"pera\", 'açaí',\"uva\",  'kiwi']\n",
    "\n",
    "for f in frutas:\n",
    "    if f == 'tomate':\n",
    "        continue\n",
    "    elif f == 'açaí':\n",
    "        break\n",
    "    print(f)"
   ]
  },
  {
   "cell_type": "code",
   "execution_count": 28,
   "id": "6484a20f",
   "metadata": {
    "slideshow": {
     "slide_type": "fragment"
    }
   },
   "outputs": [
    {
     "name": "stdout",
     "output_type": "stream",
     "text": [
      "0\n",
      "1\n",
      "2\n",
      "3\n",
      "4\n",
      "5\n"
     ]
    }
   ],
   "source": [
    "# A função range cria uma sequencia de numeros variando de 0 até n-1\n",
    "# https://www.w3schools.com/python/ref_func_range.asp\n",
    "for i in range(6):\n",
    "    print(i)"
   ]
  },
  {
   "cell_type": "code",
   "execution_count": 8,
   "id": "27aac0c3",
   "metadata": {
    "slideshow": {
     "slide_type": "fragment"
    }
   },
   "outputs": [
    {
     "name": "stdout",
     "output_type": "stream",
     "text": [
      "20\n",
      "18\n",
      "16\n",
      "14\n",
      "12\n",
      "10\n",
      "8\n",
      "6\n",
      "4\n"
     ]
    }
   ],
   "source": [
    "# a funcao range aceita incremento negativo:\n",
    "for i in range(20,2,-2):\n",
    "    print(i)"
   ]
  },
  {
   "cell_type": "code",
   "execution_count": 10,
   "id": "c58f9368",
   "metadata": {
    "slideshow": {
     "slide_type": "fragment"
    }
   },
   "outputs": [
    {
     "ename": "TypeError",
     "evalue": "'float' object cannot be interpreted as an integer",
     "output_type": "error",
     "traceback": [
      "\u001b[1;31m---------------------------------------------------------------------------\u001b[0m",
      "\u001b[1;31mTypeError\u001b[0m                                 Traceback (most recent call last)",
      "Input \u001b[1;32mIn [10]\u001b[0m, in \u001b[0;36m<cell line: 2>\u001b[1;34m()\u001b[0m\n\u001b[0;32m      1\u001b[0m \u001b[38;5;66;03m# a funcao range NAO funciona com valores float:\u001b[39;00m\n\u001b[1;32m----> 2\u001b[0m \u001b[38;5;28;01mfor\u001b[39;00m i \u001b[38;5;129;01min\u001b[39;00m \u001b[38;5;28;43mrange\u001b[39;49m\u001b[43m(\u001b[49m\u001b[38;5;241;43m0\u001b[39;49m\u001b[43m,\u001b[49m\u001b[43m \u001b[49m\u001b[38;5;241;43m1\u001b[39;49m\u001b[43m,\u001b[49m\u001b[43m \u001b[49m\u001b[38;5;241;43m0.1\u001b[39;49m\u001b[43m)\u001b[49m:\n\u001b[0;32m      3\u001b[0m     \u001b[38;5;28mprint\u001b[39m(i)\n",
      "\u001b[1;31mTypeError\u001b[0m: 'float' object cannot be interpreted as an integer"
     ]
    }
   ],
   "source": [
    "# a funcao range NAO funciona com valores float:\n",
    "for i in range(0, 1, 0.1):\n",
    "    print(i)"
   ]
  },
  {
   "cell_type": "code",
   "execution_count": 162,
   "id": "fbf3f08b",
   "metadata": {
    "slideshow": {
     "slide_type": "fragment"
    }
   },
   "outputs": [
    {
     "name": "stdout",
     "output_type": "stream",
     "text": [
      "Tabuado do  1\n",
      "1 x 1 = 1\n",
      "1 x 2 = 2\n",
      "1 x 3 = 3\n",
      "1 x 4 = 4\n",
      "1 x 5 = 5\n",
      "1 x 6 = 6\n",
      "1 x 7 = 7\n",
      "1 x 8 = 8\n",
      "1 x 9 = 9\n",
      "1 x 10 = 10\n",
      "Tabuado do  2\n",
      "2 x 1 = 2\n",
      "2 x 2 = 4\n",
      "2 x 3 = 6\n",
      "2 x 4 = 8\n",
      "2 x 5 = 10\n",
      "2 x 6 = 12\n",
      "2 x 7 = 14\n",
      "2 x 8 = 16\n",
      "2 x 9 = 18\n",
      "2 x 10 = 20\n",
      "Tabuado do  3\n",
      "3 x 1 = 3\n",
      "3 x 2 = 6\n",
      "3 x 3 = 9\n",
      "3 x 4 = 12\n",
      "3 x 5 = 15\n",
      "3 x 6 = 18\n",
      "3 x 7 = 21\n",
      "3 x 8 = 24\n",
      "3 x 9 = 27\n",
      "3 x 10 = 30\n"
     ]
    }
   ],
   "source": [
    "# Laço for aninhado\n",
    "for i in range(1,4):\n",
    "    print('Tabuado do ', i)\n",
    "    for j in range(1,11):\n",
    "        print(f'{i} x {j} = {i*j}')"
   ]
  },
  {
   "cell_type": "markdown",
   "id": "1ae83e82-b75e-4bea-a234-5451d2c24a3a",
   "metadata": {
    "slideshow": {
     "slide_type": "slide"
    },
    "tags": [],
    "toc-hr-collapsed": true
   },
   "source": [
    "# Estrutura WHILE"
   ]
  },
  {
   "cell_type": "markdown",
   "id": "45c0fe01-8253-4ae6-bfb1-01361e3e7af8",
   "metadata": {
    "slideshow": {
     "slide_type": "subslide"
    }
   },
   "source": [
    "A estrutura while possui a seguinte sintaxe:\n",
    "\n",
    "```python\n",
    "while condicao:\n",
    "    comandos-dentro-do-laço\n",
    "```\n",
    "\n"
   ]
  },
  {
   "cell_type": "code",
   "execution_count": 167,
   "id": "e9089d8a",
   "metadata": {
    "slideshow": {
     "slide_type": "fragment"
    }
   },
   "outputs": [
    {
     "name": "stdout",
     "output_type": "stream",
     "text": [
      "1\n",
      "2\n",
      "3\n",
      "4\n",
      "7\n"
     ]
    }
   ],
   "source": [
    "# Exemplo de laço while\n",
    "# O comando continue pula imediatamente para a próxima iteração\n",
    "# O comando break interrompe o laço\n",
    "i = 0\n",
    "while i < 10:\n",
    "    i += 1 # auto-incremento\n",
    "    if i == 5 or i == 6:\n",
    "        continue\n",
    "    if i == 8:\n",
    "        break\n",
    "    print(i)"
   ]
  },
  {
   "cell_type": "markdown",
   "id": "b303b48c-3b46-4d3a-b415-780dddd4b44b",
   "metadata": {
    "slideshow": {
     "slide_type": "fragment"
    }
   },
   "source": [
    "## Exemplo 1\n",
    "\n",
    "Crie um código que leia 5 números do usuário e armazene-os em uma lista.\n",
    "Imprima o conteúdo da lista ao final."
   ]
  },
  {
   "cell_type": "code",
   "execution_count": 1,
   "id": "5a898a79",
   "metadata": {},
   "outputs": [
    {
     "name": "stdin",
     "output_type": "stream",
     "text": [
      "Entre com um numero: 3\n",
      "Entre com um numero: 54\n",
      "Entre com um numero: 23\n",
      "Entre com um numero: 4\n",
      "Entre com um numero: 87\n"
     ]
    },
    {
     "name": "stdout",
     "output_type": "stream",
     "text": [
      "[3, 54, 23, 4, 87]\n"
     ]
    }
   ],
   "source": [
    "# Abordagem 1:\n",
    "lista = []\n",
    "for _ in range(5):\n",
    "    numero = int(input('Entre com um numero:'))\n",
    "    lista.append(numero)\n",
    "print(lista)"
   ]
  },
  {
   "cell_type": "code",
   "execution_count": 166,
   "id": "7501e227",
   "metadata": {
    "slideshow": {
     "slide_type": "-"
    }
   },
   "outputs": [
    {
     "name": "stdin",
     "output_type": "stream",
     "text": [
      "Entre com um numero: 756\n",
      "Entre com um numero: 8\n",
      "Entre com um numero: 9\n",
      "Entre com um numero: 0\n",
      "Entre com um numero: 2\n"
     ]
    },
    {
     "name": "stdout",
     "output_type": "stream",
     "text": [
      "[756, 8, 9, 0, 2]\n"
     ]
    }
   ],
   "source": [
    "# Abordagem 2:\n",
    "# Criando uma lista de 5 elementos nulos\n",
    "lista = 5*[None]\n",
    "for i in range(5):\n",
    "    numero = int(input('Entre com um numero:'))\n",
    "    lista[i] = numero\n",
    "print(lista)"
   ]
  },
  {
   "cell_type": "markdown",
   "id": "8c653cee-213f-44e5-ada4-8d1236c1c1fa",
   "metadata": {
    "slideshow": {
     "slide_type": "fragment"
    },
    "tags": []
   },
   "source": [
    "## Exemplo 2\n",
    "Crie um código que leia o vetor anterior e determine o maior e menor valor da lista."
   ]
  },
  {
   "cell_type": "code",
   "execution_count": 2,
   "id": "a16983fd",
   "metadata": {
    "slideshow": {
     "slide_type": "-"
    }
   },
   "outputs": [
    {
     "name": "stdout",
     "output_type": "stream",
     "text": [
      "[3, 54, 23, 4, 87]\n",
      "O menor elemento é: 3\n"
     ]
    }
   ],
   "source": [
    "menor = lista[0]\n",
    "for n in lista:\n",
    "    if n < menor:\n",
    "        menor = n\n",
    "print(lista)\n",
    "print('O menor elemento é:', menor)"
   ]
  },
  {
   "cell_type": "markdown",
   "id": "b91d81c5-ca6e-4334-b0b9-bc03a9297536",
   "metadata": {
    "slideshow": {
     "slide_type": "slide"
    },
    "tags": []
   },
   "source": [
    "# Funções"
   ]
  },
  {
   "cell_type": "markdown",
   "id": "96080f46-d03e-409c-838b-d2a14687ffea",
   "metadata": {
    "slideshow": {
     "slide_type": "fragment"
    }
   },
   "source": [
    "Função é um conjunto de instruções que recebe um nome e pode ser chamado de qualquer lugar no código.\n",
    "\n",
    "Funções são utilizadas para manter o código mais legível, flexível e fácil de manter.\n",
    "\n",
    "No Python, você pode criar suas próprias funções ou executar funções já existentes. "
   ]
  },
  {
   "cell_type": "markdown",
   "id": "47591970-241e-4f15-a699-453e269bba57",
   "metadata": {
    "slideshow": {
     "slide_type": "slide"
    }
   },
   "source": [
    "# Usando bibliotecas\n",
    "\n",
    "Assim como em outras linguagens de programação, é possível incluir bibliotecas e funções desenvolvidas por outras pessoas e executá-las no seu código.\n",
    "\n",
    "Para incluir uma biblioteca ou pacote devemos primeiro carregar a biblioteca utilizando um dos comandos a seguir:\n",
    "\n",
    "```import <nome_biblioteca>```\n",
    "\n",
    "```import <nome_biblioteca> as <mnemonico>```\n",
    "\n",
    "```from <nome_biblioteca> import <nome_funcao>```\n",
    "\n",
    "<div class=\"alert alert-info\">Observe que só precisamos importar uma biblioteca uma única vez em cada notebook.</div>"
   ]
  },
  {
   "cell_type": "markdown",
   "id": "0b01dea2-556c-42f0-97b9-c4a5c938affb",
   "metadata": {
    "slideshow": {
     "slide_type": "fragment"
    }
   },
   "source": [
    "Para acessar a função, devemos usar a sintaxe `<nome_biblioteca>.<nome_da_função>(argumentos)`"
   ]
  },
  {
   "cell_type": "code",
   "execution_count": 24,
   "id": "fb5d876c",
   "metadata": {
    "slideshow": {
     "slide_type": "-"
    }
   },
   "outputs": [
    {
     "name": "stdout",
     "output_type": "stream",
     "text": [
      "1.0\n"
     ]
    }
   ],
   "source": [
    "# Exemplo:\n",
    "# Vamos utilizar a função cosseno da biblioteca math\n",
    "import math\n",
    "\n",
    "x = math.cos(0)\n",
    "print(x)"
   ]
  },
  {
   "cell_type": "markdown",
   "id": "130620e9-c0cc-4eb1-ab1c-a2b00612636e",
   "metadata": {},
   "source": [
    "Caso a biblioteca tenha sido importada usando o formato:\n",
    "\n",
    "```import <nome_biblioteca> as <mnemonico>```\n",
    "\n",
    "suas funções podem ser acessadas usando a sintaxe:\n",
    "\n",
    "`<mnemonico>.<nome_da_função>(argumentos)`"
   ]
  },
  {
   "cell_type": "code",
   "execution_count": 25,
   "id": "1a3b7443",
   "metadata": {
    "slideshow": {
     "slide_type": "fragment"
    }
   },
   "outputs": [
    {
     "name": "stdout",
     "output_type": "stream",
     "text": [
      "0.9999999999999999\n"
     ]
    }
   ],
   "source": [
    "# Exemplo:\n",
    "# Vamos importar a biblioteca \"math\" com o nome \"m\"\n",
    "import math as m\n",
    "\n",
    "x = m.tan(m.pi/4)\n",
    "\n",
    "print(x)"
   ]
  },
  {
   "cell_type": "markdown",
   "id": "bc07253f-96f7-4bfa-8ae4-1521dd25b2af",
   "metadata": {
    "slideshow": {
     "slide_type": "fragment"
    }
   },
   "source": [
    "Caso você queira importar apenas uma única função dentro de um módulo, podemos utilizar o comando `from`.\n",
    "\n",
    "A sintaxe é:\n",
    "\n",
    "`from <nome_biblioteca> import <nome_da_funcao>`.\n",
    "\n",
    "Neste caso, não é necessário colocar o prefixo para chamar a função."
   ]
  },
  {
   "cell_type": "code",
   "execution_count": 9,
   "id": "880f1f5d",
   "metadata": {
    "slideshow": {
     "slide_type": "fragment"
    }
   },
   "outputs": [
    {
     "data": {
      "text/plain": [
       "0.0"
      ]
     },
     "execution_count": 9,
     "metadata": {},
     "output_type": "execute_result"
    }
   ],
   "source": [
    "# vamos importar apenas a funcao sin da biblioteca math\n",
    "from math import sin\n",
    "\n",
    "sin(0)"
   ]
  },
  {
   "cell_type": "markdown",
   "id": "0a2b2edb-51d7-4e88-943f-a6e97c94ba8a",
   "metadata": {
    "slideshow": {
     "slide_type": "skip"
    }
   },
   "source": [
    "Material de referência:\n",
    "\n",
    "https://docs.python.org/pt-br/3.9/library/index.html"
   ]
  },
  {
   "cell_type": "markdown",
   "id": "d685530b-50dd-44a8-81a8-0ad3d3be5a09",
   "metadata": {
    "slideshow": {
     "slide_type": "fragment"
    }
   },
   "source": [
    "## Exemplo 1"
   ]
  },
  {
   "cell_type": "markdown",
   "id": "e6dedb79-00c4-44d6-8c6d-d8171a8db81d",
   "metadata": {},
   "source": [
    "Vamos criar um programa que sorteia um número inteiro aleatório entre 1 e 10 e imprime-o na tela."
   ]
  },
  {
   "cell_type": "code",
   "execution_count": 3,
   "id": "ef1d0e2e",
   "metadata": {},
   "outputs": [],
   "source": [
    "import random"
   ]
  },
  {
   "cell_type": "code",
   "execution_count": 51,
   "id": "cdab2750",
   "metadata": {},
   "outputs": [
    {
     "name": "stdout",
     "output_type": "stream",
     "text": [
      "O valor sorteado foi: 5\n"
     ]
    }
   ],
   "source": [
    "x = random.randint(1,10)\n",
    "print('O valor sorteado foi:', x)"
   ]
  },
  {
   "cell_type": "markdown",
   "id": "2b302e06-8e50-4af1-aaa9-fbe00bc23884",
   "metadata": {
    "slideshow": {
     "slide_type": "fragment"
    }
   },
   "source": [
    "## Exemplo 2\n",
    "\n",
    "Vamos criar um algoritmo para calcular a área de um círculo."
   ]
  },
  {
   "cell_type": "code",
   "execution_count": 1,
   "id": "953177a5",
   "metadata": {},
   "outputs": [],
   "source": [
    "from math import pi"
   ]
  },
  {
   "cell_type": "code",
   "execution_count": 2,
   "id": "32321e6c",
   "metadata": {
    "slideshow": {
     "slide_type": "-"
    }
   },
   "outputs": [
    {
     "name": "stdout",
     "output_type": "stream",
     "text": [
      "Entre com o raio: 32\n",
      "A área é de 3216.990877275948\n"
     ]
    }
   ],
   "source": [
    "raio = float(input(\"Entre com o raio: \")) \n",
    "area = pi * raio ** 2\n",
    "print(\"A área é de\", area)"
   ]
  },
  {
   "cell_type": "markdown",
   "id": "a25de1e7-8686-4e93-8898-cc0bd7949fa2",
   "metadata": {},
   "source": [
    "# A biblioteca Numpy"
   ]
  },
  {
   "cell_type": "markdown",
   "id": "567858b2-82a8-44c7-b0a5-adae644686bb",
   "metadata": {},
   "source": [
    "* vetores e matrizes multidimensionais, \n",
    "* funções matemáticas para operar nessas estruturas.\n",
    "* álgebra linear básica\n",
    "* operações estatísticas."
   ]
  },
  {
   "cell_type": "markdown",
   "id": "c4ddc885-14be-40bb-85b3-1076101deaee",
   "metadata": {},
   "source": [
    "Suponha que desejamos criar o vetor abaixo:\n",
    "\n",
    "$v = [10, 2, 5, 3, 21, 8]$\n",
    "\n",
    "Vamos criar utilizando a biblioteca `numpy` e, em seguida, realizar algumas operações com este vetor:"
   ]
  },
  {
   "cell_type": "code",
   "execution_count": 45,
   "id": "a01d3a2b-9fce-4d8a-95a7-2064c4e9ae83",
   "metadata": {},
   "outputs": [
    {
     "name": "stdout",
     "output_type": "stream",
     "text": [
      "[10  2  5  3  6  9]\n",
      "5.833333333333333 5.833333333333333\n",
      "10 10\n",
      "2 2\n",
      "2.9107081994288304 2.9107081994288304\n",
      "35 35\n",
      "[10  2 -1  3  6  9]\n",
      "[20 12  9 13 16 19]\n",
      "[50 10 -5 15 30 45]\n",
      "[100   4   1   9  36  81]\n",
      "[11  4  2  7 11 15]\n",
      "107\n",
      "107\n"
     ]
    }
   ],
   "source": [
    "import numpy as np\n",
    "\n",
    "v = np.array([10, 2, 5, 3, 6, 9])\n",
    "print(v)\n",
    "# Existem 2 formas de utilizar as funções presentes na biblioteca Numpy:\n",
    "print(v.mean(), np.mean(v))\n",
    "print(v.max(), np.max(v))\n",
    "print(v.min(), np.min(v))\n",
    "print(v.std(), np.std(v))\n",
    "print(v.sum(), np.sum(v))\n",
    "\n",
    "# Para alterar o valor de um elemento do vetor, utilizamos o índice:\n",
    "v[2] = -1\n",
    "print(v)\n",
    "\n",
    "# Somando um escalar:\n",
    "print(v + 10)\n",
    "\n",
    "# Multiplicando todos os valores:\n",
    "print(v*5)\n",
    "\n",
    "# Elevando todos os valores ao quadrado:\n",
    "print(v**2)\n",
    "\n",
    "# Somando 2 vetores:\n",
    "w = np.array([1, 2, 3, 4, 5, 6])\n",
    "print(v + w)\n",
    "\n",
    "# Realizando o produto interno de 2 vetores:\n",
    "print(v @ w)\n",
    "print(np.dot(v,w))"
   ]
  },
  {
   "cell_type": "markdown",
   "id": "f16d5885-368b-4217-af97-ebcc66f6c008",
   "metadata": {},
   "source": [
    "## Matrizes"
   ]
  },
  {
   "cell_type": "markdown",
   "id": "03510d8d-e6d2-491e-8606-ac50e8ba7fe4",
   "metadata": {},
   "source": [
    "Uma matriz é uma tabela que armazena números organizada em linhas e colunas.\n",
    "Representamos por\n",
    "\n",
    "<div class=\"alert alert-warning\" role=\"alert\">\n",
    "$A_{m\\times n}$ uma matriz contendo $m$ linhas e $n$ colunas.\n",
    "</div>\n",
    "\n",
    "Por exemplo,\n",
    "\n",
    "$\n",
    "A_{3\\times 2} = \n",
    "\\begin{bmatrix}\n",
    "5 & -1 \\\\\n",
    "3 & 0 \\\\\n",
    "0 & 10\n",
    "\\end{bmatrix}\n",
    "$"
   ]
  },
  {
   "cell_type": "code",
   "execution_count": 24,
   "id": "65d64b58-ad27-4651-be65-fd329f57219f",
   "metadata": {},
   "outputs": [
    {
     "name": "stdout",
     "output_type": "stream",
     "text": [
      "[[ 5 -1]\n",
      " [ 3  0]\n",
      " [ 0 10]]\n",
      "-1\n"
     ]
    }
   ],
   "source": [
    "M = np.array([ [5,-1], [3, 0], [0, 10] ])\n",
    "print(M)\n",
    "print(M[0][1])"
   ]
  },
  {
   "cell_type": "code",
   "execution_count": 35,
   "id": "bb20175f-add0-41a1-8462-eace93ffd964",
   "metadata": {},
   "outputs": [
    {
     "name": "stdout",
     "output_type": "stream",
     "text": [
      "[[ 5 -1]\n",
      " [ 3  0]\n",
      " [ 0 10]]\n",
      "[[1 2]\n",
      " [3 4]]\n",
      "[[ 2  6]\n",
      " [ 3  6]\n",
      " [30 40]]\n"
     ]
    }
   ],
   "source": [
    "N = np.array([[1, 2], [3, 4]])\n",
    "print(M)\n",
    "print(N)\n",
    "# A multiplicação matricial é feita usando o operador '@'\n",
    "print(M @ N)"
   ]
  },
  {
   "cell_type": "code",
   "execution_count": 21,
   "id": "dc367669-eee3-41a7-b43c-8c5fe7ccabb0",
   "metadata": {},
   "outputs": [
    {
     "name": "stdout",
     "output_type": "stream",
     "text": [
      "[[ 1.  2.  3.]\n",
      " [ 4.  5.  6.]\n",
      " [ 7.  8.  9.]\n",
      " [10. 11. 12.]]\n"
     ]
    }
   ],
   "source": [
    "i = 1\n",
    "# criando uma matriz com 4 linhas e 3 colunas\n",
    "M = np.zeros((4,3))\n",
    "for LIN in range(4):\n",
    "    for COL in range(3):\n",
    "        M[LIN][COL] = i\n",
    "        i += 1\n",
    "print(M)"
   ]
  },
  {
   "cell_type": "markdown",
   "id": "599142dc-0ad8-4d63-962c-24371129784f",
   "metadata": {},
   "source": [
    "## Sistemas lineares"
   ]
  },
  {
   "cell_type": "markdown",
   "id": "068a1b87-6136-4c54-92ed-d573e0b67b32",
   "metadata": {},
   "source": [
    "Inicialmente vamos nos concentrar na solução de equações algébricas lineares, ou seja, sistemas que tenham a forma geral:\n",
    "\n",
    "\\begin{equation}\n",
    "\\begin{aligned}\n",
    " a_{11}x_1 + a_{12}x_2 + \\ldots + a_{1n}x_n &= b_1 \\\\\n",
    " a_{21}x_1 + a_{22}x_2 + \\ldots + a_{2n}x_n &= b_2 \\\\\n",
    " \\vdots \\\\\n",
    " a_{n1}x_1 + a_{n2}x_2 + \\ldots + a_{nn}x_n &= b_n \\\\\n",
    "\\end{aligned}\n",
    "\\end{equation}\n",
    "\n",
    "Para simplificar a notação, utilizaremos matrizes e vetores para representar sistemas de equações.\n",
    "Assim, definindo:\n",
    "\n",
    "$\n",
    "A = \\begin{bmatrix}\n",
    "a_{11} & a_{12} & \\ldots & a_{1n} \\\\\n",
    "a_{21} & a_{22} & \\ldots & a_{2n} \\\\\n",
    "\\vdots \\\\\n",
    "a_{n1} & a_{n2} & \\ldots & a_{nn} \n",
    "\\end{bmatrix}\n",
    "$ como sendo a matriz de coeficientes,\n",
    "\n",
    "$\n",
    "x = \\begin{bmatrix}\n",
    "x_1 \\\\\n",
    "x_2 \\\\\n",
    "\\vdots \\\\\n",
    "x_n\n",
    "\\end{bmatrix}\n",
    "$ o vetor de incognitas\n",
    "\n",
    "e\n",
    "\n",
    "$\n",
    "b = \\begin{bmatrix}\n",
    "b_1 \\\\\n",
    "b_2 \\\\\n",
    "\\vdots \\\\\n",
    "b_n\n",
    "\\end{bmatrix}\n",
    "$ o vetor de constantes.\n",
    "\n",
    "Podemos escrever nosso sistema como:\n",
    "\n",
    "\\begin{equation}\n",
    "Ax = b\n",
    "\\end{equation}\n",
    "\n"
   ]
  },
  {
   "cell_type": "markdown",
   "id": "22f9c881-f252-47fd-891c-6a8991b8f537",
   "metadata": {},
   "source": [
    "## Exemplo"
   ]
  },
  {
   "cell_type": "markdown",
   "id": "cf5ac84a-dc87-4822-b3a6-5eaed24908a6",
   "metadata": {},
   "source": [
    "Fonte: https://www.engquimicasantossp.com.br/2015/06/balanco-de-massa-balanco-material.html\n",
    "\n",
    "Em uma coluna trabalhando em regime permanente destilam-se 1000 kg/h de uma mistura composta por 50% em peso de benzeno e 50% de tolueno. O destilado que sai da coluna é composto por 90% em peso de benzeno, e o resíduo que sai da coluna é composto por 8% em peso de benzeno. \n",
    "Determine a massa do destilado ($M_D$) e do resíduo ($M_R$)\n",
    "\n",
    "<img src=\"https://ufsj.edu.br/portal2-repositorio/File/prof_shiroma/sistemas_lineares_exemplo1.png\" width=\"500\"/>\n"
   ]
  },
  {
   "cell_type": "markdown",
   "id": "3d746e63-73bf-42ff-b418-d31fbda21ae7",
   "metadata": {},
   "source": [
    "## Resolução:\n",
    "\n",
    "O balanço de massa consiste em uma descrição dos fluxos de massa de entrada e saída de um processo, baseado na lei de conservação de massa, e pode ser expresso como:\n",
    "\n",
    "\\begin{equation}\n",
    "\\sum \\text{Entrada} = \\sum \\text{Acúmulo} + \\sum \\text{Saída}\n",
    "\\end{equation}\n",
    "\n",
    "Considerando um processo operando em regime permanente, temos que o acúmulo é zero e o balanço se torna:\n",
    "\n",
    "\\begin{equation}\n",
    "\\sum \\text{Entrada} = \\sum \\text{Saída}\n",
    "\\end{equation}\n",
    "\n",
    "Aplicando o balanço de massa para o benzeno, temos que:\n",
    "\n",
    "\\begin{equation}\n",
    "0,5M_A = 0,9M_D + 0,08M_R\n",
    "\\end{equation}\n",
    "\n",
    "Aplicando o balanço de massa para o tolueno, temos que:\n",
    "\n",
    "\\begin{equation}\n",
    "0,5M_A = 0,1M_D + 0,92M_R\n",
    "\\end{equation}\n",
    "\n",
    "Transformando o problema em um sistema de equações, ele se torna:\n",
    "\n",
    "$\n",
    "A = \\begin{bmatrix} 0,9 & 0,08 \\\\\n",
    "0,1 & 0,92\n",
    "\\end{bmatrix}\n",
    "$\n",
    "\n",
    "$\n",
    "x = \\begin{bmatrix} M_D \\\\\n",
    "M_R\n",
    "\\end{bmatrix}\n",
    "$\n",
    "e\n",
    "\n",
    "$\n",
    "b = \\begin{bmatrix} 0,5M_A \\\\ 0,5M_A \\end{bmatrix}\n",
    "$"
   ]
  },
  {
   "cell_type": "markdown",
   "id": "caad28d6-b0ea-4039-bcc3-49e56d88fb6b",
   "metadata": {},
   "source": [
    "Vamos utilizar a função `solve` do submódulo `linalg` da biblioteca `numpy`\n",
    "\n",
    "[solve](https://numpy.org/doc/stable/reference/generated/numpy.linalg.solve.html)"
   ]
  },
  {
   "cell_type": "code",
   "execution_count": 46,
   "id": "896ee74a-6ef2-4ca0-b107-22f5c8f20973",
   "metadata": {},
   "outputs": [
    {
     "data": {
      "text/plain": [
       "array([512.19512195, 487.80487805])"
      ]
     },
     "execution_count": 46,
     "metadata": {},
     "output_type": "execute_result"
    }
   ],
   "source": [
    "import numpy as np\n",
    "MA = 1000\n",
    "A = np.array([[0.9, 0.08], [0.1, 0.92] ])\n",
    "b = np.array([0.5*MA,0.5*MA])\n",
    "np.linalg.solve(A,b)"
   ]
  },
  {
   "cell_type": "markdown",
   "id": "7d8d1ecb-41e6-4c37-a31b-16e2ff689e67",
   "metadata": {},
   "source": [
    "# A biblioteca Matplotlib"
   ]
  },
  {
   "cell_type": "code",
   "execution_count": 47,
   "id": "65a8ed67-4d91-4de3-a522-4732ef3ea2b5",
   "metadata": {},
   "outputs": [
    {
     "data": {
      "image/png": "[encoded data removed]",
      "text/plain": [
       "<Figure size 640x480 with 1 Axes>"
      ]
     },
     "metadata": {},
     "output_type": "display_data"
    }
   ],
   "source": [
    "import matplotlib.pyplot as plt\n",
    "import numpy as np\n",
    "\n",
    "# Generate some random data\n",
    "x = np.arange(0, 10, 0.1)\n",
    "y = np.sin(x)\n",
    "\n",
    "# Create the plot\n",
    "plt.plot(x, y)\n",
    "plt.xlabel('x')\n",
    "plt.ylabel('y')\n",
    "plt.title('Seno')\n",
    "plt.show()"
   ]
  },
  {
   "cell_type": "markdown",
   "id": "7382b7e1-8ddb-454e-a7b0-4c6aeccb4853",
   "metadata": {
    "slideshow": {
     "slide_type": "slide"
    }
   },
   "source": [
    "# Escrevendo funções"
   ]
  },
  {
   "cell_type": "markdown",
   "id": "59e541c6-1062-4ce7-859f-40d438287a4b",
   "metadata": {
    "slideshow": {
     "slide_type": "fragment"
    }
   },
   "source": [
    "Para criarmos uma nova função, usamos a sintaxe a seguir:\n",
    "\n",
    "```python\n",
    "def nome_da_funcao():\n",
    "    comandos\n",
    "```\n",
    "\n",
    "O escopo das instruções é definido pela **indentação**.\n",
    "\n",
    "No código abaixo:\n",
    "\n",
    "```python\n",
    "def nome_da_funcao():\n",
    "    instrucao1\n",
    "    instrucao2\n",
    "instrucao3\n",
    "```\n",
    "\n",
    "* as instruções 1 e 2 estão dentro da função\n",
    "* a instrução 3 está fora dela."
   ]
  },
  {
   "cell_type": "markdown",
   "id": "8ff51b5d-2eaa-4ca0-87fa-8a8e735c466d",
   "metadata": {
    "slideshow": {
     "slide_type": "fragment"
    }
   },
   "source": [
    "Para utilizarmos a função, basta chamarmos pelo seu nome:\n",
    "\n",
    "`nome_da_funcao()`"
   ]
  },
  {
   "cell_type": "code",
   "execution_count": 14,
   "id": "50c33e9f",
   "metadata": {
    "slideshow": {
     "slide_type": "fragment"
    }
   },
   "outputs": [],
   "source": [
    "# Exemplo de criacao de uma funcao:\n",
    "def exemplo_de_funcao():\n",
    "    print('Hello world!')"
   ]
  },
  {
   "cell_type": "code",
   "execution_count": 15,
   "id": "f5bc9e20",
   "metadata": {
    "slideshow": {
     "slide_type": "fragment"
    }
   },
   "outputs": [
    {
     "name": "stdout",
     "output_type": "stream",
     "text": [
      "Hello world!\n"
     ]
    }
   ],
   "source": [
    "# Chamando a função definida acima:\n",
    "exemplo_de_funcao()"
   ]
  },
  {
   "cell_type": "markdown",
   "id": "44a6b603-fbd6-441a-ab91-3f8eae6184cb",
   "metadata": {
    "slideshow": {
     "slide_type": "slide"
    }
   },
   "source": [
    "## Parâmetros de entrada"
   ]
  },
  {
   "cell_type": "markdown",
   "id": "d72a30ba-9eb0-498f-bc41-26efa9ca956c",
   "metadata": {
    "slideshow": {
     "slide_type": "fragment"
    }
   },
   "source": [
    "Uma função pode receber um ou mais parâmetros de entrada:\n",
    "\n",
    "```python\n",
    "def nome_da_funcao(parametro1, parametro2, etc):\n",
    "    instrucoes\n",
    "```"
   ]
  },
  {
   "cell_type": "code",
   "execution_count": 16,
   "id": "2957879e",
   "metadata": {
    "slideshow": {
     "slide_type": "fragment"
    }
   },
   "outputs": [],
   "source": [
    "# Exemplo de funcao com 1 parâmetro de entrada:\n",
    "def quadrado(numero):\n",
    "    quad = numero**2\n",
    "    print('O quadrado de', numero, 'é', quad)"
   ]
  },
  {
   "cell_type": "code",
   "execution_count": 18,
   "id": "7ab9dc65",
   "metadata": {
    "slideshow": {
     "slide_type": "fragment"
    }
   },
   "outputs": [
    {
     "name": "stdout",
     "output_type": "stream",
     "text": [
      "O quadrado de 10 é 100\n"
     ]
    }
   ],
   "source": [
    "x = 2\n",
    "quadrado(10)"
   ]
  },
  {
   "cell_type": "code",
   "execution_count": 16,
   "id": "2bacc9e1",
   "metadata": {
    "slideshow": {
     "slide_type": "fragment"
    }
   },
   "outputs": [],
   "source": [
    "# Exemplo de funcao com 2 parâmetros de entrada:\n",
    "def imc(peso, altura):\n",
    "    '''\n",
    "    Calcula e imprime o IMC (índice de massa corporal)\n",
    "    '''\n",
    "    imc = peso/(altura*altura)\n",
    "    print(f'Seu imc é de {imc:.2f}')"
   ]
  },
  {
   "cell_type": "code",
   "execution_count": 20,
   "id": "892901cf",
   "metadata": {
    "slideshow": {
     "slide_type": "fragment"
    }
   },
   "outputs": [
    {
     "name": "stdout",
     "output_type": "stream",
     "text": [
      "Seu imc é de 14.53\n"
     ]
    }
   ],
   "source": [
    "imc(42, 1.7)"
   ]
  },
  {
   "cell_type": "markdown",
   "id": "f90a7aa4-ac59-4ce9-8d9e-d3127783e0e2",
   "metadata": {
    "slideshow": {
     "slide_type": "slide"
    }
   },
   "source": [
    "## Valor de retorno"
   ]
  },
  {
   "cell_type": "markdown",
   "id": "104bc0ed-0e22-4667-abf4-27495c08e69c",
   "metadata": {
    "slideshow": {
     "slide_type": "fragment"
    }
   },
   "source": [
    "Uma função pode retornar um ou mais valores como resposta:\n",
    "\n",
    "```python\n",
    "\n",
    "def nome_da_funcao():\n",
    "    return alguma_coisa\n",
    "```"
   ]
  },
  {
   "cell_type": "code",
   "execution_count": 4,
   "id": "303011ba",
   "metadata": {
    "slideshow": {
     "slide_type": "fragment"
    }
   },
   "outputs": [],
   "source": [
    "# Exemplo de funcao com retorno\n",
    "def quadrado2(n):\n",
    "    '''\n",
    "    Calcula o quadrado de um número\n",
    "    '''\n",
    "    r = n**2\n",
    "    return r"
   ]
  },
  {
   "cell_type": "code",
   "execution_count": 5,
   "id": "4829df6a",
   "metadata": {
    "slideshow": {
     "slide_type": "fragment"
    }
   },
   "outputs": [
    {
     "name": "stdout",
     "output_type": "stream",
     "text": [
      "36\n"
     ]
    }
   ],
   "source": [
    "x = quadrado2(6)\n",
    "print(x)"
   ]
  },
  {
   "cell_type": "markdown",
   "id": "7aa14601-5229-463d-9468-52a0f1f333b0",
   "metadata": {
    "slideshow": {
     "slide_type": "fragment"
    }
   },
   "source": [
    "Também é possível retornar mais de 1 valor como resposta, separando-os por vírgulas."
   ]
  },
  {
   "cell_type": "code",
   "execution_count": 1,
   "id": "cb5e95cc",
   "metadata": {
    "slideshow": {
     "slide_type": "fragment"
    }
   },
   "outputs": [],
   "source": [
    "from random import randint"
   ]
  },
  {
   "cell_type": "code",
   "execution_count": 2,
   "id": "68a74841",
   "metadata": {
    "slideshow": {
     "slide_type": "fragment"
    }
   },
   "outputs": [],
   "source": [
    "def sorteia_ponto():\n",
    "    \"\"\"\n",
    "    Sorteia um ponto de coordenadas (x,y).\n",
    "    As coordenadas são geradas de forma aleatórias, e encontram-se no intervalo de 0 a 100\n",
    "    \"\"\"\n",
    "    x = randint(0,100)\n",
    "    y = randint(0,100)\n",
    "    return x,y"
   ]
  },
  {
   "cell_type": "code",
   "execution_count": 3,
   "id": "64c6e69f",
   "metadata": {
    "slideshow": {
     "slide_type": "fragment"
    }
   },
   "outputs": [
    {
     "name": "stdout",
     "output_type": "stream",
     "text": [
      "90\n",
      "33\n"
     ]
    }
   ],
   "source": [
    "x,y = sorteia_ponto()\n",
    "print(x)\n",
    "print(y)"
   ]
  },
  {
   "cell_type": "markdown",
   "id": "04457b18-78bf-4396-a4da-1898f3360eaf",
   "metadata": {
    "slideshow": {
     "slide_type": "slide"
    }
   },
   "source": [
    "# Passando uma função como parâmetro"
   ]
  },
  {
   "cell_type": "markdown",
   "id": "e8cc0688-06ea-4158-ab57-5cf00737a243",
   "metadata": {
    "slideshow": {
     "slide_type": "fragment"
    }
   },
   "source": [
    "É possível passar uma função como parâmetro para outra função.\n",
    "\n",
    "Por exemplo, podemos passar uma função `f1` como parâmetro de entrada de uma função `f2`:\n",
    "\n",
    "```python\n",
    "def f2(f1):\n",
    "    instrucoes\n",
    "```\n"
   ]
  },
  {
   "cell_type": "code",
   "execution_count": 1,
   "id": "fefd1674",
   "metadata": {
    "slideshow": {
     "slide_type": "fragment"
    }
   },
   "outputs": [],
   "source": [
    "# Exemplo de passagem de função como parâmetro\n",
    "\n",
    "# calcula n^2\n",
    "def f1(n):\n",
    "    return n**2\n",
    "\n",
    "# calcula n^3\n",
    "def f2(n):\n",
    "    return n**3\n",
    "\n",
    "# A função g recebe uma função como entrada e um parâmetro n\n",
    "def g(f, n):\n",
    "    print('O valor calculado foi de', f(n))"
   ]
  },
  {
   "cell_type": "code",
   "execution_count": 41,
   "id": "c60dabac",
   "metadata": {
    "slideshow": {
     "slide_type": "fragment"
    }
   },
   "outputs": [
    {
     "name": "stdout",
     "output_type": "stream",
     "text": [
      "O valor calculado foi de 100\n",
      "O valor calculado foi de 1000\n"
     ]
    }
   ],
   "source": [
    "g(f1, 10) # f1(10)\n",
    "g(f2, 10) # f2(10)"
   ]
  },
  {
   "cell_type": "markdown",
   "id": "f3e577d6-5e8e-49d2-b02e-c77f6194332e",
   "metadata": {
    "slideshow": {
     "slide_type": "slide"
    }
   },
   "source": [
    "# Exemplo"
   ]
  },
  {
   "cell_type": "markdown",
   "id": "89acd2e9-fef1-4939-b1a3-61b756f75aa0",
   "metadata": {
    "slideshow": {
     "slide_type": "fragment"
    }
   },
   "source": [
    "Crie uma função que receba um número como entrada um número `n` e determine se ele é par.\n",
    "Ele deve retornar `True` se `n` for par e `False` se for ímpar."
   ]
  },
  {
   "cell_type": "markdown",
   "id": "cc4423e4-3100-4de8-831e-b0f0b7406722",
   "metadata": {
    "slideshow": {
     "slide_type": "fragment"
    }
   },
   "source": [
    "**Definição da função:**"
   ]
  },
  {
   "cell_type": "code",
   "execution_count": 6,
   "id": "ebf06596",
   "metadata": {
    "code_folding": [],
    "slideshow": {
     "slide_type": "fragment"
    }
   },
   "outputs": [],
   "source": [
    "def par(n):\n",
    "    if type(n) == int or type(n) == float:\n",
    "        if n%2 == 0:\n",
    "            return True\n",
    "        else:\n",
    "            return False\n",
    "    else:\n",
    "        print('Por favor, entre com um numero inteiro')"
   ]
  },
  {
   "cell_type": "markdown",
   "id": "433e49bd-cc97-4eb0-97f0-ef5fa6b7b248",
   "metadata": {
    "slideshow": {
     "slide_type": "fragment"
    }
   },
   "source": [
    "**Chamada da função:**"
   ]
  },
  {
   "cell_type": "code",
   "execution_count": 12,
   "id": "ae07fa27",
   "metadata": {
    "slideshow": {
     "slide_type": "fragment"
    }
   },
   "outputs": [
    {
     "data": {
      "text/plain": [
       "False"
      ]
     },
     "execution_count": 12,
     "metadata": {},
     "output_type": "execute_result"
    }
   ],
   "source": [
    "par(3)"
   ]
  },
  {
   "cell_type": "markdown",
   "id": "65f96d9c-6c55-4895-8c5b-a68f4a22d88f",
   "metadata": {},
   "source": [
    "# Exercício 1\n",
    "\n",
    "Crie uma função que calcule do volume de uma esfera, sabendo que o volume é dado por:\n",
    "\n",
    "$V = \\dfrac{4}{3}\\pi R ^3$\n",
    "\n",
    "Receba o raio como parâmetro de entrada e retorne o volume como resposta."
   ]
  },
  {
   "cell_type": "markdown",
   "id": "e7bcccd3-e9c8-4b3a-946b-c766cf3e1d1e",
   "metadata": {},
   "source": [
    "**Definição da função:**"
   ]
  },
  {
   "cell_type": "code",
   "execution_count": 17,
   "id": "698b41be",
   "metadata": {},
   "outputs": [],
   "source": [
    "from math import pi\n",
    "\n",
    "def volume(R):\n",
    "    return"
   ]
  },
  {
   "cell_type": "markdown",
   "id": "4db169ca-3649-4a4a-8c49-5f4ad1eff785",
   "metadata": {},
   "source": [
    "**Chamada da função:**"
   ]
  },
  {
   "cell_type": "code",
   "execution_count": 16,
   "id": "9d2c4f96",
   "metadata": {},
   "outputs": [],
   "source": [
    "volume(2)"
   ]
  },
  {
   "cell_type": "markdown",
   "id": "c2c78c9d-7640-4814-8f92-40f2878806a0",
   "metadata": {},
   "source": [
    "# Exercício 2\n",
    "\n",
    "Crie uma função que receba uma temperatura em Fahrenheit e converta-a para a escala Celsius.\n",
    "\n",
    "Lembre-se que:\n",
    "\n",
    "$\\dfrac{T_C}{5} = \\dfrac{T_F - 32}{9}\n",
    "$"
   ]
  },
  {
   "cell_type": "markdown",
   "id": "0b2be6c2-8edf-44e8-b090-55763b1ae43b",
   "metadata": {},
   "source": [
    "**Definição da função:**"
   ]
  },
  {
   "cell_type": "code",
   "execution_count": 20,
   "id": "cde29f9e",
   "metadata": {},
   "outputs": [],
   "source": [
    "def fahrenheit2celsius(TF):\n",
    "    return"
   ]
  },
  {
   "cell_type": "markdown",
   "id": "ce2fdf84-dd7b-4170-9656-0111b2739e81",
   "metadata": {},
   "source": [
    "**Chamada da função:**"
   ]
  },
  {
   "cell_type": "code",
   "execution_count": 19,
   "id": "7048cad4",
   "metadata": {},
   "outputs": [],
   "source": [
    "fahrenheit2celsius(273)"
   ]
  },
  {
   "cell_type": "markdown",
   "id": "74acea8b-41b6-4340-8c79-c27f7bcccc1d",
   "metadata": {},
   "source": [
    "# Exercício 6\n",
    "\n",
    "Crie uma função que receba o valor de $x$ e determine se $x$ é raíz da função $f(x) = -12 -21x +18x^2 -2,75x^3$."
   ]
  },
  {
   "cell_type": "markdown",
   "id": "c151b2c4-d02f-4ca6-8efc-23b32da4c06f",
   "metadata": {},
   "source": [
    "**Definição da função:**"
   ]
  },
  {
   "cell_type": "code",
   "execution_count": 21,
   "id": "8023f96a",
   "metadata": {},
   "outputs": [],
   "source": [
    "def funcao(x):\n",
    "    return -12 -21*x + 18*x**2 - 2.75*x**3\n",
    "\n",
    "def raiz(x, f):\n",
    "    return"
   ]
  },
  {
   "cell_type": "code",
   "execution_count": 23,
   "id": "7e74adbc",
   "metadata": {},
   "outputs": [],
   "source": [
    "#raiz(-0.41468941, funcao)\n",
    "raiz(10, funcao)"
   ]
  },
  {
   "cell_type": "markdown",
   "id": "fb4d2252-f12c-4e32-a631-ab56da1953e7",
   "metadata": {},
   "source": [
    "**Chamada da função:**"
   ]
  },
  {
   "cell_type": "code",
   "execution_count": null,
   "id": "b6b9942d-1beb-404f-830d-464a052663f9",
   "metadata": {},
   "outputs": [],
   "source": []
  },
  {
   "cell_type": "markdown",
   "id": "2fc21a9d-3d12-429b-8fcc-04cc795f0a74",
   "metadata": {},
   "source": [
    "# A biblioteca Scipy"
   ]
  },
  {
   "cell_type": "markdown",
   "id": "8c467054-eff7-4fc5-a2d5-d90ab0c9185d",
   "metadata": {},
   "source": [
    "Subpacotes mais usados:\n",
    "\n",
    "* `scipy.optimize`: Otimização (minimizar ou maximizar).\n",
    "* `scipy.integrate`: Integração numérica, resolução de equações diferenciais.\n",
    "* `scipy.interpolate`: Interpolação de pontos de dados.\n",
    "* `scipy.signal`: Processamento de sinais, como filtragem, transformadas de Fourier e transformada wavelet.\n",
    "* `scipy.linalg`: Álgebra linear, resolução de equações lineares e problemas de autovalor.\n",
    "* `scipy.stats`: Análise estatística de dados, como distribuições de probabilidade e teste de hipóteses."
   ]
  },
  {
   "cell_type": "markdown",
   "id": "782b115d-2cd1-4865-9c84-9b6c3243c1ba",
   "metadata": {},
   "source": [
    "## Otimização\n",
    "\n",
    "* O problema de otimização pode ser mais formalmente definido como:\n",
    "\n",
    "\\begin{equation} \n",
    "minimizar f(x), x \\in \\Omega\n",
    "\\end{equation}\n",
    "\n",
    "* No caso unidimensional: $x \\in \\mathbb{R}$"
   ]
  },
  {
   "cell_type": "markdown",
   "id": "afebcc2e-cfa0-4334-9155-a31f6c0521f5",
   "metadata": {},
   "source": [
    "`scipy.optimize.minimize_scalar(fun, bracket=None, bounds=None, args=(), method=None, tol=None, options=None)`\n",
    "\n",
    "[link](https://docs.scipy.org/doc/scipy/reference/generated/scipy.optimize.minimize_scalar.html#scipy-optimize-minimize-scalar)"
   ]
  },
  {
   "cell_type": "markdown",
   "id": "1fec3100-0fe5-4763-ae46-013b2902004c",
   "metadata": {},
   "source": [
    "## Exemplo"
   ]
  },
  {
   "cell_type": "markdown",
   "id": "cbebae72-ab5b-4a8d-add8-2b70074de53f",
   "metadata": {},
   "source": [
    "Vamos encontrar o mínimo da função $(x-2)^2 + 3$"
   ]
  },
  {
   "cell_type": "code",
   "execution_count": 48,
   "id": "d9e1f2e2-6677-4365-badf-4bd11d40e303",
   "metadata": {},
   "outputs": [
    {
     "name": "stdout",
     "output_type": "stream",
     "text": [
      "f(x) mínimo: 3.0\n",
      "x mínimo: 1.9999999999999998\n"
     ]
    }
   ],
   "source": [
    "from scipy.optimize import minimize_scalar\n",
    "\n",
    "# Definindo a função objetivo a ser minimizada\n",
    "def f(x):\n",
    "    return (x - 2) ** 2 + 3\n",
    "\n",
    "# encontrando o mínimo da função\n",
    "res = minimize_scalar(f)\n",
    "\n",
    "# Imprimindo o valor de f(min) e min\n",
    "print('f(x) mínimo:', res.fun)\n",
    "print('x mínimo:', res.x)"
   ]
  },
  {
   "cell_type": "markdown",
   "id": "163d62fb-64a6-499a-90d6-cc996db1bd3f",
   "metadata": {},
   "source": [
    "## Exemplo\n",
    "\n",
    "[CHAPRA, Ex. 7.26] A taxa de crescimento específico de uma cultura que produz um antibiótico é uma função da concentração de alimento $c$:\n",
    "\n",
    "\\begin{equation}\n",
    "g = \\dfrac{2c}{4 + 0,8c + c^2 +0,2c^3}\n",
    "\\end{equation}\n",
    "\n",
    "O crescimento tende a zero em concentrações muito baixas em decorrência da limitação de alimentos, e também tende a zero em concentrações muito altas por causa do efeito de toxidade.\n",
    "\n",
    "* Plote o gráfico da função\n",
    "* Encontre o valor no qual o crescimento é maximo."
   ]
  },
  {
   "cell_type": "code",
   "execution_count": null,
   "id": "44f3f2f1-3d24-4bab-aacd-c7c2cde13bd6",
   "metadata": {},
   "outputs": [],
   "source": []
  },
  {
   "cell_type": "markdown",
   "id": "8c0b316b-570c-4878-b4bc-2cb38434c77b",
   "metadata": {},
   "source": [
    "## Exemplo\n",
    "\n",
    "Fonte: Oliveira, Samuel & Pereira, Felix. (2015). Um Modelo Matemático Simples para a Otimização de Bioprocessos em Batelada: Estudo de Caso da Produção de um Metabólito Primário. 10.5151/biochem-vsimbbtec-22070. \n",
    "\n",
    "Suponha que você tenha um processo em batelada operado ciclicamente, ou seja, as etapas de carregamento, inoculação, fermentação, descarregamento e limpeza são repetidas indefinidamente.\n",
    "Vamos buscar a maximização da produtividade do processo.\n",
    "\n",
    "A produtividade $Pr$ pode ser equacionada como:\n",
    "\n",
    "\\begin{equation}\n",
    "Pr = \\dfrac{P}{t + t_c}\n",
    "\\end{equation}\n",
    "\n",
    "onde $t_c$ o tempo morto (etapa improdutiva), $t$ o tempo de fermentação e $P$ é a concentração do produto.\n",
    "\n",
    "A concentração $P$ do produto é dada por\n",
    "\n",
    "\\begin{equation}\n",
    "P = Y_{P/S}(S_0 - S)\n",
    "\\end{equation}\n",
    "\n",
    "onde a concentração de nutriente é dado por:\n",
    "\n",
    "\\begin{equation}\n",
    "S = \\left[S_0^{(1-\\delta)} - k(1-\\delta)t \\right]^{1/(1-\\delta)}\n",
    "\\end{equation}\n",
    "\n",
    "Determine o tempo e o valor onde ocorre a máxima produtividade para os seguintes valores:\n",
    "\n",
    "* Tempo reacional: $t_c = 0,5$\n",
    "* Coeficiente de rendimento do produto: $Y_{P/S} = 0,31$\n",
    "* Concentração inicial: $S_0 = 111,5$\n",
    "* $k = 4,3652$\n",
    "* $\\delta = 0,59395$"
   ]
  },
  {
   "cell_type": "code",
   "execution_count": null,
   "id": "6f4a540b-d5cc-46b1-8ade-7711d28f1707",
   "metadata": {},
   "outputs": [],
   "source": []
  },
  {
   "cell_type": "markdown",
   "id": "b402909c-6b68-4fae-8738-da7c2dd9007d",
   "metadata": {},
   "source": [
    "## Otimização multidimensional - gradiente"
   ]
  },
  {
   "cell_type": "markdown",
   "id": "3293fc03-6e19-422a-994c-fedff114ef27",
   "metadata": {},
   "source": [
    "* Solução baseado na derivada multidimensional da função (**gradiente**).\n",
    "* Em cada iteração, o gradiente indica a direção com maior declividade, e caminha um passo nesta direção.\n",
    "* O comportamento observado é o de uma esfera descendo por um vale.\n",
    "\n",
    "Dado uma função $f = f(x_1, x_2, \\ldots, x_n)$, o gradiente dela é definido como:\n",
    "\n",
    "\\begin{equation}\n",
    "\\nabla f = \\begin{bmatrix}\n",
    "\\dfrac{\\partial f}{\\partial x_1} \\ldots \\dfrac{\\partial f}{\\partial x_n} \n",
    "\\end{bmatrix}\n",
    "\\end{equation}\n",
    "\n",
    "Algoritmo baseado na descida do gradiente:\n",
    "\n",
    "\\begin{equation}\n",
    "X^{i+1} = X^i - \\gamma \\nabla f(X^i)\n",
    "\\end{equation}\n",
    "\n",
    "Exemplo:\n",
    "\n",
    "Considere a função \n",
    "\n",
    "$\n",
    "f(x_1, x_2) = 2 + x_1 - x_2 + 2x_1^2 + 2x_1x_2 + x_2^2\n",
    "$\n",
    "\n",
    "cujo gradiente é dado por:\n",
    "\n",
    "$\n",
    "\\nabla(x_1, x_2) = \\begin{bmatrix}1 + 4x_1 + 2x_2 &,& -1 +2x_1 +2x_2 \\end{bmatrix}\n",
    "$"
   ]
  },
  {
   "cell_type": "markdown",
   "id": "ceb6fbee-2948-46a1-aa89-927d2b99a0e9",
   "metadata": {},
   "source": [
    "Vamos usar a função [scipy.optimize.minimize](https://docs.scipy.org/doc/scipy/reference/generated/scipy.optimize.minimize.html#scipy.optimize.minimize)"
   ]
  },
  {
   "cell_type": "code",
   "execution_count": 50,
   "id": "22b7fcf0-be09-450a-a15e-aa9d593e748b",
   "metadata": {},
   "outputs": [
    {
     "data": {
      "text/plain": [
       "  message: Optimization terminated successfully.\n",
       "  success: True\n",
       "   status: 0\n",
       "      fun: 0.75\n",
       "        x: [-1.000e+00  1.500e+00]\n",
       "      nit: 4\n",
       "      jac: [ 0.000e+00  0.000e+00]\n",
       " hess_inv: [[ 5.000e-01 -5.000e-01]\n",
       "            [-5.000e-01  1.000e+00]]\n",
       "     nfev: 6\n",
       "     njev: 6"
      ]
     },
     "execution_count": 50,
     "metadata": {},
     "output_type": "execute_result"
    }
   ],
   "source": [
    "import scipy.optimize as opt\n",
    "\n",
    "def f(X):\n",
    "    # 2 + x1 - x2 +2x1^2 + 2x1x2 + x2^2\n",
    "    x1 = X[0]\n",
    "    x2 = X[1]\n",
    "    return 2 + x1 - x2 + 2*x1**2 + 2*x1*x2 + x2**2\n",
    "    \n",
    "def gradiente(X):\n",
    "    # [1 + 4x1 +2x2 ; -1 + 2x1 + 2x2]\n",
    "    x1 = X[0]\n",
    "    x2 = X[1]\n",
    "    j11 = 1 + 4*x1 + 2*x2\n",
    "    j12 = -1 +2*x1 +2*x2\n",
    "    return [j11, j12]\n",
    "\n",
    "opt.minimize(f, x0=[0,0], jac=gradiente)"
   ]
  },
  {
   "cell_type": "markdown",
   "id": "b3bf61b3-f9ce-45c5-aa36-6305ae9aac07",
   "metadata": {},
   "source": [
    "## Sistemas de equações não-lineares\n",
    "\n",
    "Vamos resolver o sistema de equações **não-lineares**:\n",
    "\n",
    "$\n",
    "\\left\\{\n",
    "\\begin{eqnarray}\n",
    "x^2 + xy = 10 \\\\\n",
    "y + 3xy^2 = 57\n",
    "\\end{eqnarray}\n",
    "\\right.\n",
    "$\n",
    "\n",
    "Uma forma já conhecida é tratar o sistema como uma função bidimensional e transformar o problema em encontrar o zero da função, ou seja:\n",
    "\n",
    "$\n",
    "\\begin{aligned}\n",
    "f_1(x,y)& = x^2 + xy - 10 \\\\\n",
    "f_2(x,y)& = y + 3xy^2 - 57\n",
    "\\end{aligned}\n",
    "$"
   ]
  },
  {
   "cell_type": "markdown",
   "id": "bfae2cb7-d61f-4b62-a51e-796c832fc8f2",
   "metadata": {},
   "source": [
    "Em seguida, podemos utilizar o comando `root`:\n",
    "\n",
    "`scipy.optimize.root(fun, x0, args=(), method='hybr', jac=None, tol=None, callback=None, options=None)`\n",
    "\n",
    "Link: [scipy.optimize.root](https://docs.scipy.org/doc/scipy/reference/generated/scipy.optimize.root.html#scipy.optimize.root)"
   ]
  },
  {
   "cell_type": "code",
   "execution_count": 52,
   "id": "880ac3ef-f1f0-48e9-95f5-61a1556ad3e0",
   "metadata": {},
   "outputs": [
    {
     "data": {
      "text/plain": [
       " message: The solution converged.\n",
       " success: True\n",
       "  status: 1\n",
       "     fun: [-3.553e-15  7.105e-15]\n",
       "       x: [ 2.000e+00  3.000e+00]\n",
       "    nfev: 35\n",
       "    fjac: [[-2.630e-01 -9.648e-01]\n",
       "           [-9.648e-01  2.630e-01]]\n",
       "       r: [-2.695e+01 -3.569e+01  7.606e+00]\n",
       "     qtf: [ 3.317e-10 -1.224e-10]"
      ]
     },
     "execution_count": 52,
     "metadata": {},
     "output_type": "execute_result"
    }
   ],
   "source": [
    "import scipy.optimize as opt\n",
    "\n",
    "def A(X):\n",
    "    x = X[0]\n",
    "    y = X[1]\n",
    "    f0 = x**2 +x*y - 10\n",
    "    f1 = y + 3*x*y**2 - 57\n",
    "    return [f0, f1]\n",
    "\n",
    "opt.root(A, [0,0])"
   ]
  },
  {
   "cell_type": "code",
   "execution_count": null,
   "id": "6478695f-7dcf-4de0-a5be-5c63c059a9c3",
   "metadata": {},
   "outputs": [],
   "source": []
  },
  {
   "cell_type": "markdown",
   "id": "140d771d-b355-4904-9f6a-d9ebda1d5cff",
   "metadata": {},
   "source": [
    "# EDO: Crescimento exponencial\n",
    "\n",
    "Quando o crescimento populacional é proporcional a quantidade de indivíduos presente, ele pode ser modelado como:\n",
    "\n",
    "\\begin{equation}\n",
    "\\dfrac{dN}{dt} = kN\n",
    "\\end{equation}\n",
    "\n",
    "cuja solução é:\n",
    "\n",
    "\\begin{equation}\n",
    "N(t) = N_0 e^{kt}\n",
    "\\end{equation}\n"
   ]
  },
  {
   "cell_type": "code",
   "execution_count": 54,
   "id": "84dae002-36a0-418b-9844-2db35b73c97d",
   "metadata": {},
   "outputs": [
    {
     "data": {
      "text/plain": [
       "[<matplotlib.lines.Line2D at 0x1bd2a2952d0>]"
      ]
     },
     "execution_count": 54,
     "metadata": {},
     "output_type": "execute_result"
    },
    {
     "data": {
      "image/png": "[encoded data removed]",
      "text/plain": [
       "<Figure size 640x480 with 1 Axes>"
      ]
     },
     "metadata": {},
     "output_type": "display_data"
    },
    {
     "data": {
      "image/png": "[encoded data removed]",
      "text/plain": [
       "<Figure size 640x480 with 1 Axes>"
      ]
     },
     "metadata": {},
     "output_type": "display_data"
    }
   ],
   "source": [
    "import numpy as np\n",
    "import matplotlib.pyplot as plt\n",
    "from scipy.integrate import solve_ivp\n",
    "\n",
    "def crescimento_exponencial(t, N, k):\n",
    "    dNdt = k*N\n",
    "    return dNdt\n",
    "\n",
    "t = np.linspace(0,10,21)\n",
    "k = 0.5\n",
    "N0 = 1\n",
    "\n",
    "sol = solve_ivp( crescimento_exponencial, t_span=[0, 10],y0=[N0],t_eval=t,args=[k])\n",
    "#print(sol)\n",
    "plt.plot(sol.t, sol.y[0])\n",
    "\n",
    "resposta = N0*np.exp(k*sol.t)\n",
    "plt.plot(sol.t, resposta, 'or')\n",
    "plt.figure()\n",
    "plt.plot(resposta - sol.y[0])"
   ]
  },
  {
   "cell_type": "markdown",
   "id": "6fa16deb-7a2d-4790-ab8d-1ac24cc321a1",
   "metadata": {},
   "source": [
    "# Sistemas de EDOs - PVI\n",
    "\n",
    "Nesta seção vamos ver como resolver um sistema de equações diferenciais ordinárias onde são fornecidas as condições em um mesmo instante (PVI)."
   ]
  },
  {
   "cell_type": "markdown",
   "id": "872757c0-36f7-4a7d-8c22-4c6fe6a071aa",
   "metadata": {},
   "source": [
    "Suponha que tenhamos um sistema de equações diferenciais que desejamos resolver, do tipo:\n",
    "\n",
    "\\begin{equation} \\label{eq:sode}\n",
    "\\begin{array}{c}\n",
    "\\dfrac{dy_1}{dt} = f_1(t, y_1, y_2, \\ldots, y_n) \\\\\n",
    "\\dfrac{dy_2}{dt} = f_2(t, y_1, y_2, \\ldots, y_n) \\\\\n",
    "\\vdots \\\\\n",
    "\\dfrac{dy_n}{dt} = f_n(t, y_1, y_2, \\ldots, y_n) \n",
    "\\end{array}\n",
    "\\end{equation}"
   ]
  },
  {
   "cell_type": "markdown",
   "id": "af474525-5098-45ae-8ec2-6b8bf5ac8551",
   "metadata": {},
   "source": [
    "## Exemplo: Predador-presa\n",
    "\n",
    "\\begin{equation}\n",
    "\\dfrac{dx}{dt} = x(\\alpha - \\beta y)\n",
    "\\end{equation}\n",
    "\n",
    "\\begin{equation}\n",
    "\\dfrac{dy}{dt} = y(\\delta x - \\gamma)\n",
    "\\end{equation}"
   ]
  },
  {
   "cell_type": "code",
   "execution_count": 55,
   "id": "4a7458ff-6623-4f24-8562-f87069dba94b",
   "metadata": {},
   "outputs": [
    {
     "data": {
      "text/plain": [
       "[<matplotlib.lines.Line2D at 0x1bd2a2b4a30>]"
      ]
     },
     "execution_count": 55,
     "metadata": {},
     "output_type": "execute_result"
    },
    {
     "data": {
      "image/png": "[encoded data removed]",
      "text/plain": [
       "<Figure size 640x480 with 1 Axes>"
      ]
     },
     "metadata": {},
     "output_type": "display_data"
    },
    {
     "data": {
      "image/png": "[encoded data removed]",
      "text/plain": [
       "<Figure size 640x480 with 1 Axes>"
      ]
     },
     "metadata": {},
     "output_type": "display_data"
    }
   ],
   "source": [
    "# definindo a função de Lotka-Volterra (predador-presa)\n",
    "# dx/dt = x(a - by)\n",
    "# dy/dt = y(dx - c)\n",
    "def predadorpresa(t, Y):\n",
    "    a = 1.0\n",
    "    b = 0.1\n",
    "    c = 1.5\n",
    "    d = 0.075\n",
    "    x = Y[0]\n",
    "    y = Y[1]\n",
    "    dy_dt = [ x*(a - b*y) , y*(d*x - c) ]\n",
    "    return dy_dt\n",
    "\n",
    "import numpy as np\n",
    "import matplotlib.pyplot as plt\n",
    "from scipy.integrate import solve_ivp\n",
    "\n",
    "# definindo os instantes que serão utilizados no cálculo \n",
    "tinicial = 0\n",
    "tfinal = 20\n",
    "t = np.linspace(tinicial , tfinal, 200)\n",
    "\n",
    "# definindo a condição inicial (PVI)\n",
    "y0 = [10 , 5]\n",
    "\n",
    "# chamando o método numérico que calcula a solução da EDO\n",
    "sol = solve_ivp( predadorpresa, y0 = y0, t_span = [tinicial, tfinal],  t_eval = t)\n",
    "presa = sol.y[0]\n",
    "predador = sol.y[1]\n",
    "\n",
    "# exibindo o gráfico da resposta\n",
    "plt.plot(t, presa, t, predador)\n",
    "plt.legend(['Coelhos', 'Raposas'])\n",
    "\n",
    "plt.figure()\n",
    "plt.plot(predador, presa, lw=1)"
   ]
  }
 ],
 "metadata": {
  "kernelspec": {
   "display_name": "Python 3 (ipykernel)",
   "language": "python",
   "name": "python3"
  },
  "language_info": {
   "codemirror_mode": {
    "name": "ipython",
    "version": 3
   },
   "file_extension": ".py",
   "mimetype": "text/x-python",
   "name": "python",
   "nbconvert_exporter": "python",
   "pygments_lexer": "ipython3",
   "version": "3.10.10"
  },
  "toc-autonumbering": true,
  "toc-showcode": false,
  "toc-showmarkdowntxt": false,
  "toc-showtags": false
 },
 "nbformat": 4,
 "nbformat_minor": 5
}
