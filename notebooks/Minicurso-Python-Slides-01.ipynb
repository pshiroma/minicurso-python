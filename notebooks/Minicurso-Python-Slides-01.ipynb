{
 "cells": [
  {
   "cell_type": "markdown",
   "id": "d19e5585-e25c-4fc1-859d-28143e655876",
   "metadata": {
    "slideshow": {
     "slide_type": "slide"
    },
    "tags": []
   },
   "source": [
    "# Executando o notebook"
   ]
  },
  {
   "cell_type": "markdown",
   "id": "b1daf590-c0a9-4fe8-88f2-0749d8873c36",
   "metadata": {
    "slideshow": {
     "slide_type": "fragment"
    },
    "tags": []
   },
   "source": [
    "Usando o Google colab:\n",
    "\n",
    "* Acesse o site: https://colab.research.google.com/\n",
    "* Escolha a opção GitHub e entre com o repositório:\n",
    "  * https://github.com/pshiroma/minicurso-python\n",
    "  * Escolha o arquivo Minicurso-Python-Handout-01.ipynb\n",
    "  \n",
    "Usando o site Jupyter:\n",
    "\n",
    "* Baixe o notebook disponível em:\n",
    "  * https://github.com/pshiroma/minicurso-python/notebooks\n",
    "  * Abra a pasta *notebooks* e baixe o arquivo Minicurso-Python-Handout-01.ipynb\n",
    "* Acesse o site: https://jupyter.org/try-jupyter/lab/\n",
    "* Faça o upload do notebook baixado"
   ]
  },
  {
   "cell_type": "markdown",
   "id": "d57ce83a-c5b1-433f-8299-cac8c444f118",
   "metadata": {
    "slideshow": {
     "slide_type": "slide"
    },
    "tags": []
   },
   "source": [
    "# O Python"
   ]
  },
  {
   "cell_type": "markdown",
   "id": "eb9232e9-0c9f-43f5-8a07-da47b5c49de3",
   "metadata": {
    "slideshow": {
     "slide_type": "fragment"
    },
    "tags": []
   },
   "source": [
    "* Simplicidade e legibilidade\n",
    "* Sintaxe limpa e concisa\n",
    "* Biblioteca padrão abrangente\n",
    "* Comunidade de desenvolvedores\n",
    "* Linguagem interpretada"
   ]
  },
  {
   "cell_type": "markdown",
   "id": "83a784c6-cabd-4ad8-a6c8-07cc95ef4751",
   "metadata": {
    "slideshow": {
     "slide_type": "slide"
    },
    "tags": []
   },
   "source": [
    "# Python - Uma linguagem interpretada"
   ]
  },
  {
   "cell_type": "markdown",
   "id": "c377db94-af86-4020-8108-1ac5565ff15b",
   "metadata": {
    "slideshow": {
     "slide_type": "fragment"
    },
    "tags": []
   },
   "source": [
    "* Código-fonte $\\rightarrow$ Interpretador $\\rightarrow$ Execução\n",
    "* **Desenvolvimento** mais rápido\n",
    "* **Execução** mais demorada\n",
    "* Código-fonte *não executa* sem o interpretador\n"
   ]
  },
  {
   "cell_type": "markdown",
   "id": "10625a6f-68d1-42f2-9142-d710a1b0f4e7",
   "metadata": {
    "slideshow": {
     "slide_type": "slide"
    },
    "tags": []
   },
   "source": [
    "# IDE - Ambiente de desenvolvimento integrado"
   ]
  },
  {
   "cell_type": "markdown",
   "id": "10558414-a8d0-4d39-b111-efe791aa0de1",
   "metadata": {
    "slideshow": {
     "slide_type": "fragment"
    },
    "tags": []
   },
   "source": [
    "* IDE: Editor + Interpretador + Depurador + Outras ferramentas\n",
    "* Software que facilita o desenvolvimento de programas\n",
    "* Editor: Realce de sintaxe, auto completar, código inteligente\n",
    "* Gerenciamento de projetos\n",
    "* PyCharm, VS Code, Spyder, <span style='color:red'>**Jupyter**</span>"
   ]
  },
  {
   "cell_type": "markdown",
   "id": "6a945b07-06f8-4357-b1b2-a93ff790ef60",
   "metadata": {
    "slideshow": {
     "slide_type": "slide"
    },
    "tags": []
   },
   "source": [
    "# O Jupyter"
   ]
  },
  {
   "cell_type": "markdown",
   "id": "d37ba7c2-9b51-4c3b-9b7f-9c7086ae9a18",
   "metadata": {
    "slideshow": {
     "slide_type": "fragment"
    },
    "tags": []
   },
   "source": [
    "* Caderno virtual: \n",
    "  * Equações matemáticas: $\\dfrac{\\partial u}{\\partial t}(x,t) = \\mu\\dfrac{\\partial^2 u}{\\partial x^2}(x,t)$\n",
    "  * Textos\n",
    "  * Imagens: \n",
    "  <img src=\"data:image/png;base64,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\" width=\"30\"/>\n",
    "  * Tabelas: \n",
    "| País   | População (milhões hab) | \n",
    "| --- | --- |\n",
    "| China | 1411 |\n",
    "| Índia | 1380 |\n",
    "| Estados Unidos | 331 |\n",
    "  * Python: Código + Saída (texto ou gráfico)"
   ]
  },
  {
   "cell_type": "markdown",
   "id": "f38b3230-7122-4c86-be29-389c1b18dd6f",
   "metadata": {
    "slideshow": {
     "slide_type": "slide"
    },
    "tags": []
   },
   "source": [
    "# Jupyter - células"
   ]
  },
  {
   "cell_type": "markdown",
   "id": "a2f8f922-c3ca-4d31-805b-8369b73b6f87",
   "metadata": {
    "slideshow": {
     "slide_type": "fragment"
    },
    "tags": []
   },
   "source": [
    "* Células de texto:\n",
    "  * Contexto\n",
    "  * Fundamentação\n",
    "  * Explicação\n",
    "  * Desenvolvimento teórico\n",
    "* Células de código:\n",
    "  * Implementação da solução\n",
    "  * Programa dividido em várias células\n",
    "  * Execução **gradual**"
   ]
  },
  {
   "cell_type": "markdown",
   "id": "085773be-4741-470f-a05b-b434f41f5233",
   "metadata": {
    "slideshow": {
     "slide_type": "slide"
    },
    "tags": []
   },
   "source": [
    "# Rodando o Jupyter"
   ]
  },
  {
   "cell_type": "markdown",
   "id": "4a56f866-dfd5-4b91-9d3f-fc00be68f0e3",
   "metadata": {
    "slideshow": {
     "slide_type": "fragment"
    },
    "tags": []
   },
   "source": [
    "* Localmente:\n",
    "  * Preferencialmente usando o [Anaconda](https://anaconda.org/)\n",
    "* Na nuvem:\n",
    "  * [Google colab](https://colab.research.google.com/)\n",
    "  * [Anaconda cloud](https://www.anaconda.com/code-in-the-cloud)\n",
    "  * [Mybinder](https://mybinder.org/)\n",
    "  * [CoCalc](https://cocalc.com/)\n",
    "  * [Jupyter - site oficial](https://jupyter.org/try)\n",
    "  * etc\n"
   ]
  },
  {
   "cell_type": "markdown",
   "id": "05c8099a-85d1-4d7b-87d3-5e983e357820",
   "metadata": {
    "slideshow": {
     "slide_type": "slide"
    },
    "tags": []
   },
   "source": [
    "# Interface - comandos principais"
   ]
  },
  {
   "cell_type": "markdown",
   "id": "4759aba2-b8c2-42f1-ab91-16405f448542",
   "metadata": {
    "slideshow": {
     "slide_type": "fragment"
    },
    "tags": []
   },
   "source": [
    "A seguir uma breve descrição dos principais comandos usados para trabalhar com células dentro do jupyter:\n",
    "\n",
    "| Função | Tecla |\n",
    "| --- | --- |\n",
    "| Navegar entre as células | Setas $\\uparrow$ ou $\\downarrow$ do teclado |\n",
    "| Editar uma célula | Tecla __Enter__ |\n",
    "| Sair do modo de edição | Tecla __Esc__ |\n",
    "| Executar uma célula de código | __Shift-Enter__ ou __Ctrl-Enter__ |\n",
    "| Inserir uma célula abaixo | Tecla __b__ |\n",
    "| Inserir uma célula acima | Tecla __a__ |\n",
    "| Cortar uma célula | Tecla __x__ |\n",
    "| Colar uma célula | Tecla __v__ |\n",
    "| Outras funções | Consulte as teclas de atalho no __Help__ |"
   ]
  },
  {
   "cell_type": "markdown",
   "id": "d84f7b35-a5a7-4c51-ba2a-8009e6dd015b",
   "metadata": {
    "slideshow": {
     "slide_type": "slide"
    },
    "tags": []
   },
   "source": [
    "# Exemplo de utilização de um notebook (Fórmula de Bhaskara)"
   ]
  },
  {
   "cell_type": "markdown",
   "id": "8b9cea7e-3c2d-43b0-bb43-8e2f45e28e08",
   "metadata": {
    "slideshow": {
     "slide_type": "fragment"
    },
    "tags": []
   },
   "source": [
    "A fórmula de Bhaskara permite encontrar as raízes de um polinômio de 2º grau do tipo:\n",
    "\n",
    "$ax^2 + bx + c$\n",
    "\n",
    "A fórmula para encontrar as raízes é:\n",
    "\n",
    "$x_1 = \\dfrac{-b + \\sqrt{\\Delta}}{2a}$\n",
    "\n",
    "e\n",
    "\n",
    "$x_2 = \\dfrac{-b - \\sqrt{\\Delta}}{2a}$\n",
    "\n",
    "onde $\\Delta = b^2 - 4ac$"
   ]
  },
  {
   "cell_type": "markdown",
   "id": "c13cb6ce-7676-44b6-b207-3a3cf2efb491",
   "metadata": {
    "slideshow": {
     "slide_type": "fragment"
    },
    "tags": []
   },
   "source": [
    "Exemplo: Vamos calcular as raízes do polinômio \n",
    "\n",
    "$2x^2 + x - 1$\n",
    "\n",
    "* a = 2\n",
    "* b = 1\n",
    "* c = -1"
   ]
  },
  {
   "cell_type": "code",
   "execution_count": 1,
   "id": "4712d9c9",
   "metadata": {
    "slideshow": {
     "slide_type": "fragment"
    },
    "tags": []
   },
   "outputs": [
    {
     "name": "stdout",
     "output_type": "stream",
     "text": [
      "A primeira raiz é: 0.5\n",
      "A segunda raiz é: -1.0\n"
     ]
    }
   ],
   "source": [
    "from math import sqrt\n",
    "\n",
    "a = 2\n",
    "b = 1\n",
    "c = -1\n",
    "delta = b**2 - 4*a*c\n",
    "x1 = (-b + sqrt(delta))/(2*a)\n",
    "x2 = (-b - sqrt(delta))/(2*a)\n",
    "print('A primeira raiz é:', x1)\n",
    "print('A segunda raiz é:', x2)"
   ]
  }
 ],
 "metadata": {
  "kernelspec": {
   "display_name": "Python 3 (ipykernel)",
   "language": "python",
   "name": "python3"
  },
  "language_info": {
   "codemirror_mode": {
    "name": "ipython",
    "version": 3
   },
   "file_extension": ".py",
   "mimetype": "text/x-python",
   "name": "python",
   "nbconvert_exporter": "python",
   "pygments_lexer": "ipython3",
   "version": "3.10.10"
  },
  "toc-autonumbering": false,
  "toc-showcode": false,
  "toc-showmarkdowntxt": false,
  "toc-showtags": false
 },
 "nbformat": 4,
 "nbformat_minor": 5
}
