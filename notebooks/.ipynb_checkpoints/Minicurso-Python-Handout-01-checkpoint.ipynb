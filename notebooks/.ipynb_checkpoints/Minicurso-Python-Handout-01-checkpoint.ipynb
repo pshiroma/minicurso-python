{
 "cells": [
  {
   "cell_type": "markdown",
   "id": "858310ed-c68b-46cb-b4f2-21014f258d62",
   "metadata": {
    "jp-MarkdownHeadingCollapsed": true,
    "tags": []
   },
   "source": [
    "# Executando este notebook"
   ]
  },
  {
   "cell_type": "markdown",
   "id": "3379b0b4-7eb7-4faa-aeb0-1334a176802e",
   "metadata": {},
   "source": [
    "Usando o google colab:\n",
    "\n",
    "* Acesse o site: https://colab.research.google.com/\n",
    "* Escolha a opção GitHub e entre com o repositório:\n",
    "  * https://github.com/pshiroma/minicurso-python\n",
    "  * Escolha o arquivo Minicurso-Python-Handout-01.ipynb\n",
    "  \n",
    "Usando o site Jupyter:\n",
    "\n",
    "* Baixe o notebook disponível em:\n",
    "  * https://github.com/pshiroma/minicurso-python\n",
    "  * Escolha o arquivo Minicurso-Python-Handout-01.ipynb\n",
    "* Acesse o site: https://jupyter.org/try-jupyter/lab/\n",
    "* Faça o upload do arquivo"
   ]
  },
  {
   "cell_type": "markdown",
   "id": "4406023d-ab45-4198-8b4c-60767479ee0c",
   "metadata": {
    "jp-MarkdownHeadingCollapsed": true,
    "tags": [],
    "toc-hr-collapsed": true
   },
   "source": [
    "# O Python"
   ]
  },
  {
   "cell_type": "markdown",
   "id": "9f1e10a9-b0c8-4228-bb55-12d39463d69a",
   "metadata": {},
   "source": [
    "Python é uma linguagem de programação de alto nível popular usada em uma ampla gama de tarefas, incluindo desenvolvimento web, análise de dados, inteligência artificial, aprendizado de máquina e computação científica. \n",
    "\n",
    "Foi lançado em 1991 e se tornou uma das linguagens de programação mais usadas no mundo.\n",
    "\n",
    "Uma das principais razões para a popularidade do Python é sua **simplicidade e legibilidade**. Ele usa uma **sintaxe limpa e concisa** que a torna mais fácil para iniciantes aprender a desenvolver códigos. O Python também possui uma **grande biblioteca padrão** que fornece uma ampla variedade de funções e módulos pré-construídos para tarefas comuns.\n",
    "\n",
    "Python é uma **linguagem interpretada**, o que significa que o código é executado diretamente sem a necessidade de compilação. Isso a torna uma linguagem adequada para prototipagem e testes rápidos. \n",
    "\n",
    "Além disso, ela possui uma forte comunidade de desenvolvedores e usuários, o que levou ao **desenvolvimento de muitas bibliotecas** para tarefas específicas. Algumas bibliotecas Python populares incluem NumPy e SciPy para computação científica, Pandas para análise de dados, matplotlib, seaborn e plotly para visualização de dados."
   ]
  },
  {
   "cell_type": "markdown",
   "id": "1cfb838c-bcfe-4f78-8999-9ef830b9433f",
   "metadata": {},
   "source": [
    "## Python - Uma linguagem interpretada"
   ]
  },
  {
   "cell_type": "markdown",
   "id": "181e9d14-8a71-47aa-b2c8-60c25251ca0c",
   "metadata": {},
   "source": [
    "Uma linguagem interpretada é uma linguagem de programação onde o **programa é executado por um interpretador**. Em outras palavras, o código é lido e executado linha por linha.\n",
    "\n",
    "Em uma linguagem interpretada, **o interpretador** lê o código-fonte, verifica se há erros de sintaxe e o executa diretamente. Como resultado, o **ciclo de desenvolvimento** de uma linguagem interpretada geralmente **é mais rápido**, pois os desenvolvedores podem ver imediatamente os resultados de seu código enquanto o escrevem.\n",
    "\n",
    "No entanto, **o programa final** pode executar **mais lentamente** do que em uma linguagem compilada, porque o interpretador precisa traduzir cada linha de código em código de máquina toda vez que é executado. \n",
    "\n",
    "As **linguagens compiladas**, por outro lado, traduzem o código-fonte em código de máquina no momento da compilação, criando um arquivo executável.\n",
    "Este arquivo pode ser executado diretamente pelo computador e tende a executar mais rápidamente.\n",
    "\n",
    "Exemplos de linguagens interpretadas populares incluem Python, Ruby, JavaScript, Perl e Matlab."
   ]
  },
  {
   "cell_type": "markdown",
   "id": "6c1598ad-2fc3-4744-97f7-7a4fdd2c2687",
   "metadata": {},
   "source": [
    "## IDE (Ambiente de desenvolvimento integrado)"
   ]
  },
  {
   "cell_type": "markdown",
   "id": "a3f4c3fe-6943-44fa-a56f-512d6ed4e214",
   "metadata": {},
   "source": [
    "Um IDE, ou Ambiente de Desenvolvimento Integrado, é um aplicativo de software que fornece ferramentas e recursos para auxiliar os programadores a escrever, testar e depurar código.\n",
    "\n",
    "Um IDE geralmente inclui um **editor** de código-fonte, um **compilador ou interpretador**, um **depurador** e **outras ferramentas** para gerenciar arquivos de código e projetos. O editor fornece realce de sintaxe e outros recursos para ajudar os desenvolvedores a escrever e editar o código com mais eficiência, enquanto o compilador ou interpretador traduz o código em instruções legíveis por máquina. O depurador permite que os desenvolvedores percorram o código e identifiquem e corrijam erros.\n",
    "\n",
    "Os IDEs também podem fornecer outros recursos úteis, como integração de controle de versão e sugestões de conclusão de código. Alguns IDEs populares incluem Microsoft Visual Studio, Eclipse, Spyder, PyCharm e **Jupyter**."
   ]
  },
  {
   "cell_type": "markdown",
   "id": "386ef7b0",
   "metadata": {
    "slideshow": {
     "slide_type": "slide"
    },
    "tags": [],
    "toc-hr-collapsed": true
   },
   "source": [
    "# O ambiente Jupyter "
   ]
  },
  {
   "cell_type": "markdown",
   "id": "e0484a9c",
   "metadata": {
    "slideshow": {
     "slide_type": "slide"
    }
   },
   "source": [
    "O jupyter é uma aplicação web acessada por meio do navegador de Internet, ou seja, você pode utilizar o Google Chrome, o Firefox, o Internet Explorer ou outro navegador qualquer para acessá-lo.\n",
    "\n",
    "Ao contrário de outras IDE´s de programação, o Jupyter se parece com um **caderno**, onde você pode escrever *textos*, *anotações*, inserir *equações matemáticas*, *imagens*, *vídeos*, *tabelas*, organizando-o em tópicos, como se fosse um **caderno virtual**.\n",
    "\n",
    "Por exemplo:\n",
    "\n",
    "* Equação utilizando o $\\LaTeX$:\n",
    "  $\\dfrac{\\partial u}{\\partial t}(x,t) = \\mu\\dfrac{\\partial^2 u}{\\partial x^2}(x,t)$,\n",
    "* inserir figuras como: ![lena](https://drive.google.com/uc?export=view&id=1YmoPbBrApDBJ3poW9gNCurJmQYhogCoh)\n",
    "* inserir link para vídeos: https://www.youtube.com/watch?v=wswYxcNoi00\n",
    "* escrever tabelas: \n",
    "| País   | População (milhões hab) | \n",
    "| --- | --- |\n",
    "| China | 1411 |\n",
    "| Índia | 1380 |\n",
    "| Estados Unidos | 331 | \n",
    "\n",
    "Além disso, é possível **escrever e executar códigos-fonte** escritos em linguagens como Python, R, Julia, mantendo armazenados as suas **saídas e resultados**, sejam **textos** ou **gráficos**."
   ]
  },
  {
   "cell_type": "markdown",
   "id": "a2eac2c9-8b9c-4faa-a0f8-9fc196864091",
   "metadata": {},
   "source": [
    "## Jupyter - células"
   ]
  },
  {
   "cell_type": "markdown",
   "id": "57374643-0c15-49b7-863b-90ee78ad919a",
   "metadata": {},
   "source": [
    "Assim, um notebook é dividido em uma ou mais células, e cada célula pode ser do tipo:\n",
    "\n",
    "* Markdown: Usado para escrever anotações, equações matemáticas, inserir figuras ou links para vídeos.\n",
    "As células de texto permitem explicar o contexto, objetivo, fundamentação e desenvolvimento dos algoritmos.\n",
    "\n",
    "* Code: Usado para escrever e executar códigos em uma linguagem de programação.\n",
    "Para identificar o tipo de célula, basta observar o lado esquerdo da célula:\n",
    "Caso apareça o texto __[1]__ é sinal de que a célula é do tipo _Code_.\n",
    "O número [1] indica a ordem em que ela foi executada no notebook.\n",
    "As células de códigos permitem implementar os algoritmos.\n",
    "É possível dividir o código em várias células, permitindo, desta forma, a execução **gradual** de um programa.\n",
    "\n",
    "Assim, o ambiente **Jupyter** provê um ambiente de programação intuitivo, fácil de dominar, dinâmico e ideal para desenvolver e documentar soluções."
   ]
  },
  {
   "cell_type": "markdown",
   "id": "768ce789",
   "metadata": {
    "slideshow": {
     "slide_type": "fragment"
    }
   },
   "source": [
    "## Rodando o Jupyter"
   ]
  },
  {
   "cell_type": "markdown",
   "id": "345e0e84",
   "metadata": {
    "slideshow": {
     "slide_type": "fragment"
    }
   },
   "source": [
    "O jupyter pode ser executado localmente ou na <mark title=\"Exemplos de servidores na nuvem: Jupyter-lab, google colab, mybinder\">nuvem</mark>, assim você pode acessar o jupyter a partir de qualquer computador conectado a Internet, independente do tipo de sistema operacional ou hardware utilizado.\n",
    "\n",
    "Existem diversas formas de trabalhar com o ambiente jupyter:\n",
    "\n",
    "* Localmente, preferencialmente usando o [Anaconda](https://anaconda.org/)\n",
    "* Na nuvem:\n",
    "  * [Google colab](https://colab.research.google.com/)\n",
    "  * [Anaconda cloud](https://www.anaconda.com/code-in-the-cloud)\n",
    "  * [Mybinder](https://mybinder.org/)\n",
    "  * [CoCalc](https://cocalc.com/)\n",
    "  * [Jupyter - site oficial](https://jupyter.org/try)\n",
    "  * etc\n"
   ]
  },
  {
   "cell_type": "markdown",
   "id": "2c875d0d-1f0c-4144-a03c-45b340f16562",
   "metadata": {},
   "source": [
    "## Rodando localmente (Anaconda)"
   ]
  },
  {
   "cell_type": "markdown",
   "id": "30887fce-a93a-4d0a-8c19-e0db5b95eb22",
   "metadata": {},
   "source": [
    "A forma mais prática de instalar o python é utilizando o instalador Anaconda (https://anaconda.org/), embora existam outros instaladores.\n",
    "\n",
    "A grande vantagem é que nele já vem instalado as principais bibliotecas, além de contar com uma interface gráfica amigável.\n",
    "\n",
    "Para iniciar o programa, você pode iniciar pelo `Anaconda navigator` ou pelo `Anaconda Powershell`\n",
    "\n",
    "<img src=\"https://drive.google.com/uc?export=view&id=1BhgmHFOHElQvyOdZJgsH26euHGPK6Ela\" width=\"500\">\n",
    "\n",
    "O Anaconda vem com um ambiente (Environment) padrão chamado `base (root)`.\n",
    "Não há problema em desenvolver utilizando este ambiente mas, caso você cria muitos projetos, é [recomendado](https://pythonacademy.com.br/blog/python-e-virtualenv-como-programar-em-ambientes-virtuais) criar ambientes próprios para cada projeto.\n",
    "\n",
    "O próximo passo é instalar as bibliotecas que serão utilizadas no ambiente que será utilizado.\n",
    "\n",
    "Serão utilizados as seguintes bibliotecas:\n",
    "\n",
    "* jupyter\n",
    "* numpy\n",
    "* scipy\n",
    "* matplotlib\n",
    "* ipympl\n",
    "* jupyter_latex_envs\n",
    "\n",
    "Caso algum deles não esteja instalado, basta selecioná-lo e pedir para instalar, por exemplo, na aba Environment, digite o nome de uma biblioteca no campo de busca e veja se ela está instalada:\n",
    "\n",
    "<img src=\"https://ufsj.edu.br/portal2-repositorio/File/prof_shiroma/anaconda8.png\" width=\"1000\">\n",
    "\n",
    "Caso não esteja, marque-a e peça para instalar.\n",
    "\n",
    "Após selecionar as bibliotecas que deseja instalar, clique no botão `Apply`, verifique os pacotes que serão instalados e confirme.\n",
    "\n",
    "Por último, atualize as informações e clique no botão `Update index...`\n",
    "\n",
    "Para iniciar o Jupyter, selecione a opção para lançar o \"Jupyter Lab\" ou \"Jupyter Notebook\":\n",
    "\n",
    "<img src=\"https://ufsj.edu.br/portal2-repositorio/File/prof_shiroma/anaconda_navigator.png\" width=\"1000\">\n"
   ]
  },
  {
   "cell_type": "markdown",
   "id": "4a186b52",
   "metadata": {
    "heading_collapsed": true,
    "slideshow": {
     "slide_type": "fragment"
    }
   },
   "source": [
    "## Comandos principais \n",
    "\n",
    "A seguir uma breve descrição dos principais comandos usados para trabalhar com células dentro do jupyter:\n",
    "\n",
    "| Função | Tecla |\n",
    "| --- | --- |\n",
    "| Navegar entre as células | Setas $\\uparrow$ ou $\\downarrow$ do teclado |\n",
    "| Editar uma célula | Tecla __Enter__ |\n",
    "| Sair do modo de edição | Tecla __Esc__ |\n",
    "| Executar uma célula de código | __Shift-Enter__ ou __Ctrl-Enter__ |\n",
    "| Inserir uma célula abaixo | Tecla __b__ |\n",
    "| Inserir uma célula acima | Tecla __a__ |\n",
    "| Cortar uma célula | Tecla __x__ |\n",
    "| Colar uma célula | Tecla __v__ |\n",
    "| Outras funções | Consulte as teclas de atalho no __Help__ |"
   ]
  },
  {
   "cell_type": "markdown",
   "id": "1ed23c5d",
   "metadata": {
    "jp-MarkdownHeadingCollapsed": true,
    "slideshow": {
     "slide_type": "fragment"
    },
    "tags": []
   },
   "source": [
    "# Exemplo de utilização de um notebook (Fórmula de Bhaskara)"
   ]
  },
  {
   "cell_type": "markdown",
   "id": "9d391f2d",
   "metadata": {},
   "source": [
    "A fórmula de Bhaskara permite encontrar as raízes de um polinômio de 2º grau do tipo:\n",
    "\n",
    "$ax^2 + bx + c$\n",
    "\n",
    "A fórmula para encontrar as raízes é:\n",
    "\n",
    "$x_1 = \\dfrac{-b + \\sqrt{\\Delta}}{2a}$\n",
    "\n",
    "e\n",
    "\n",
    "$x_2 = \\dfrac{-b - \\sqrt{\\Delta}}{2a}$\n",
    "\n",
    "onde $\\Delta = b^2 - 4ac$"
   ]
  },
  {
   "cell_type": "markdown",
   "id": "66d9cf0d",
   "metadata": {},
   "source": [
    "Exemplo: Vamos calcular as raízes do polinômio \n",
    "\n",
    "$2x^2 + x - 1$\n",
    "\n",
    "* a = 2\n",
    "* b = 1\n",
    "* c = -1"
   ]
  },
  {
   "cell_type": "code",
   "execution_count": 1,
   "id": "4712d9c9",
   "metadata": {},
   "outputs": [
    {
     "name": "stdout",
     "output_type": "stream",
     "text": [
      "A primeira raiz é: 0.5\n",
      "A segunda raiz é: -1.0\n"
     ]
    }
   ],
   "source": [
    "from math import sqrt\n",
    "\n",
    "a = 2\n",
    "b = 1\n",
    "c = -1\n",
    "delta = b**2 - 4*a*c\n",
    "x1 = (-b + sqrt(delta))/(2*a)\n",
    "x2 = (-b - sqrt(delta))/(2*a)\n",
    "print('A primeira raiz é:', x1)\n",
    "print('A segunda raiz é:', x2)"
   ]
  },
  {
   "cell_type": "markdown",
   "id": "4782d33f",
   "metadata": {
    "slideshow": {
     "slide_type": "fragment"
    },
    "tags": [],
    "toc-hr-collapsed": true
   },
   "source": [
    "# Células Markdown"
   ]
  },
  {
   "cell_type": "markdown",
   "id": "793c2ea7",
   "metadata": {
    "slideshow": {
     "slide_type": "fragment"
    }
   },
   "source": [
    "Markdown é uma sintaxe usada para produzir textos utilizando apenas os caracteres disponíveis no teclado, facilitando a padronizar e formatação de textos na web.\n",
    "Os textos utilizam caracteres não-alfabéticos como `# \\ * ! [ ] ( )` como comandos para a configuração de títulos, listas, itálico, negrito, inserção de imagens, dentre outros.\n",
    "\n",
    "Fontes:\n",
    "\n",
    "https://jupyter.brynmawr.edu/services/public/dblank/Jupyter%20Notebook%20Users%20Manual.ipynb\n",
    "\n",
    "https://jupyter.org/\n",
    "\n",
    "https://letscode-academy.com/blog/introducao-ao-jupyter-notebook/\n",
    "\n",
    "https://jupyter-notebook.readthedocs.io/en/stable/examples/Notebook/Working%20With%20Markdown%20Cells.html\n",
    "\n",
    "https://medium.com/analytics-vidhya/the-ultimate-markdown-guide-for-jupyter-notebook-d5e5abf728fd\n",
    "\n",
    "https://acervolima.com/celula-markdown-no-caderno-jupyter/\n",
    "\n",
    "https://docs.pipz.com/central-de-ajuda/learning-center/guia-basico-de-markdown#open\n",
    "\n",
    "https://experienceleague.adobe.com/docs/contributor/contributor-guide/writing-essentials/markdown.html?lang=pt-BR"
   ]
  },
  {
   "cell_type": "markdown",
   "id": "27eee1b5",
   "metadata": {
    "slideshow": {
     "slide_type": "fragment"
    },
    "tags": [],
    "toc-hr-collapsed": true
   },
   "source": [
    "## Cabeçalhos\n",
    "\n",
    "<div class=\"alert alert-warning\">SINTAXE:</div>\n",
    "\n",
    "Para criar um cabeçalho, use uma ou mais marcas de hash (#) no início do título:\n",
    "\n",
    "```\n",
    "# Cabeçalho 1\n",
    " \n",
    "## Cabeçalho 2\n",
    " \n",
    "### Cabeçalho 3\n",
    "```\n",
    "\n",
    "<div class=\"alert alert-success\">RESULTADO:</div>\n",
    "\n",
    "# Cabeçalho 1\n",
    "\n",
    "## Cabeçalho 2\n",
    "\n",
    "### Cabeçalho 3\n"
   ]
  },
  {
   "cell_type": "markdown",
   "id": "2df04745-a73f-4270-801c-b08352025001",
   "metadata": {
    "jp-MarkdownHeadingCollapsed": true,
    "tags": []
   },
   "source": [
    "## Listas:"
   ]
  },
  {
   "cell_type": "markdown",
   "id": "a5ecf108",
   "metadata": {
    "jp-MarkdownHeadingCollapsed": true,
    "slideshow": {
     "slide_type": "fragment"
    },
    "tags": []
   },
   "source": [
    "<div class=\"alert alert-warning\">SINTAXE:</div>\n",
    "\n",
    "Para listas não ordenadas, utilize um asterisco * na frente to item:\n",
    "\n",
    "```\n",
    "* Item 1\n",
    "* Item 2\n",
    "* Item 3\n",
    "```\n",
    "\n",
    "<div class=\"alert alert-success\">RESULTADO:</div>\n",
    "\n",
    "* Item 1\n",
    "* Item 2\n",
    "* Item 3\n",
    "\n",
    "<div class=\"alert alert-warning\">SINTAXE:</div>\n",
    "\n",
    "Para listas ordenadas, utilize o número do item seguido de ponto . :\n",
    "\n",
    "```\n",
    "1. Item 1\n",
    "1. Item 2\n",
    "1. Item 3\n",
    "```\n",
    "\n",
    "<div class=\"alert alert-success\">RESULTADO:</div>\n",
    "\n",
    "1. Item 1\n",
    "1. Item 2\n",
    "1. Item 3\n",
    "\n",
    "<div class=\"alert alert-warning\">SINTAXE:</div>\n",
    "\n",
    "Listas com níveis são criadas usando a indentação (tab):\n",
    "\n",
    "```\n",
    "1. Lista principal\n",
    "    1. Sub-lista\n",
    "    1. Sub-lista \n",
    "        1. Sub-sub-lista\n",
    "        1. Sub-sub-lista \n",
    "1. Lista principal\n",
    "```\n",
    "\n",
    "<div class=\"alert alert-success\">RESULTADO:</div>\n",
    "\n",
    "1. Lista principal\n",
    "    1. Sub-lista\n",
    "    1. Sub-lista \n",
    "        1. Sub-sub-lista\n",
    "        1. Sub-sub-lista \n",
    "1. Lista principal"
   ]
  },
  {
   "cell_type": "markdown",
   "id": "8d63f56e-260e-45bc-b741-e2890665f1b1",
   "metadata": {
    "jp-MarkdownHeadingCollapsed": true,
    "tags": []
   },
   "source": [
    "## Ênfase"
   ]
  },
  {
   "cell_type": "markdown",
   "id": "cd029025",
   "metadata": {
    "slideshow": {
     "slide_type": "fragment"
    }
   },
   "source": [
    "<div class=\"alert alert-warning\">SINTAXE:</div>\n",
    "\n",
    "Para formatar o texto como negrito, coloque-o entre dois asteriscos ou dois traços-baixos:\n",
    "\n",
    "```\n",
    "**texto em negrito usando 2 asteriscos**\n",
    "\n",
    "__texto em negrito usando 2 traços baixos__\n",
    "```\n",
    "\n",
    "<div class=\"alert alert-success\">RESULTADO:</div>\n",
    "\n",
    "**texto em negrito usando 2 asteriscos**\n",
    "\n",
    "__texto em negrito usando 2 traços baixos__\n",
    "\n",
    "<div class=\"alert alert-warning\">SINTAXE:</div>\n",
    "\n",
    "Para formatar o texto como itálico, coloque-o entre um único asterisco ou um traço-baixo:\n",
    "\n",
    "```\n",
    "*texto em itálico usando asterisco* \n",
    "\n",
    "_texto em itálico usando traço baixo_\n",
    "```\n",
    "\n",
    "<div class=\"alert alert-success\">RESULTADO:</div>\n",
    "\n",
    "*texto em itálico usando asterisco* \n",
    "\n",
    "_texto em itálico usando traço baixo_\n"
   ]
  },
  {
   "cell_type": "markdown",
   "id": "cbbfa86e-1e2b-420d-9863-f8cd3789a008",
   "metadata": {
    "jp-MarkdownHeadingCollapsed": true,
    "tags": []
   },
   "source": [
    "## Caracteres reservados:"
   ]
  },
  {
   "cell_type": "markdown",
   "id": "c0c60242",
   "metadata": {
    "jp-MarkdownHeadingCollapsed": true,
    "slideshow": {
     "slide_type": "fragment"
    },
    "tags": []
   },
   "source": [
    "<div class=\"alert alert-warning\">SINTAXE:</div>\n",
    "\n",
    "Insira o caracter `\\` antes do caracter:\n",
    "\n",
    "```\n",
    "\\*\n",
    "\n",
    "\\_\n",
    "\n",
    "\\$\n",
    "```\n",
    "\n",
    "<div class=\"alert alert-success\">RESULTADO:</div>\n",
    "\n",
    "\\*\n",
    "\n",
    "\\_\n",
    "\n",
    "\\$\n",
    "\n"
   ]
  },
  {
   "cell_type": "markdown",
   "id": "175ee0d4-7ba2-4a2a-add3-153d0014d416",
   "metadata": {
    "jp-MarkdownHeadingCollapsed": true,
    "tags": []
   },
   "source": [
    "## Imagem"
   ]
  },
  {
   "cell_type": "markdown",
   "id": "4dad0c39",
   "metadata": {
    "jp-MarkdownHeadingCollapsed": true,
    "slideshow": {
     "slide_type": "fragment"
    },
    "tags": []
   },
   "source": [
    "<div class=\"alert alert-warning\">SINTAXE:</div>\n",
    "\n",
    "* Método 1: \n",
    "\n",
    "Utilizando a sintaxe Markdown:\n",
    "\n",
    "`![Título da imagem](figuras/lena.png)`\n",
    "\n",
    "<div class=\"alert alert-success\">RESULTADO:</div>\n",
    "\n",
    "![Título da imagem](figuras/lena.png)\n",
    "\n",
    "\n",
    "<div class=\"alert alert-warning\">SINTAXE:</div>\n",
    "\n",
    "* Método 2: \n",
    "\n",
    "Utilizando a sintaxe HTML:\n",
    "\n",
    "`<img src=\"figuras/lena.png\" width=\"100\">` \n",
    "\n",
    "<div class=\"alert alert-success\">RESULTADO:</div>\n",
    "\n",
    "<img src=\"figuras/lena.png\" width=\"100\">\n",
    "\n",
    "<div class=\"alert alert-warning\">SINTAXE:</div>\n",
    "\n",
    "* Além disso, o arquivo de imagem pode estar localizado em uma pasta local, como nos exemplos acima, mas também pode estar localizado na Internet:\n",
    "\n",
    "`<img src=\"https://ufsj.edu.br/portal2-repositorio/File/prof_shiroma/ufsj.png\" width=\"50\">`\n",
    "\n",
    "<div class=\"alert alert-success\">RESULTADO:</div>\n",
    "\n",
    "<img src=\"https://ufsj.edu.br/portal2-repositorio/File/prof_shiroma/ufsj.png\" width=\"50\">\n",
    "\n"
   ]
  },
  {
   "cell_type": "markdown",
   "id": "6aa61f4a-1b7f-4dc7-92fd-fdaa96f6c989",
   "metadata": {
    "jp-MarkdownHeadingCollapsed": true,
    "tags": []
   },
   "source": [
    "<a id=\"tabela\"></a>\n",
    "## Tabela"
   ]
  },
  {
   "cell_type": "markdown",
   "id": "65c54b34",
   "metadata": {
    "jp-MarkdownHeadingCollapsed": true,
    "slideshow": {
     "slide_type": "fragment"
    },
    "tags": []
   },
   "source": [
    "<div class=\"alert alert-warning\">SINTAXE:</div>\n",
    "\n",
    "```\n",
    "| País   | População (milhões hab) | \n",
    "| --- | --- |\n",
    "| China | 1411 |\n",
    "| Índia | 1380 |\n",
    "| Estados Unidos | 331 |\n",
    "| Indonésia | 273 |\n",
    "| Paquistão | 220 |\n",
    "| Brasil | 213 |\n",
    "```\n",
    "\n",
    "<div class=\"alert alert-success\">RESULTADO:</div>\n",
    "\n",
    "| País   | População (milhões hab) | \n",
    "| --- | --- |\n",
    "| China | 1411 |\n",
    "| Índia | 1380 |\n",
    "| Estados Unidos | 331 |\n",
    "| Indonésia | 273 |\n",
    "| Paquistão | 220 |\n",
    "| Brasil | 213 |"
   ]
  },
  {
   "cell_type": "markdown",
   "id": "a2eb907f-87cd-42d8-ab90-47aa9cd81c0f",
   "metadata": {
    "jp-MarkdownHeadingCollapsed": true,
    "tags": []
   },
   "source": [
    "## Código-fonte"
   ]
  },
  {
   "cell_type": "markdown",
   "id": "064b77c1",
   "metadata": {
    "jp-MarkdownHeadingCollapsed": true,
    "slideshow": {
     "slide_type": "fragment"
    },
    "tags": []
   },
   "source": [
    "<div class=\"alert alert-warning\">SINTAXE:</div>\n",
    "\n",
    "\\`\\`\\`python\n",
    "```\n",
    "def funcao(x):\n",
    "    return x ** 2\n",
    "y = funcao(3)\n",
    "print(x)\n",
    "```\n",
    "\\`\\`\\`\n",
    "\n",
    "<div class=\"alert alert-success\">RESULTADO:</div>\n",
    "\n",
    "```python\n",
    "def funcao(x):\n",
    "    return x ** 2\n",
    "y = funcao(3)\n",
    "print(x)\n",
    "```"
   ]
  },
  {
   "cell_type": "markdown",
   "id": "25308f02-5a3c-40d9-b468-22c988f8d18d",
   "metadata": {
    "jp-MarkdownHeadingCollapsed": true,
    "tags": []
   },
   "source": [
    "## Links"
   ]
  },
  {
   "cell_type": "markdown",
   "id": "17a3a60b",
   "metadata": {
    "jp-MarkdownHeadingCollapsed": true,
    "slideshow": {
     "slide_type": "fragment"
    },
    "tags": []
   },
   "source": [
    "<div class=\"alert alert-warning\">SINTAXE:</div>\n",
    "\n",
    "A sintaxe de um link consiste na parte `[texto]`, seguida pela parte `(url)`, que é o URL ou link ao qual esta direcionado:\n",
    "\n",
    "`[Exemplos de notebooks](https://jupyter-notebook.readthedocs.io/en/stable/examples/Notebook/examples_index.html)`\n",
    "\n",
    "`[Exemplo de link para vídeo](https://www.youtube.com/watch?v=wswYxcNoi00)`\n",
    "\n",
    "`[Link interno](#tabela)`\n",
    "\n",
    "<div class=\"alert alert-success\">RESULTADO:</div>\n",
    "\n",
    "[Exemplos de notebooks](https://jupyter-notebook.readthedocs.io/en/stable/examples/Notebook/examples_index.html)\n",
    "\n",
    "[Exemplo de link para vídeo](https://www.youtube.com/watch?v=wswYxcNoi00)\n",
    "\n",
    "[Link interno](#tabela)\n"
   ]
  },
  {
   "cell_type": "markdown",
   "id": "5a77c92d-630c-433a-b6c2-405038dc212d",
   "metadata": {
    "jp-MarkdownHeadingCollapsed": true,
    "tags": []
   },
   "source": [
    "## Fórmulas matemáticas"
   ]
  },
  {
   "cell_type": "markdown",
   "id": "cc0ab93c",
   "metadata": {
    "jp-MarkdownHeadingCollapsed": true,
    "slideshow": {
     "slide_type": "fragment"
    },
    "tags": []
   },
   "source": [
    "<div class=\"alert alert-warning\">SINTAXE:</div>\n",
    "\n",
    "A sintaxe markdown do jupyter oferece suporte ao $\\LaTeX$ para produzir fórmulas matemáticas com qualidade:\n",
    "\n",
    "* Fórmulas inline: Coloque o símbolo \\\\$ antes e depois do código latex:\n",
    "\n",
    "`$e^{i \\pi} + 1 = 0$`\n",
    "\n",
    "<div class=\"alert alert-success\">RESULTADO:</div>\n",
    "\n",
    "$e^{i \\pi} + 1 = 0$.\n",
    "\n",
    "<div class=\"alert alert-warning\">SINTAXE:</div>\n",
    "\n",
    "Expressões maiores podem ser produzidas utilizando a sintaxe:\n",
    "\n",
    "```latex\n",
    "\\begin{equation}\n",
    "formula\n",
    "\\end{equation}\n",
    "```\n",
    "\n",
    "Por exemplo (Teorema de Taylor):\n",
    "\n",
    "\n",
    "```\n",
    "\\begin{aligned}\n",
    "f(x) =& f(a) + \\dfrac{f'(a)}{1!}(x-a) + \\dfrac{f''(a)}{2!}(x-a)^2 + \\ldots + \\\\\n",
    "&\\dfrac{f^{(k)}(a)}{k!}(x-a)^k + h_k(x)(x-a)^k\n",
    "\\end{aligned}\n",
    "```\n",
    "\n",
    "<div class=\"alert alert-success\">RESULTADO:</div>\n",
    "\n",
    "\\begin{aligned}\n",
    "f(x) =& f(a) + \\dfrac{f'(a)}{1!}(x-a) + \\dfrac{f''(a)}{2!}(x-a)^2 + \\ldots + \\\\\n",
    "&\\dfrac{f^{(k)}(a)}{k!}(x-a)^k + h_k(x)(x-a)^k\n",
    "\\end{aligned}\n",
    "\n",
    "\n",
    "Para saber mais:\n",
    "\n",
    "https://app.mettzer.com/latex"
   ]
  },
  {
   "cell_type": "markdown",
   "id": "9078b275-348c-44cd-bd83-f8b2a4227024",
   "metadata": {
    "jp-MarkdownHeadingCollapsed": true,
    "tags": []
   },
   "source": [
    "## HTML"
   ]
  },
  {
   "cell_type": "markdown",
   "id": "4e44319a",
   "metadata": {
    "jp-MarkdownHeadingCollapsed": true,
    "slideshow": {
     "slide_type": "fragment"
    },
    "tags": []
   },
   "source": [
    "A maioria dos visualizadores irá aceitar a inclusão de tags html para produzir formas mais elaboradas de formatação.\n",
    "Veja alguns exemplos:\n",
    "   \n",
    "<blockquote>\n",
    "    Citação de um texto usando blockquote<br>\n",
    "    Próxima linha\n",
    "</blockquote>\n",
    "\n",
    "<span style='color:Red'>Texto em vermelho.</span>\n",
    "\n",
    "<span style='background:yellow'> Texto com fundo amarelo  </span>\n",
    "\n",
    "<div class=\"alert alert-success\">\n",
    "  <strong>Success!</strong> Classe alert alert-success - fundo verde.\n",
    "</div>\n",
    "\n",
    "<div class=\"alert alert-info\">\n",
    "  <strong>Info!</strong> Classe alert alert-info - fundo azul.\n",
    "</div>\n",
    "\n",
    "<div class=\"alert alert-warning\">\n",
    "  <strong>Warning!</strong> Classe alert alert-warning - fundo pastel.\n",
    "</div>\n",
    "\n",
    "<div class=\"alert alert-danger\">\n",
    "  <strong>Danger!</strong> Classe alert alert-danger - fundo roxo.\n",
    "</div>"
   ]
  },
  {
   "cell_type": "markdown",
   "id": "4d3f8b21",
   "metadata": {
    "slideshow": {
     "slide_type": "fragment"
    },
    "tags": []
   },
   "source": [
    "## Células de código: Hello world"
   ]
  },
  {
   "cell_type": "markdown",
   "id": "d2979fc4",
   "metadata": {
    "slideshow": {
     "slide_type": "fragment"
    }
   },
   "source": [
    "A seguir, vamos escrever um trecho de código que escreve o texto \"Hello world\" na tela:"
   ]
  },
  {
   "cell_type": "code",
   "execution_count": 2,
   "id": "19ffc622",
   "metadata": {
    "scrolled": true,
    "slideshow": {
     "slide_type": "fragment"
    }
   },
   "outputs": [
    {
     "name": "stdout",
     "output_type": "stream",
     "text": [
      "Hello world!\n"
     ]
    }
   ],
   "source": [
    "print(\"Hello world!\")"
   ]
  }
 ],
 "metadata": {
  "kernelspec": {
   "display_name": "Python 3 (ipykernel)",
   "language": "python",
   "name": "python3"
  },
  "language_info": {
   "codemirror_mode": {
    "name": "ipython",
    "version": 3
   },
   "file_extension": ".py",
   "mimetype": "text/x-python",
   "name": "python",
   "nbconvert_exporter": "python",
   "pygments_lexer": "ipython3",
   "version": "3.10.10"
  },
  "toc-autonumbering": true,
  "toc-showcode": false,
  "toc-showmarkdowntxt": false,
  "toc-showtags": false
 },
 "nbformat": 4,
 "nbformat_minor": 5
}
